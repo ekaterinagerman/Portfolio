{
 "cells": [
  {
   "cell_type": "markdown",
   "metadata": {},
   "source": [
    "# Дашборд для интернет-магазина товаров для дома и быта \"Пока все еще тут\"\n",
    "\n",
    "Для магазина подготовлен дашборд для определения количества покупок по дням. \n",
    "В дашборде представлены следующие графики: \n",
    "\n",
    "1) Диаграмма количества покупок по дням;\n",
    "\n",
    "2) Диаграмма процента заказа по продуктовым группам; \n",
    "\n",
    "3) Диаграмма количества покупок по продуктовым группам за заданный период. \n",
    "\n",
    "Ссылка на дашборд: <https://public.tableau.com/app/profile/ekaterina.tinkova/viz/Purchasescountondailybasis-E-Commercedashboard/sheet4#1>"
   ]
  }
 ],
 "metadata": {
  "ExecuteTimeLog": [
   {
    "duration": 8117,
    "start_time": "2023-08-30T18:10:18.773Z"
   },
   {
    "duration": 110,
    "start_time": "2023-08-30T18:11:00.404Z"
   },
   {
    "duration": 77,
    "start_time": "2023-08-30T18:14:50.269Z"
   },
   {
    "duration": 287,
    "start_time": "2023-08-30T18:27:07.551Z"
   },
   {
    "duration": 66,
    "start_time": "2023-08-30T18:30:46.605Z"
   }
  ],
  "kernelspec": {
   "display_name": "Python 3 (ipykernel)",
   "language": "python",
   "name": "python3"
  },
  "language_info": {
   "codemirror_mode": {
    "name": "ipython",
    "version": 3
   },
   "file_extension": ".py",
   "mimetype": "text/x-python",
   "name": "python",
   "nbconvert_exporter": "python",
   "pygments_lexer": "ipython3",
   "version": "3.9.5"
  },
  "toc": {
   "base_numbering": 1,
   "nav_menu": {},
   "number_sections": true,
   "sideBar": true,
   "skip_h1_title": true,
   "title_cell": "Table of Contents",
   "title_sidebar": "Contents",
   "toc_cell": false,
   "toc_position": {},
   "toc_section_display": true,
   "toc_window_display": false
  }
 },
 "nbformat": 4,
 "nbformat_minor": 2
}
