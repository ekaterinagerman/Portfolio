{
 "cells": [
  {
   "cell_type": "markdown",
   "metadata": {},
   "source": [
    "<div style=\"border:solid Chocolate 2px; padding: 40px\">\n",
    "\n",
    "<b>Екатерина, привет!👋</b>\n",
    "\n",
    "Меня зовут Арина Уксусова, я буду ревьюером твоего проекта. Ты можешь обращаться ко мне на \"ты\"😏 Надеюсь, тебя также не смутит, если я буду обращаться к тебе на ты, но если это не удобно, обязательно скажи об этом!\n",
    "\n",
    "Пожалуйста, не удаляй мои комментарии, они будут особенно полезны для нашей работы в случае повторной проверки проекта. \n",
    "\n",
    "Ты также можешь реагировать на мои комментарии своими, выделяя их цветами и наиболее понравившимся тебе способом оформления, но явно  отличающимся от моих комментариев. Это нужно, чтобы не создавалась путаница😉\n",
    "\n",
    "Ты можешь найти мои комментарии, обозначенные <font color='green'>зеленым</font>, <font color='gold'>желтым</font> и <font color='red'>красным</font> цветами, например:\n",
    "\n",
    "<br/>\n",
    "\n",
    "<div class=\"alert alert-success\">\n",
    "<h2> Комментарий ревьюера <a class=\"tocSkip\"> </h2>\n",
    "\n",
    "<b>Все отлично!👍:</b> В случае, если решение на отдельном шаге является полностью правильным.\n",
    "</div>\n",
    "\n",
    "<br/>\n",
    "\n",
    "<div class=\"alert alert-warning\">\n",
    "    <h2> Комментарий ревьюера <a class=\"tocSkip\"> </h2>\n",
    "    \n",
    "<b>Некоторые замечания и рекомендации💡:</b> В случае, когда решение на отдельном шаге станет еще лучше, если внести небольшие коррективы.\n",
    "</div>\n",
    "    \n",
    "<br/>\n",
    "\n",
    "\n",
    "<div class=\"alert alert-block alert-danger\">\n",
    "<h2> Комментарий ревьюера <a class=\"tocSkip\"></h2>\n",
    "\n",
    "    \n",
    "<b>На доработку🤔:</b> В случае, когда решение на отдельном шаге требует существенной переработки и внесения правок. Напоминаю, что проект не может быть принят с первого раза, если ревью содержит комментарии, рекомендующие доработать шаги.\n",
    "</div>\n",
    "    \n",
    "Увидев у тебя ошибку, в первый раз я лишь укажу на ее наличие и дам тебе возможность самой найти и исправить ее. На реальной работе твой руководитель будет поступать также, и я пытаюсь подготовить тебя именно к работе аналитиком. Но если ты пока не справишься с такой задачей - при следующей проверке я дам более точную подсказку!🤓"
   ]
  },
  {
   "cell_type": "markdown",
   "metadata": {},
   "source": [
    "<div style=\"padding: 40px\">\n",
    "<b>ОПИСАНИЕ ПРОЕКТА</b>\n",
    "\n",
    "Вы — аналитик крупного интернет-магазина. Вместе с отделом маркетинга вы подготовили список гипотез для увеличения выручки.\n",
    "Приоритизируйте гипотезы, запустите A/B-тест и проанализируйте результаты.\n",
    "\n",
    "На основании проведенного решения перед вами стоит задача принять один из трех возможных вариантов решения: \n",
    "    \n",
    "    1. Остановить тест, зафиксировать победу одной из групп. \n",
    "    \n",
    "    2. Остановить тест, зафиксировать отсутствие различий между группами. \n",
    "    \n",
    "    3. Продолжить тест.\n"
   ]
  },
  {
   "cell_type": "markdown",
   "metadata": {},
   "source": [
    "## Импорт данных и их предварительная обработка для анализа"
   ]
  },
  {
   "cell_type": "markdown",
   "metadata": {},
   "source": [
    "Импортируем библиотеки: pandas, numpy, seaborn, matplotlib.pyplot, datetime, spicy.stats и сохраним их в качестве переменных pd, plt, sns, np и stats соответственно."
   ]
  },
  {
   "cell_type": "code",
   "execution_count": 1,
   "metadata": {},
   "outputs": [],
   "source": [
    "import pandas as pd #импортируем библиотеку pandas \n",
    "import numpy as np #импортируем библиотеку numpy \n",
    "import seaborn as sns #импортируем библиотеку seaborn\n",
    "import matplotlib.pyplot as plt #импортируем библиотеку matplotlib.pyplot\n",
    "pd.set_option('display.max_columns', None) #увеличеним максимальное количество отображаемых столбцов таблицы с данными\n",
    "from datetime import date, datetime, timedelta \n",
    "import scipy.stats as stats"
   ]
  },
  {
   "cell_type": "markdown",
   "metadata": {},
   "source": [
    "Загрузим данные из импортируемых источников, содержащих сведения о гипотезах, заказах, посетителях и сохраним их в соответствующих переменных: hypothesis (гипотезы), orders (заказы), visitors (посетители)."
   ]
  },
  {
   "cell_type": "code",
   "execution_count": 2,
   "metadata": {},
   "outputs": [],
   "source": [
    "hypothesis = pd.read_csv('/datasets/hypothesis.csv')\n",
    "orders = pd.read_csv('/datasets/orders.csv')\n",
    "visitors = pd.read_csv('/datasets/visitors.csv')"
   ]
  },
  {
   "attachments": {
    "image.png": {
     "image/png": "[encoded data removed]"
    }
   },
   "cell_type": "markdown",
   "metadata": {},
   "source": [
    "<div class=\"alert alert-warning\">\n",
    "    <h2> Комментарий ревьюера <a class=\"tocSkip\"> </h2>\n",
    "    \n",
    "<b>Некоторые замечания и рекомендации💡:</b> \n",
    "        \n",
    "Для подгрузки данных можно использовать конструкцию `try-except`, она поможет избежать потенциальных ошибок при загрузке данных, связанных, например, с некорректным указанием путей.\n",
    "        \n",
    "Подробнее о конструкции по ссылке:\n",
    "        \n",
    "https://pythonworld.ru/tipy-dannyx-v-python/isklyucheniya-v-python-konstrukciya-try-except-dlya-obrabotki-isklyuchenij.html\n",
    "        \n",
    "Несколько интересных статей кейсы использования конструкции:\n",
    "    \n",
    "https://www.programiz.com/python-programming/exception-handling\n",
    "    \n",
    "https://towardsdatascience.com/do-not-abuse-try-except-in-python-d9b8ee59e23b\n",
    "    \n",
    "https://www.techbeamers.com/use-try-except-python/\n",
    "        \n",
    "Как вариант в try можно указать корректные пути (в нашем случае глобальные) в except - некорректные (локальные). Можно также специфицровать тип ошибки, FileNotFoundError или задать кастомный тип ошибки (FilePathError, например)\n",
    "        \n",
    "Она полезна, если ты работаешь локально, а потом подгружаешь проект на платформу. Конструкция позволит не падать коду и локально, и на сервере ЯП, так как если не сработает один блок с путями, сработает другой.\n",
    "        \n",
    "Либо же можно использовать стандартную библиотеку os:\n",
    "        \n",
    "https://pythonworld.ru/moduli/modul-os.html\n",
    "        \n",
    "Пример функции для подгрузки данных с использованием библиотеки os:\n",
    "        \n",
    "![image.png](attachment:image.png)"
   ]
  },
  {
   "cell_type": "markdown",
   "metadata": {},
   "source": [
    "Для последующей предобработки данных необходимо посмотреть ключевую информацию о составе каждого из источников данных:\n",
    "\n",
    "1) данные о гипотезах (hypothesis) - выведем первые 10 строчек таблицы на экран и с помощью оператора info() - основную информацию о таблице с данными и посмотрим количество ненулевых значений в каждом столбце таблицы."
   ]
  },
  {
   "cell_type": "code",
   "execution_count": 3,
   "metadata": {},
   "outputs": [
    {
     "data": {
      "text/html": [
       "<div>\n",
       "<style scoped>\n",
       "    .dataframe tbody tr th:only-of-type {\n",
       "        vertical-align: middle;\n",
       "    }\n",
       "\n",
       "    .dataframe tbody tr th {\n",
       "        vertical-align: top;\n",
       "    }\n",
       "\n",
       "    .dataframe thead th {\n",
       "        text-align: right;\n",
       "    }\n",
       "</style>\n",
       "<table border=\"1\" class=\"dataframe\">\n",
       "  <thead>\n",
       "    <tr style=\"text-align: right;\">\n",
       "      <th></th>\n",
       "      <th>Hypothesis</th>\n",
       "      <th>Reach</th>\n",
       "      <th>Impact</th>\n",
       "      <th>Confidence</th>\n",
       "      <th>Efforts</th>\n",
       "    </tr>\n",
       "  </thead>\n",
       "  <tbody>\n",
       "    <tr>\n",
       "      <th>0</th>\n",
       "      <td>Добавить два новых канала привлечения трафика,...</td>\n",
       "      <td>3</td>\n",
       "      <td>10</td>\n",
       "      <td>8</td>\n",
       "      <td>6</td>\n",
       "    </tr>\n",
       "    <tr>\n",
       "      <th>1</th>\n",
       "      <td>Запустить собственную службу доставки, что сок...</td>\n",
       "      <td>2</td>\n",
       "      <td>5</td>\n",
       "      <td>4</td>\n",
       "      <td>10</td>\n",
       "    </tr>\n",
       "    <tr>\n",
       "      <th>2</th>\n",
       "      <td>Добавить блоки рекомендаций товаров на сайт ин...</td>\n",
       "      <td>8</td>\n",
       "      <td>3</td>\n",
       "      <td>7</td>\n",
       "      <td>3</td>\n",
       "    </tr>\n",
       "    <tr>\n",
       "      <th>3</th>\n",
       "      <td>Изменить структура категорий, что увеличит кон...</td>\n",
       "      <td>8</td>\n",
       "      <td>3</td>\n",
       "      <td>3</td>\n",
       "      <td>8</td>\n",
       "    </tr>\n",
       "    <tr>\n",
       "      <th>4</th>\n",
       "      <td>Изменить цвет фона главной страницы, чтобы уве...</td>\n",
       "      <td>3</td>\n",
       "      <td>1</td>\n",
       "      <td>1</td>\n",
       "      <td>1</td>\n",
       "    </tr>\n",
       "    <tr>\n",
       "      <th>5</th>\n",
       "      <td>Добавить страницу отзывов клиентов о магазине,...</td>\n",
       "      <td>3</td>\n",
       "      <td>2</td>\n",
       "      <td>2</td>\n",
       "      <td>3</td>\n",
       "    </tr>\n",
       "    <tr>\n",
       "      <th>6</th>\n",
       "      <td>Показать на главной странице баннеры с актуаль...</td>\n",
       "      <td>5</td>\n",
       "      <td>3</td>\n",
       "      <td>8</td>\n",
       "      <td>3</td>\n",
       "    </tr>\n",
       "    <tr>\n",
       "      <th>7</th>\n",
       "      <td>Добавить форму подписки на все основные страни...</td>\n",
       "      <td>10</td>\n",
       "      <td>7</td>\n",
       "      <td>8</td>\n",
       "      <td>5</td>\n",
       "    </tr>\n",
       "    <tr>\n",
       "      <th>8</th>\n",
       "      <td>Запустить акцию, дающую скидку на товар в день...</td>\n",
       "      <td>1</td>\n",
       "      <td>9</td>\n",
       "      <td>9</td>\n",
       "      <td>5</td>\n",
       "    </tr>\n",
       "  </tbody>\n",
       "</table>\n",
       "</div>"
      ],
      "text/plain": [
       "                                          Hypothesis  Reach  Impact  \\\n",
       "0  Добавить два новых канала привлечения трафика,...      3      10   \n",
       "1  Запустить собственную службу доставки, что сок...      2       5   \n",
       "2  Добавить блоки рекомендаций товаров на сайт ин...      8       3   \n",
       "3  Изменить структура категорий, что увеличит кон...      8       3   \n",
       "4  Изменить цвет фона главной страницы, чтобы уве...      3       1   \n",
       "5  Добавить страницу отзывов клиентов о магазине,...      3       2   \n",
       "6  Показать на главной странице баннеры с актуаль...      5       3   \n",
       "7  Добавить форму подписки на все основные страни...     10       7   \n",
       "8  Запустить акцию, дающую скидку на товар в день...      1       9   \n",
       "\n",
       "   Confidence  Efforts  \n",
       "0           8        6  \n",
       "1           4       10  \n",
       "2           7        3  \n",
       "3           3        8  \n",
       "4           1        1  \n",
       "5           2        3  \n",
       "6           8        3  \n",
       "7           8        5  \n",
       "8           9        5  "
      ]
     },
     "execution_count": 3,
     "metadata": {},
     "output_type": "execute_result"
    }
   ],
   "source": [
    "hypothesis.head(10)"
   ]
  },
  {
   "cell_type": "code",
   "execution_count": 4,
   "metadata": {},
   "outputs": [
    {
     "name": "stdout",
     "output_type": "stream",
     "text": [
      "<class 'pandas.core.frame.DataFrame'>\n",
      "RangeIndex: 9 entries, 0 to 8\n",
      "Data columns (total 5 columns):\n",
      " #   Column      Non-Null Count  Dtype \n",
      "---  ------      --------------  ----- \n",
      " 0   Hypothesis  9 non-null      object\n",
      " 1   Reach       9 non-null      int64 \n",
      " 2   Impact      9 non-null      int64 \n",
      " 3   Confidence  9 non-null      int64 \n",
      " 4   Efforts     9 non-null      int64 \n",
      "dtypes: int64(4), object(1)\n",
      "memory usage: 488.0+ bytes\n"
     ]
    }
   ],
   "source": [
    "hypothesis.info()"
   ]
  },
  {
   "cell_type": "markdown",
   "metadata": {},
   "source": [
    "2) Применим метод isna(), чтобы убедиться, что в диапазоне данных нет пропущенных значений."
   ]
  },
  {
   "cell_type": "code",
   "execution_count": 5,
   "metadata": {},
   "outputs": [
    {
     "data": {
      "text/plain": [
       "Hypothesis    0\n",
       "Reach         0\n",
       "Impact        0\n",
       "Confidence    0\n",
       "Efforts       0\n",
       "dtype: int64"
      ]
     },
     "execution_count": 5,
     "metadata": {},
     "output_type": "execute_result"
    }
   ],
   "source": [
    "hypothesis.isna().sum()"
   ]
  },
  {
   "cell_type": "markdown",
   "metadata": {},
   "source": [
    "3) Как видно из операторов info() и isna() датасет hypothesis не содержит пропуски значений в столбцах. Однако наименования столбцов таблицы не приведены к змеиному регистру. Приведем наименования столбцов к змеиному регистру. "
   ]
  },
  {
   "cell_type": "code",
   "execution_count": 6,
   "metadata": {},
   "outputs": [
    {
     "data": {
      "text/html": [
       "<div>\n",
       "<style scoped>\n",
       "    .dataframe tbody tr th:only-of-type {\n",
       "        vertical-align: middle;\n",
       "    }\n",
       "\n",
       "    .dataframe tbody tr th {\n",
       "        vertical-align: top;\n",
       "    }\n",
       "\n",
       "    .dataframe thead th {\n",
       "        text-align: right;\n",
       "    }\n",
       "</style>\n",
       "<table border=\"1\" class=\"dataframe\">\n",
       "  <thead>\n",
       "    <tr style=\"text-align: right;\">\n",
       "      <th></th>\n",
       "      <th>hypothesis</th>\n",
       "      <th>reach</th>\n",
       "      <th>impact</th>\n",
       "      <th>confidence</th>\n",
       "      <th>efforts</th>\n",
       "    </tr>\n",
       "  </thead>\n",
       "  <tbody>\n",
       "    <tr>\n",
       "      <th>0</th>\n",
       "      <td>Добавить два новых канала привлечения трафика,...</td>\n",
       "      <td>3</td>\n",
       "      <td>10</td>\n",
       "      <td>8</td>\n",
       "      <td>6</td>\n",
       "    </tr>\n",
       "    <tr>\n",
       "      <th>1</th>\n",
       "      <td>Запустить собственную службу доставки, что сок...</td>\n",
       "      <td>2</td>\n",
       "      <td>5</td>\n",
       "      <td>4</td>\n",
       "      <td>10</td>\n",
       "    </tr>\n",
       "    <tr>\n",
       "      <th>2</th>\n",
       "      <td>Добавить блоки рекомендаций товаров на сайт ин...</td>\n",
       "      <td>8</td>\n",
       "      <td>3</td>\n",
       "      <td>7</td>\n",
       "      <td>3</td>\n",
       "    </tr>\n",
       "    <tr>\n",
       "      <th>3</th>\n",
       "      <td>Изменить структура категорий, что увеличит кон...</td>\n",
       "      <td>8</td>\n",
       "      <td>3</td>\n",
       "      <td>3</td>\n",
       "      <td>8</td>\n",
       "    </tr>\n",
       "    <tr>\n",
       "      <th>4</th>\n",
       "      <td>Изменить цвет фона главной страницы, чтобы уве...</td>\n",
       "      <td>3</td>\n",
       "      <td>1</td>\n",
       "      <td>1</td>\n",
       "      <td>1</td>\n",
       "    </tr>\n",
       "    <tr>\n",
       "      <th>5</th>\n",
       "      <td>Добавить страницу отзывов клиентов о магазине,...</td>\n",
       "      <td>3</td>\n",
       "      <td>2</td>\n",
       "      <td>2</td>\n",
       "      <td>3</td>\n",
       "    </tr>\n",
       "    <tr>\n",
       "      <th>6</th>\n",
       "      <td>Показать на главной странице баннеры с актуаль...</td>\n",
       "      <td>5</td>\n",
       "      <td>3</td>\n",
       "      <td>8</td>\n",
       "      <td>3</td>\n",
       "    </tr>\n",
       "    <tr>\n",
       "      <th>7</th>\n",
       "      <td>Добавить форму подписки на все основные страни...</td>\n",
       "      <td>10</td>\n",
       "      <td>7</td>\n",
       "      <td>8</td>\n",
       "      <td>5</td>\n",
       "    </tr>\n",
       "    <tr>\n",
       "      <th>8</th>\n",
       "      <td>Запустить акцию, дающую скидку на товар в день...</td>\n",
       "      <td>1</td>\n",
       "      <td>9</td>\n",
       "      <td>9</td>\n",
       "      <td>5</td>\n",
       "    </tr>\n",
       "  </tbody>\n",
       "</table>\n",
       "</div>"
      ],
      "text/plain": [
       "                                          hypothesis  reach  impact  \\\n",
       "0  Добавить два новых канала привлечения трафика,...      3      10   \n",
       "1  Запустить собственную службу доставки, что сок...      2       5   \n",
       "2  Добавить блоки рекомендаций товаров на сайт ин...      8       3   \n",
       "3  Изменить структура категорий, что увеличит кон...      8       3   \n",
       "4  Изменить цвет фона главной страницы, чтобы уве...      3       1   \n",
       "5  Добавить страницу отзывов клиентов о магазине,...      3       2   \n",
       "6  Показать на главной странице баннеры с актуаль...      5       3   \n",
       "7  Добавить форму подписки на все основные страни...     10       7   \n",
       "8  Запустить акцию, дающую скидку на товар в день...      1       9   \n",
       "\n",
       "   confidence  efforts  \n",
       "0           8        6  \n",
       "1           4       10  \n",
       "2           7        3  \n",
       "3           3        8  \n",
       "4           1        1  \n",
       "5           2        3  \n",
       "6           8        3  \n",
       "7           8        5  \n",
       "8           9        5  "
      ]
     },
     "execution_count": 6,
     "metadata": {},
     "output_type": "execute_result"
    }
   ],
   "source": [
    "#приведение столбцов к змеиному регистру\n",
    "hypothesis.columns = ['hypothesis', 'reach', 'impact', 'confidence', 'efforts']\n",
    "hypothesis.head(10) #убедимся, что наименование колонок приведено к змеиному регистру"
   ]
  },
  {
   "cell_type": "markdown",
   "metadata": {},
   "source": [
    "4) Убедимся в отсутствии дубликатов с помощью операторов duplicated() и sum()."
   ]
  },
  {
   "cell_type": "code",
   "execution_count": 7,
   "metadata": {},
   "outputs": [
    {
     "data": {
      "text/plain": [
       "0"
      ]
     },
     "execution_count": 7,
     "metadata": {},
     "output_type": "execute_result"
    }
   ],
   "source": [
    "hypothesis.duplicated().sum()"
   ]
  },
  {
   "cell_type": "markdown",
   "metadata": {},
   "source": [
    "Проделаем аналогичные действия для датасетов orders и visitors."
   ]
  },
  {
   "cell_type": "code",
   "execution_count": 8,
   "metadata": {},
   "outputs": [
    {
     "data": {
      "text/html": [
       "<div>\n",
       "<style scoped>\n",
       "    .dataframe tbody tr th:only-of-type {\n",
       "        vertical-align: middle;\n",
       "    }\n",
       "\n",
       "    .dataframe tbody tr th {\n",
       "        vertical-align: top;\n",
       "    }\n",
       "\n",
       "    .dataframe thead th {\n",
       "        text-align: right;\n",
       "    }\n",
       "</style>\n",
       "<table border=\"1\" class=\"dataframe\">\n",
       "  <thead>\n",
       "    <tr style=\"text-align: right;\">\n",
       "      <th></th>\n",
       "      <th>transactionId</th>\n",
       "      <th>visitorId</th>\n",
       "      <th>date</th>\n",
       "      <th>revenue</th>\n",
       "      <th>group</th>\n",
       "    </tr>\n",
       "  </thead>\n",
       "  <tbody>\n",
       "    <tr>\n",
       "      <th>0</th>\n",
       "      <td>3667963787</td>\n",
       "      <td>3312258926</td>\n",
       "      <td>2019-08-15</td>\n",
       "      <td>1650</td>\n",
       "      <td>B</td>\n",
       "    </tr>\n",
       "    <tr>\n",
       "      <th>1</th>\n",
       "      <td>2804400009</td>\n",
       "      <td>3642806036</td>\n",
       "      <td>2019-08-15</td>\n",
       "      <td>730</td>\n",
       "      <td>B</td>\n",
       "    </tr>\n",
       "    <tr>\n",
       "      <th>2</th>\n",
       "      <td>2961555356</td>\n",
       "      <td>4069496402</td>\n",
       "      <td>2019-08-15</td>\n",
       "      <td>400</td>\n",
       "      <td>A</td>\n",
       "    </tr>\n",
       "    <tr>\n",
       "      <th>3</th>\n",
       "      <td>3797467345</td>\n",
       "      <td>1196621759</td>\n",
       "      <td>2019-08-15</td>\n",
       "      <td>9759</td>\n",
       "      <td>B</td>\n",
       "    </tr>\n",
       "    <tr>\n",
       "      <th>4</th>\n",
       "      <td>2282983706</td>\n",
       "      <td>2322279887</td>\n",
       "      <td>2019-08-15</td>\n",
       "      <td>2308</td>\n",
       "      <td>B</td>\n",
       "    </tr>\n",
       "    <tr>\n",
       "      <th>5</th>\n",
       "      <td>182168103</td>\n",
       "      <td>935554773</td>\n",
       "      <td>2019-08-15</td>\n",
       "      <td>2210</td>\n",
       "      <td>B</td>\n",
       "    </tr>\n",
       "    <tr>\n",
       "      <th>6</th>\n",
       "      <td>398296753</td>\n",
       "      <td>2900797465</td>\n",
       "      <td>2019-08-15</td>\n",
       "      <td>1860</td>\n",
       "      <td>B</td>\n",
       "    </tr>\n",
       "    <tr>\n",
       "      <th>7</th>\n",
       "      <td>2626614568</td>\n",
       "      <td>78758296</td>\n",
       "      <td>2019-08-15</td>\n",
       "      <td>1044</td>\n",
       "      <td>A</td>\n",
       "    </tr>\n",
       "    <tr>\n",
       "      <th>8</th>\n",
       "      <td>1576988021</td>\n",
       "      <td>295230930</td>\n",
       "      <td>2019-08-15</td>\n",
       "      <td>13710</td>\n",
       "      <td>A</td>\n",
       "    </tr>\n",
       "    <tr>\n",
       "      <th>9</th>\n",
       "      <td>1506739906</td>\n",
       "      <td>1882260405</td>\n",
       "      <td>2019-08-15</td>\n",
       "      <td>1855</td>\n",
       "      <td>B</td>\n",
       "    </tr>\n",
       "  </tbody>\n",
       "</table>\n",
       "</div>"
      ],
      "text/plain": [
       "   transactionId   visitorId        date  revenue group\n",
       "0     3667963787  3312258926  2019-08-15     1650     B\n",
       "1     2804400009  3642806036  2019-08-15      730     B\n",
       "2     2961555356  4069496402  2019-08-15      400     A\n",
       "3     3797467345  1196621759  2019-08-15     9759     B\n",
       "4     2282983706  2322279887  2019-08-15     2308     B\n",
       "5      182168103   935554773  2019-08-15     2210     B\n",
       "6      398296753  2900797465  2019-08-15     1860     B\n",
       "7     2626614568    78758296  2019-08-15     1044     A\n",
       "8     1576988021   295230930  2019-08-15    13710     A\n",
       "9     1506739906  1882260405  2019-08-15     1855     B"
      ]
     },
     "execution_count": 8,
     "metadata": {},
     "output_type": "execute_result"
    }
   ],
   "source": [
    "orders.head(10)"
   ]
  },
  {
   "cell_type": "code",
   "execution_count": 9,
   "metadata": {
    "scrolled": true
   },
   "outputs": [
    {
     "name": "stdout",
     "output_type": "stream",
     "text": [
      "<class 'pandas.core.frame.DataFrame'>\n",
      "RangeIndex: 1197 entries, 0 to 1196\n",
      "Data columns (total 5 columns):\n",
      " #   Column         Non-Null Count  Dtype \n",
      "---  ------         --------------  ----- \n",
      " 0   transactionId  1197 non-null   int64 \n",
      " 1   visitorId      1197 non-null   int64 \n",
      " 2   date           1197 non-null   object\n",
      " 3   revenue        1197 non-null   int64 \n",
      " 4   group          1197 non-null   object\n",
      "dtypes: int64(3), object(2)\n",
      "memory usage: 46.9+ KB\n"
     ]
    }
   ],
   "source": [
    "orders.info()"
   ]
  },
  {
   "cell_type": "code",
   "execution_count": 10,
   "metadata": {},
   "outputs": [
    {
     "data": {
      "text/plain": [
       "transactionId    0\n",
       "visitorId        0\n",
       "date             0\n",
       "revenue          0\n",
       "group            0\n",
       "dtype: int64"
      ]
     },
     "execution_count": 10,
     "metadata": {},
     "output_type": "execute_result"
    }
   ],
   "source": [
    "orders.isna().sum() #применим метод isna(), чтобы убедиться, что в диапазоне данных нет пропущенных значений"
   ]
  },
  {
   "cell_type": "markdown",
   "metadata": {},
   "source": [
    "Как видно из операторов info() и isna() датасет orders не содержит пропуски значений в столбцах, а методы duplicated() и sum() позволили убедиться в отсутствии дубликатов. Однако наименования столбцов таблицы также не приведены к змеиному регистру.\n",
    "\n",
    "Кроме того, третья колонка диапазона данных содержит информации о дате посещения, однако в настоящий момент тип данных в колонке соответствует типу object, а не datetime. Необходимо также внести исправление в тип данных данной колонки с помощью оператора to_datetime."
   ]
  },
  {
   "cell_type": "code",
   "execution_count": 11,
   "metadata": {},
   "outputs": [
    {
     "name": "stdout",
     "output_type": "stream",
     "text": [
      "<class 'pandas.core.frame.DataFrame'>\n",
      "RangeIndex: 1197 entries, 0 to 1196\n",
      "Data columns (total 5 columns):\n",
      " #   Column          Non-Null Count  Dtype         \n",
      "---  ------          --------------  -----         \n",
      " 0   transaction_id  1197 non-null   int64         \n",
      " 1   visitor_id      1197 non-null   int64         \n",
      " 2   date            1197 non-null   datetime64[ns]\n",
      " 3   revenue         1197 non-null   int64         \n",
      " 4   group           1197 non-null   object        \n",
      "dtypes: datetime64[ns](1), int64(3), object(1)\n",
      "memory usage: 46.9+ KB\n"
     ]
    }
   ],
   "source": [
    "#приведение столбцов к змеиному регистру\n",
    "orders.columns = ['transaction_id', 'visitor_id', 'date', 'revenue', 'group']\n",
    "#приведение временных колонок date к временному формату с помощью оператора to_datetime\n",
    "orders['date'] = pd.to_datetime(orders['date'])\n",
    "orders.info() #убедимся, что тип данных в колонках приведен к нужному формату"
   ]
  },
  {
   "cell_type": "markdown",
   "metadata": {},
   "source": [
    "Таким образом, наименование колонок приведено к змеиному регистру, а колонка date приведена к временному формату."
   ]
  },
  {
   "cell_type": "code",
   "execution_count": 12,
   "metadata": {},
   "outputs": [
    {
     "data": {
      "text/html": [
       "<div>\n",
       "<style scoped>\n",
       "    .dataframe tbody tr th:only-of-type {\n",
       "        vertical-align: middle;\n",
       "    }\n",
       "\n",
       "    .dataframe tbody tr th {\n",
       "        vertical-align: top;\n",
       "    }\n",
       "\n",
       "    .dataframe thead th {\n",
       "        text-align: right;\n",
       "    }\n",
       "</style>\n",
       "<table border=\"1\" class=\"dataframe\">\n",
       "  <thead>\n",
       "    <tr style=\"text-align: right;\">\n",
       "      <th></th>\n",
       "      <th>date</th>\n",
       "      <th>group</th>\n",
       "      <th>visitors</th>\n",
       "    </tr>\n",
       "  </thead>\n",
       "  <tbody>\n",
       "    <tr>\n",
       "      <th>0</th>\n",
       "      <td>2019-08-01</td>\n",
       "      <td>A</td>\n",
       "      <td>719</td>\n",
       "    </tr>\n",
       "    <tr>\n",
       "      <th>1</th>\n",
       "      <td>2019-08-02</td>\n",
       "      <td>A</td>\n",
       "      <td>619</td>\n",
       "    </tr>\n",
       "    <tr>\n",
       "      <th>2</th>\n",
       "      <td>2019-08-03</td>\n",
       "      <td>A</td>\n",
       "      <td>507</td>\n",
       "    </tr>\n",
       "    <tr>\n",
       "      <th>3</th>\n",
       "      <td>2019-08-04</td>\n",
       "      <td>A</td>\n",
       "      <td>717</td>\n",
       "    </tr>\n",
       "    <tr>\n",
       "      <th>4</th>\n",
       "      <td>2019-08-05</td>\n",
       "      <td>A</td>\n",
       "      <td>756</td>\n",
       "    </tr>\n",
       "    <tr>\n",
       "      <th>5</th>\n",
       "      <td>2019-08-06</td>\n",
       "      <td>A</td>\n",
       "      <td>667</td>\n",
       "    </tr>\n",
       "    <tr>\n",
       "      <th>6</th>\n",
       "      <td>2019-08-07</td>\n",
       "      <td>A</td>\n",
       "      <td>644</td>\n",
       "    </tr>\n",
       "    <tr>\n",
       "      <th>7</th>\n",
       "      <td>2019-08-08</td>\n",
       "      <td>A</td>\n",
       "      <td>610</td>\n",
       "    </tr>\n",
       "    <tr>\n",
       "      <th>8</th>\n",
       "      <td>2019-08-09</td>\n",
       "      <td>A</td>\n",
       "      <td>617</td>\n",
       "    </tr>\n",
       "    <tr>\n",
       "      <th>9</th>\n",
       "      <td>2019-08-10</td>\n",
       "      <td>A</td>\n",
       "      <td>406</td>\n",
       "    </tr>\n",
       "  </tbody>\n",
       "</table>\n",
       "</div>"
      ],
      "text/plain": [
       "         date group  visitors\n",
       "0  2019-08-01     A       719\n",
       "1  2019-08-02     A       619\n",
       "2  2019-08-03     A       507\n",
       "3  2019-08-04     A       717\n",
       "4  2019-08-05     A       756\n",
       "5  2019-08-06     A       667\n",
       "6  2019-08-07     A       644\n",
       "7  2019-08-08     A       610\n",
       "8  2019-08-09     A       617\n",
       "9  2019-08-10     A       406"
      ]
     },
     "execution_count": 12,
     "metadata": {},
     "output_type": "execute_result"
    }
   ],
   "source": [
    "visitors.head(10)"
   ]
  },
  {
   "cell_type": "code",
   "execution_count": 13,
   "metadata": {},
   "outputs": [
    {
     "name": "stdout",
     "output_type": "stream",
     "text": [
      "<class 'pandas.core.frame.DataFrame'>\n",
      "RangeIndex: 62 entries, 0 to 61\n",
      "Data columns (total 3 columns):\n",
      " #   Column    Non-Null Count  Dtype \n",
      "---  ------    --------------  ----- \n",
      " 0   date      62 non-null     object\n",
      " 1   group     62 non-null     object\n",
      " 2   visitors  62 non-null     int64 \n",
      "dtypes: int64(1), object(2)\n",
      "memory usage: 1.6+ KB\n"
     ]
    }
   ],
   "source": [
    "visitors.info()"
   ]
  },
  {
   "cell_type": "markdown",
   "metadata": {},
   "source": [
    "Как видно из таблиц выше, наименования столбцов уже были приведены к змеиному регистру, однако первый стобец таблицы, содержащий данные о дате посещения, необходимо будет перевести тип данных в колоке к временному с помощью оператора to_datetime"
   ]
  },
  {
   "cell_type": "code",
   "execution_count": 14,
   "metadata": {},
   "outputs": [
    {
     "name": "stdout",
     "output_type": "stream",
     "text": [
      "<class 'pandas.core.frame.DataFrame'>\n",
      "RangeIndex: 62 entries, 0 to 61\n",
      "Data columns (total 3 columns):\n",
      " #   Column    Non-Null Count  Dtype         \n",
      "---  ------    --------------  -----         \n",
      " 0   date      62 non-null     datetime64[ns]\n",
      " 1   group     62 non-null     object        \n",
      " 2   visitors  62 non-null     int64         \n",
      "dtypes: datetime64[ns](1), int64(1), object(1)\n",
      "memory usage: 1.6+ KB\n"
     ]
    }
   ],
   "source": [
    "visitors['date'] = pd.to_datetime(visitors['date'])\n",
    "visitors.info() #убедимся, что тип данных в колонках приведен к нужному формату"
   ]
  },
  {
   "cell_type": "code",
   "execution_count": 15,
   "metadata": {},
   "outputs": [
    {
     "data": {
      "text/plain": [
       "date        0\n",
       "group       0\n",
       "visitors    0\n",
       "dtype: int64"
      ]
     },
     "execution_count": 15,
     "metadata": {},
     "output_type": "execute_result"
    }
   ],
   "source": [
    "visitors.isna().sum() #применим метод isna(), чтобы убедиться, что в диапазоне данных нет пропущенных значений"
   ]
  },
  {
   "cell_type": "code",
   "execution_count": 16,
   "metadata": {},
   "outputs": [
    {
     "data": {
      "text/plain": [
       "0"
      ]
     },
     "execution_count": 16,
     "metadata": {},
     "output_type": "execute_result"
    }
   ],
   "source": [
    "visitors.duplicated().sum()  #применим метод duplicated() и sum(), чтобы убедиться в отсутствии дубликатов"
   ]
  },
  {
   "cell_type": "markdown",
   "metadata": {},
   "source": [
    "Таким образом, можно сделать вывод о том, что в датасете нет задвоенных или пропусков в значении, а типы данных в колонке с датой в настоящий момент изменены c object на datetime.\n",
    "\n",
    "С помощью метода unique() выделим уникальные значения в йколоках group датасетов orders и visitors. "
   ]
  },
  {
   "cell_type": "code",
   "execution_count": 17,
   "metadata": {},
   "outputs": [
    {
     "data": {
      "text/plain": [
       "array(['A', 'B'], dtype=object)"
      ]
     },
     "execution_count": 17,
     "metadata": {},
     "output_type": "execute_result"
    }
   ],
   "source": [
    "visitors['group'].unique()"
   ]
  },
  {
   "cell_type": "code",
   "execution_count": 18,
   "metadata": {},
   "outputs": [
    {
     "data": {
      "text/plain": [
       "array(['B', 'A'], dtype=object)"
      ]
     },
     "execution_count": 18,
     "metadata": {},
     "output_type": "execute_result"
    }
   ],
   "source": [
    "orders['group'].unique()"
   ]
  },
  {
   "cell_type": "markdown",
   "metadata": {},
   "source": [
    "Таким образом, мы убедились, что для проведения А/В теста у нас имеется две группы - А и В. \n",
    "\n",
    "С помощью метода describe() выведем ключевую информацию по столбцу revenue, содержащему сведения о выручке, и с помощью метода round() округлим результат до двух знаков после запятой."
   ]
  },
  {
   "cell_type": "code",
   "execution_count": 19,
   "metadata": {},
   "outputs": [
    {
     "data": {
      "text/plain": [
       "count       1197.00\n",
       "mean        8348.01\n",
       "std        39191.13\n",
       "min           50.00\n",
       "25%         1220.00\n",
       "50%         2978.00\n",
       "75%         8290.00\n",
       "max      1294500.00\n",
       "Name: revenue, dtype: float64"
      ]
     },
     "execution_count": 19,
     "metadata": {},
     "output_type": "execute_result"
    }
   ],
   "source": [
    "round(orders['revenue'].describe(), 2)"
   ]
  },
  {
   "cell_type": "markdown",
   "metadata": {},
   "source": [
    "Как видно из данных выше, в колонке с выручкой отсутствуют отрицательные значения: минимальное значение в столбце - 50, максимальное - 1294500. Это позволяет сделать вывод о том, что данные в столбце корректные из-за отсутствия аномальных (выбивающихся) значений и дополнительных действий с данным столбцом по предобработке данных предпринимать не нужно.\n",
    "\n",
    "Применим метод describe также к столбцу visitors датасета visitors, чтобы убедиться в отсутствии аномальных (выбивающихся) значений."
   ]
  },
  {
   "cell_type": "code",
   "execution_count": 20,
   "metadata": {},
   "outputs": [
    {
     "data": {
      "text/plain": [
       "count     62.00\n",
       "mean     607.29\n",
       "std      114.40\n",
       "min      361.00\n",
       "25%      534.00\n",
       "50%      624.50\n",
       "75%      710.50\n",
       "max      770.00\n",
       "Name: visitors, dtype: float64"
      ]
     },
     "execution_count": 20,
     "metadata": {},
     "output_type": "execute_result"
    }
   ],
   "source": [
    "round(visitors['visitors'].describe(), 2)"
   ]
  },
  {
   "cell_type": "markdown",
   "metadata": {},
   "source": [
    "Как видно из данных выше, в колонке с посетителями отсутствуют отрицательные значения - минимальное значение - 361 чел., максимальное - 770 чел. \n",
    "\n",
    "Таким образом, можно сделать вывод о том, что действия по предобработке данных завершены:\n",
    "\n",
    "1) наименования столбцов датасетов приведены к змеиному регистру;\n",
    "\n",
    "2) в столбцах, содерщащих информацию о дате и времени, изменен тип данных с object на временной;\n",
    "\n",
    "3) при помощи методов isna() и duplicated(), примененных к каждому из датасетов, убедились в отсутствии дубликатов и пропусков данных;\n",
    "\n",
    "4) в столбцах, содержащих сведения о выручке и посетителях, отсутствую аномальные (отрицательные) значения;\n",
    "\n",
    "5) определены уникальные значения столбца group - А и В, что позволяет нам начать проведение А/В тестирования."
   ]
  },
  {
   "cell_type": "markdown",
   "metadata": {},
   "source": [
    "<div class=\"alert alert-warning\">\n",
    "    <h2> Комментарий ревьюера <a class=\"tocSkip\"> </h2>\n",
    "    \n",
    "<b>Некоторые замечания и рекомендации💡:</b> \n",
    "        \n",
    "        \n",
    "По основным проверкам все верно:)\n",
    "        \n",
    "Стоит также проверить, не попадают ли какие-то пользователи в обе группы - по таблице с заказами. Пересечение групп может повлиять на результаты анализа. В реальной практике тест скорее всего пришлось бы проводить заново. В рамках нашего проекта в качестве практики можно попробовать исключить таких пользователей из заказов, при этом нужно иметь в виду, что корректно исключить их из визитов не получится, так как данные в этом датасете агрегированы.\n",
    "\n",
    "P.S. Такие пользователи у нас есть, их должно получиться 58."
   ]
  },
  {
   "cell_type": "markdown",
   "metadata": {},
   "source": [
    "## Приоритизация гипотез"
   ]
  },
  {
   "cell_type": "markdown",
   "metadata": {},
   "source": [
    "Применим фреймворк ICE для приоритезации гипотез и произведем сортировку по убыванию приоритета с помощью метода sort_values()."
   ]
  },
  {
   "cell_type": "code",
   "execution_count": 21,
   "metadata": {},
   "outputs": [
    {
     "data": {
      "text/html": [
       "<div>\n",
       "<style scoped>\n",
       "    .dataframe tbody tr th:only-of-type {\n",
       "        vertical-align: middle;\n",
       "    }\n",
       "\n",
       "    .dataframe tbody tr th {\n",
       "        vertical-align: top;\n",
       "    }\n",
       "\n",
       "    .dataframe thead th {\n",
       "        text-align: right;\n",
       "    }\n",
       "</style>\n",
       "<table border=\"1\" class=\"dataframe\">\n",
       "  <thead>\n",
       "    <tr style=\"text-align: right;\">\n",
       "      <th></th>\n",
       "      <th>ICE</th>\n",
       "      <th>hypothesis</th>\n",
       "      <th>reach</th>\n",
       "    </tr>\n",
       "  </thead>\n",
       "  <tbody>\n",
       "    <tr>\n",
       "      <th>8</th>\n",
       "      <td>16.20</td>\n",
       "      <td>Запустить акцию, дающую скидку на товар в день рождения</td>\n",
       "      <td>1</td>\n",
       "    </tr>\n",
       "    <tr>\n",
       "      <th>0</th>\n",
       "      <td>13.33</td>\n",
       "      <td>Добавить два новых канала привлечения трафика, что позволит привлекать на 30% больше пользователей</td>\n",
       "      <td>3</td>\n",
       "    </tr>\n",
       "    <tr>\n",
       "      <th>7</th>\n",
       "      <td>11.20</td>\n",
       "      <td>Добавить форму подписки на все основные страницы, чтобы собрать базу клиентов для email-рассылок</td>\n",
       "      <td>10</td>\n",
       "    </tr>\n",
       "    <tr>\n",
       "      <th>6</th>\n",
       "      <td>8.00</td>\n",
       "      <td>Показать на главной странице баннеры с актуальными акциями и распродажами, чтобы увеличить конверсию</td>\n",
       "      <td>5</td>\n",
       "    </tr>\n",
       "    <tr>\n",
       "      <th>2</th>\n",
       "      <td>7.00</td>\n",
       "      <td>Добавить блоки рекомендаций товаров на сайт интернет магазина, чтобы повысить конверсию и средний чек заказа</td>\n",
       "      <td>8</td>\n",
       "    </tr>\n",
       "    <tr>\n",
       "      <th>1</th>\n",
       "      <td>2.00</td>\n",
       "      <td>Запустить собственную службу доставки, что сократит срок доставки заказов</td>\n",
       "      <td>2</td>\n",
       "    </tr>\n",
       "    <tr>\n",
       "      <th>5</th>\n",
       "      <td>1.33</td>\n",
       "      <td>Добавить страницу отзывов клиентов о магазине, что позволит увеличить количество заказов</td>\n",
       "      <td>3</td>\n",
       "    </tr>\n",
       "    <tr>\n",
       "      <th>3</th>\n",
       "      <td>1.12</td>\n",
       "      <td>Изменить структура категорий, что увеличит конверсию, т.к. пользователи быстрее найдут нужный товар</td>\n",
       "      <td>8</td>\n",
       "    </tr>\n",
       "    <tr>\n",
       "      <th>4</th>\n",
       "      <td>1.00</td>\n",
       "      <td>Изменить цвет фона главной страницы, чтобы увеличить вовлеченность пользователей</td>\n",
       "      <td>3</td>\n",
       "    </tr>\n",
       "  </tbody>\n",
       "</table>\n",
       "</div>"
      ],
      "text/plain": [
       "     ICE  \\\n",
       "8  16.20   \n",
       "0  13.33   \n",
       "7  11.20   \n",
       "6   8.00   \n",
       "2   7.00   \n",
       "1   2.00   \n",
       "5   1.33   \n",
       "3   1.12   \n",
       "4   1.00   \n",
       "\n",
       "                                                                                                     hypothesis  \\\n",
       "8                                                       Запустить акцию, дающую скидку на товар в день рождения   \n",
       "0            Добавить два новых канала привлечения трафика, что позволит привлекать на 30% больше пользователей   \n",
       "7              Добавить форму подписки на все основные страницы, чтобы собрать базу клиентов для email-рассылок   \n",
       "6          Показать на главной странице баннеры с актуальными акциями и распродажами, чтобы увеличить конверсию   \n",
       "2  Добавить блоки рекомендаций товаров на сайт интернет магазина, чтобы повысить конверсию и средний чек заказа   \n",
       "1                                     Запустить собственную службу доставки, что сократит срок доставки заказов   \n",
       "5                      Добавить страницу отзывов клиентов о магазине, что позволит увеличить количество заказов   \n",
       "3           Изменить структура категорий, что увеличит конверсию, т.к. пользователи быстрее найдут нужный товар   \n",
       "4                              Изменить цвет фона главной страницы, чтобы увеличить вовлеченность пользователей   \n",
       "\n",
       "   reach  \n",
       "8      1  \n",
       "0      3  \n",
       "7     10  \n",
       "6      5  \n",
       "2      8  \n",
       "1      2  \n",
       "5      3  \n",
       "3      8  \n",
       "4      3  "
      ]
     },
     "execution_count": 21,
     "metadata": {},
     "output_type": "execute_result"
    }
   ],
   "source": [
    "hypothesis['ICE'] = round((hypothesis['impact'] * hypothesis['confidence'] / hypothesis['efforts']),2) #приоритезируем гипотезы с помощью фреймворка ICE\n",
    "pd.set_option('display.max_colwidth', 500) #увеличим количество отображаемых символов в таблице\n",
    "hypothesis[['ICE', 'hypothesis', 'reach']].sort_values(by='ICE', ascending=False) #отсортируем гипотезы по убыванию приоритета"
   ]
  },
  {
   "cell_type": "markdown",
   "metadata": {},
   "source": [
    "Таким образом, применив фреймворк ICE, мы видим, что наиболее перспективными являются гипотезы:\n",
    "\n",
    "1) Запустить акцию, дающую скидку на товар в день рождения;\n",
    "\n",
    "2) Добавить два новых канала привлечения трафика, что позволит привлекать на 30% больше пользователей;\n",
    "\n",
    "3) Добавить форму подписки на все основные страницы, чтобы собрать базу клиентов для email-рассылок;\n",
    "\n",
    "4) Показать на главной странице баннеры с актуальными акциями и распродажами, чтобы увеличить конверсию. \n",
    "\n",
    "\n",
    "В то же время, наименее перспективными гипотезами являются: \n",
    "\n",
    "1) Добавить страницу отзывов клиентов о магазине, что позволит увеличить количество заказов;\n",
    "\n",
    "2) Изменить структура категорий, что увеличит конверсию, т.к. пользователи быстрее найдут нужный товар;\n",
    "\n",
    "3) Изменить цвет фона главной страницы, чтобы увеличить вовлеченность пользователей.\t\n",
    "\n",
    "Посмотрим, как изменится ситуация при применении метода RICE. Для этого применим фреймворк RICE для приоритезации гипотез и по аналогии с ICE произведем сортировку по убыванию приоритета с помощью метода sort_values()."
   ]
  },
  {
   "cell_type": "code",
   "execution_count": 22,
   "metadata": {},
   "outputs": [
    {
     "data": {
      "text/html": [
       "<div>\n",
       "<style scoped>\n",
       "    .dataframe tbody tr th:only-of-type {\n",
       "        vertical-align: middle;\n",
       "    }\n",
       "\n",
       "    .dataframe tbody tr th {\n",
       "        vertical-align: top;\n",
       "    }\n",
       "\n",
       "    .dataframe thead th {\n",
       "        text-align: right;\n",
       "    }\n",
       "</style>\n",
       "<table border=\"1\" class=\"dataframe\">\n",
       "  <thead>\n",
       "    <tr style=\"text-align: right;\">\n",
       "      <th></th>\n",
       "      <th>RICE</th>\n",
       "      <th>hypothesis</th>\n",
       "      <th>reach</th>\n",
       "    </tr>\n",
       "  </thead>\n",
       "  <tbody>\n",
       "    <tr>\n",
       "      <th>7</th>\n",
       "      <td>112.0</td>\n",
       "      <td>Добавить форму подписки на все основные страницы, чтобы собрать базу клиентов для email-рассылок</td>\n",
       "      <td>10</td>\n",
       "    </tr>\n",
       "    <tr>\n",
       "      <th>2</th>\n",
       "      <td>56.0</td>\n",
       "      <td>Добавить блоки рекомендаций товаров на сайт интернет магазина, чтобы повысить конверсию и средний чек заказа</td>\n",
       "      <td>8</td>\n",
       "    </tr>\n",
       "    <tr>\n",
       "      <th>0</th>\n",
       "      <td>40.0</td>\n",
       "      <td>Добавить два новых канала привлечения трафика, что позволит привлекать на 30% больше пользователей</td>\n",
       "      <td>3</td>\n",
       "    </tr>\n",
       "    <tr>\n",
       "      <th>6</th>\n",
       "      <td>40.0</td>\n",
       "      <td>Показать на главной странице баннеры с актуальными акциями и распродажами, чтобы увеличить конверсию</td>\n",
       "      <td>5</td>\n",
       "    </tr>\n",
       "    <tr>\n",
       "      <th>8</th>\n",
       "      <td>16.2</td>\n",
       "      <td>Запустить акцию, дающую скидку на товар в день рождения</td>\n",
       "      <td>1</td>\n",
       "    </tr>\n",
       "    <tr>\n",
       "      <th>3</th>\n",
       "      <td>9.0</td>\n",
       "      <td>Изменить структура категорий, что увеличит конверсию, т.к. пользователи быстрее найдут нужный товар</td>\n",
       "      <td>8</td>\n",
       "    </tr>\n",
       "    <tr>\n",
       "      <th>1</th>\n",
       "      <td>4.0</td>\n",
       "      <td>Запустить собственную службу доставки, что сократит срок доставки заказов</td>\n",
       "      <td>2</td>\n",
       "    </tr>\n",
       "    <tr>\n",
       "      <th>5</th>\n",
       "      <td>4.0</td>\n",
       "      <td>Добавить страницу отзывов клиентов о магазине, что позволит увеличить количество заказов</td>\n",
       "      <td>3</td>\n",
       "    </tr>\n",
       "    <tr>\n",
       "      <th>4</th>\n",
       "      <td>3.0</td>\n",
       "      <td>Изменить цвет фона главной страницы, чтобы увеличить вовлеченность пользователей</td>\n",
       "      <td>3</td>\n",
       "    </tr>\n",
       "  </tbody>\n",
       "</table>\n",
       "</div>"
      ],
      "text/plain": [
       "    RICE  \\\n",
       "7  112.0   \n",
       "2   56.0   \n",
       "0   40.0   \n",
       "6   40.0   \n",
       "8   16.2   \n",
       "3    9.0   \n",
       "1    4.0   \n",
       "5    4.0   \n",
       "4    3.0   \n",
       "\n",
       "                                                                                                     hypothesis  \\\n",
       "7              Добавить форму подписки на все основные страницы, чтобы собрать базу клиентов для email-рассылок   \n",
       "2  Добавить блоки рекомендаций товаров на сайт интернет магазина, чтобы повысить конверсию и средний чек заказа   \n",
       "0            Добавить два новых канала привлечения трафика, что позволит привлекать на 30% больше пользователей   \n",
       "6          Показать на главной странице баннеры с актуальными акциями и распродажами, чтобы увеличить конверсию   \n",
       "8                                                       Запустить акцию, дающую скидку на товар в день рождения   \n",
       "3           Изменить структура категорий, что увеличит конверсию, т.к. пользователи быстрее найдут нужный товар   \n",
       "1                                     Запустить собственную службу доставки, что сократит срок доставки заказов   \n",
       "5                      Добавить страницу отзывов клиентов о магазине, что позволит увеличить количество заказов   \n",
       "4                              Изменить цвет фона главной страницы, чтобы увеличить вовлеченность пользователей   \n",
       "\n",
       "   reach  \n",
       "7     10  \n",
       "2      8  \n",
       "0      3  \n",
       "6      5  \n",
       "8      1  \n",
       "3      8  \n",
       "1      2  \n",
       "5      3  \n",
       "4      3  "
      ]
     },
     "execution_count": 22,
     "metadata": {},
     "output_type": "execute_result"
    }
   ],
   "source": [
    "hypothesis['RICE'] = (hypothesis['reach'] * hypothesis['impact'] * hypothesis['confidence']) / hypothesis['efforts'] #приоритезируем гипотезы с помощью фреймворка RICE\n",
    "hypothesis[['RICE', 'hypothesis', 'reach']].sort_values(by='RICE', ascending=False) #отсортируем гипотезы по убыванию приоритета"
   ]
  },
  {
   "cell_type": "markdown",
   "metadata": {},
   "source": [
    "Применив фреймворк RICE, мы видим, что наиболее перспективными являются гипотезы:\n",
    "\n",
    "1) Добавить форму подписки на все основные страницы, чтобы собрать базу клиентов для email-рассылок;\n",
    "\n",
    "2) Добавить блоки рекомендаций товаров на сайт интернет магазина, чтобы повысить конверсию и средний чек заказа;\n",
    "\n",
    "3) Добавить два новых канала привлечения трафика, что позволит привлекать на 30% больше пользователей;\n",
    "\n",
    "4) Показать на главной странице баннеры с актуальными акциями и распродажами, чтобы увеличить конверсию. \n",
    "\n",
    "Наименее перспективные гипотезы при применении фреймворка RICE являются: \n",
    "\n",
    "1) Запустить собственную службу доставки, что сократит срок доставки заказов;\n",
    "\n",
    "2) Добавить страницу отзывов клиентов о магазине, что позволит увеличить количество заказов;\n",
    "\n",
    "3) Изменить цвет фона главной страницы, чтобы увеличить вовлеченность пользователей."
   ]
  },
  {
   "cell_type": "markdown",
   "metadata": {},
   "source": [
    "Таким образом, приоритезировав гипотезы двумя фреймами, можно сделать следующие выводы: \n",
    "\n",
    "1) При применении каждого из фреймов, меняется список приоритетных гипотез. Если при применении ICE приоритетными были гипотезы с запуском акции со скидкой в день рождения, добавлением двух новых каналов привлечения трафика и добавлением формы подписки на все основные страницы для сбора клиентской базы, то при применении RICE ситуация кардинально меняется - приоритетными становятся гипотезы с добавлением формы подписки на все основные страницы для сбора клиентской базы, добавлением блоков рекомендаций товаров на сайте интернет-магазина и добавлением двух новых каналов привлечения трафика. Т. е. данные фреймы совпали по двум гипотезам, несмотря на то, что они находятся на разных позициях в списках - добавление формы подписки на все основные страницы для сбора клиентской базы и добавление двух новых каналов привлечения трафика.\n",
    "\n",
    "2) Список наименее приоритетных гипотез при применении каждого из фреймов также меняется, однако, что при ICE, что при RICE наименее приоритетными являются гипотезы с добавлением страницы отзывов клиентов о магазине и изменением цвета фона главной страницы. \n",
    "\n",
    "3) Изменение приоритезации гипотез при применении данных фреймов изменилась из-за показателя reach, показывающего скольких пользователей затронут изменения, которые мы хотим провести. В первых лидирующих гипотезах RICE показатель reach очень высокий (10, 8, 3 и 5 соответственно), в то время как в ICE в первых лидирующих позициях ситуация другая - 1, 3, 10 и 5 соответственно. \n",
    "\n",
    "4) В соответствии с вышеперечисленным, для тестирования стоит обратить внимание на гипотезы с вовлеченностью 10, 3 и 5 - добавление формы подписки на все основные страницы для сбора клиентской базы, добавление двух новых каналов привлечения трафика и показом на главной странице баннеров с актуальными акциями и распродажами. "
   ]
  },
  {
   "cell_type": "markdown",
   "metadata": {},
   "source": [
    "<div class=\"alert alert-success\">\n",
    "<h2> Комментарий ревьюера <a class=\"tocSkip\"> </h2>\n",
    "\n",
    "<b>Все отлично!👍:</b>\n",
    "    \n",
    "Верное наблюдение про результаты по фреймворку RICE: добавление этого параметра влияет на порядок гипотез и их приоритет за счет параметра Reach."
   ]
  },
  {
   "cell_type": "markdown",
   "metadata": {},
   "source": [
    "<div class=\"alert alert-warning\">\n",
    "    <h2> Комментарий ревьюера <a class=\"tocSkip\"> </h2>\n",
    "    \n",
    "<b>Некоторые замечания и рекомендации💡:</b> \n",
    "        \n",
    "И еще несколько рекомендаций для улучшения шага (носят рекомендательный характер и являются развивающей обратной связью, при желании и возможности можно имплементировать часть (или все) рекомендации, а можно просто взять на вооружение🙌):\n",
    "        \n",
    "   \n",
    "* результаты можно было бы объединить в единой таблице. Также их можно было бы проранжировать и выделить цветом — https://pandas.pydata.org/pandas-docs/stable/user_guide/style.html \n",
    "        \n",
    "еще материал по теме оформления таблиц в pandas:\n",
    "        \n",
    "https://pbpython.com/styling-pandas.html\n",
    "        \n",
    "    \n",
    "* в качестве визуализации изменения приоритетов можно использовать <a href=\"https://datayoga.ru/tpost/zh3s62fori-sloupgraf\">slope graph</a>, <a href=\"https://chart-studio.plotly.com/~pcchang/224/slopegraph-spending-and-academic-performance-by-states-doc/#/\">реализация на plotly</a>\n",
    "        \n",
    "И еще несколько ссылок для ознакомления с тем, как строить такие графики:\n",
    "        \n",
    "<a href=\"https://towardsdatascience.com/slope-charts-with-pythons-matplotlib-2c3456c137b8\">раз</a>        \n",
    "      \n",
    "<a href=\"https://cduvallet.github.io/posts/2018/03/slopegraphs-in-python\">два</a>     \n",
    "\n",
    "      \n",
    "<a href=\"https://stackoverflow.com/questions/7941226/how-to-add-line-based-on-slope-and-intercept-in-matplotlib\">три</a>     \n",
    "\n",
    " * в отчёте есть формулы для расчёта приоритезации, почему бы их не оформить, для этого есть микропакет для вёрстки `LaTex` - <a href=\"https://www.youtube.com/watch?v=vSc25kdgecg\">Использование LaTex в Jupyter Notebook</a>\n",
    "<br><a href=\"https://www.overleaf.com/static/latex/learn/free-online-introduction-to-latex-part-1.pdf\">LaTex for beginners</a>. Вот так будут выглядеть формулы:👇\n",
    "</ul></div> <br>\n",
    "\n",
    "$$ICE = \\frac{Impact * Confidence}{Efforts}$$\n",
    "\n",
    "$$RICE = \\frac{Rearch * Impact * Confidence}{Efforts}$$\n",
    "\n",
    "<hr style=\"border: 2px solid yellow;\" /> "
   ]
  },
  {
   "cell_type": "markdown",
   "metadata": {},
   "source": [
    "## Анализ А/В-теста"
   ]
  },
  {
   "cell_type": "markdown",
   "metadata": {},
   "source": [
    "Проведем анализ А/В -теста:\n",
    "\n",
    "1) Построение графика кумулятивной выручки по группам.\n",
    "\n",
    "Прежде чем перейти к построению графика, необходимо определить медианную выручку по каждой из групп А и В, а также выяснить, совпадают ли даты и группы в таблицах посетителей и заказов. Справиться с этой задачей помогут методы groupby(), median(), drop_duplicates()."
   ]
  },
  {
   "cell_type": "code",
   "execution_count": 23,
   "metadata": {},
   "outputs": [
    {
     "data": {
      "text/plain": [
       "group\n",
       "A    112473\n",
       "B    147274\n",
       "Name: revenue, dtype: int64"
      ]
     },
     "execution_count": 23,
     "metadata": {},
     "output_type": "execute_result"
    }
   ],
   "source": [
    "orders.groupby(['date','group'])['revenue'].sum().groupby('group').median() #найдем показатель медианной выручки по группам"
   ]
  },
  {
   "cell_type": "markdown",
   "metadata": {},
   "source": [
    "Таким образом, медианное значение по выручке в группе А составило 112473 у.е., по группе В - 147274 у.е."
   ]
  },
  {
   "cell_type": "markdown",
   "metadata": {},
   "source": [
    "Создадим датафрейм с уникальными парами дат и групп."
   ]
  },
  {
   "cell_type": "code",
   "execution_count": 24,
   "metadata": {},
   "outputs": [
    {
     "data": {
      "text/html": [
       "<div>\n",
       "<style scoped>\n",
       "    .dataframe tbody tr th:only-of-type {\n",
       "        vertical-align: middle;\n",
       "    }\n",
       "\n",
       "    .dataframe tbody tr th {\n",
       "        vertical-align: top;\n",
       "    }\n",
       "\n",
       "    .dataframe thead th {\n",
       "        text-align: right;\n",
       "    }\n",
       "</style>\n",
       "<table border=\"1\" class=\"dataframe\">\n",
       "  <thead>\n",
       "    <tr style=\"text-align: right;\">\n",
       "      <th></th>\n",
       "      <th>date</th>\n",
       "      <th>group</th>\n",
       "    </tr>\n",
       "  </thead>\n",
       "  <tbody>\n",
       "    <tr>\n",
       "      <th>0</th>\n",
       "      <td>2019-08-01</td>\n",
       "      <td>A</td>\n",
       "    </tr>\n",
       "    <tr>\n",
       "      <th>1</th>\n",
       "      <td>2019-08-01</td>\n",
       "      <td>B</td>\n",
       "    </tr>\n",
       "    <tr>\n",
       "      <th>2</th>\n",
       "      <td>2019-08-02</td>\n",
       "      <td>A</td>\n",
       "    </tr>\n",
       "    <tr>\n",
       "      <th>3</th>\n",
       "      <td>2019-08-02</td>\n",
       "      <td>B</td>\n",
       "    </tr>\n",
       "    <tr>\n",
       "      <th>4</th>\n",
       "      <td>2019-08-03</td>\n",
       "      <td>A</td>\n",
       "    </tr>\n",
       "    <tr>\n",
       "      <th>...</th>\n",
       "      <td>...</td>\n",
       "      <td>...</td>\n",
       "    </tr>\n",
       "    <tr>\n",
       "      <th>57</th>\n",
       "      <td>2019-08-29</td>\n",
       "      <td>B</td>\n",
       "    </tr>\n",
       "    <tr>\n",
       "      <th>58</th>\n",
       "      <td>2019-08-30</td>\n",
       "      <td>A</td>\n",
       "    </tr>\n",
       "    <tr>\n",
       "      <th>59</th>\n",
       "      <td>2019-08-30</td>\n",
       "      <td>B</td>\n",
       "    </tr>\n",
       "    <tr>\n",
       "      <th>60</th>\n",
       "      <td>2019-08-31</td>\n",
       "      <td>A</td>\n",
       "    </tr>\n",
       "    <tr>\n",
       "      <th>61</th>\n",
       "      <td>2019-08-31</td>\n",
       "      <td>B</td>\n",
       "    </tr>\n",
       "  </tbody>\n",
       "</table>\n",
       "<p>62 rows × 2 columns</p>\n",
       "</div>"
      ],
      "text/plain": [
       "         date group\n",
       "0  2019-08-01     A\n",
       "1  2019-08-01     B\n",
       "2  2019-08-02     A\n",
       "3  2019-08-02     B\n",
       "4  2019-08-03     A\n",
       "..        ...   ...\n",
       "57 2019-08-29     B\n",
       "58 2019-08-30     A\n",
       "59 2019-08-30     B\n",
       "60 2019-08-31     A\n",
       "61 2019-08-31     B\n",
       "\n",
       "[62 rows x 2 columns]"
      ]
     },
     "execution_count": 24,
     "metadata": {},
     "output_type": "execute_result"
    }
   ],
   "source": [
    "orders[['date','group']].drop_duplicates().sort_values(by=['date','group']).reset_index(drop=True)"
   ]
  },
  {
   "cell_type": "code",
   "execution_count": 25,
   "metadata": {},
   "outputs": [
    {
     "data": {
      "text/html": [
       "<div>\n",
       "<style scoped>\n",
       "    .dataframe tbody tr th:only-of-type {\n",
       "        vertical-align: middle;\n",
       "    }\n",
       "\n",
       "    .dataframe tbody tr th {\n",
       "        vertical-align: top;\n",
       "    }\n",
       "\n",
       "    .dataframe thead th {\n",
       "        text-align: right;\n",
       "    }\n",
       "</style>\n",
       "<table border=\"1\" class=\"dataframe\">\n",
       "  <thead>\n",
       "    <tr style=\"text-align: right;\">\n",
       "      <th></th>\n",
       "      <th>date</th>\n",
       "      <th>group</th>\n",
       "    </tr>\n",
       "  </thead>\n",
       "  <tbody>\n",
       "    <tr>\n",
       "      <th>0</th>\n",
       "      <td>True</td>\n",
       "      <td>True</td>\n",
       "    </tr>\n",
       "    <tr>\n",
       "      <th>1</th>\n",
       "      <td>True</td>\n",
       "      <td>True</td>\n",
       "    </tr>\n",
       "    <tr>\n",
       "      <th>2</th>\n",
       "      <td>True</td>\n",
       "      <td>True</td>\n",
       "    </tr>\n",
       "    <tr>\n",
       "      <th>3</th>\n",
       "      <td>True</td>\n",
       "      <td>True</td>\n",
       "    </tr>\n",
       "    <tr>\n",
       "      <th>4</th>\n",
       "      <td>True</td>\n",
       "      <td>True</td>\n",
       "    </tr>\n",
       "    <tr>\n",
       "      <th>...</th>\n",
       "      <td>...</td>\n",
       "      <td>...</td>\n",
       "    </tr>\n",
       "    <tr>\n",
       "      <th>57</th>\n",
       "      <td>True</td>\n",
       "      <td>True</td>\n",
       "    </tr>\n",
       "    <tr>\n",
       "      <th>58</th>\n",
       "      <td>True</td>\n",
       "      <td>True</td>\n",
       "    </tr>\n",
       "    <tr>\n",
       "      <th>59</th>\n",
       "      <td>True</td>\n",
       "      <td>True</td>\n",
       "    </tr>\n",
       "    <tr>\n",
       "      <th>60</th>\n",
       "      <td>True</td>\n",
       "      <td>True</td>\n",
       "    </tr>\n",
       "    <tr>\n",
       "      <th>61</th>\n",
       "      <td>True</td>\n",
       "      <td>True</td>\n",
       "    </tr>\n",
       "  </tbody>\n",
       "</table>\n",
       "<p>62 rows × 2 columns</p>\n",
       "</div>"
      ],
      "text/plain": [
       "    date  group\n",
       "0   True   True\n",
       "1   True   True\n",
       "2   True   True\n",
       "3   True   True\n",
       "4   True   True\n",
       "..   ...    ...\n",
       "57  True   True\n",
       "58  True   True\n",
       "59  True   True\n",
       "60  True   True\n",
       "61  True   True\n",
       "\n",
       "[62 rows x 2 columns]"
      ]
     },
     "execution_count": 25,
     "metadata": {},
     "output_type": "execute_result"
    }
   ],
   "source": [
    "comparison_date_group = orders[['date','group']].drop_duplicates().sort_values(by=['date','group']).reset_index(drop=True) == \\\n",
    "                        visitors[['date','group']].drop_duplicates().sort_values(by=['date','group']).reset_index(drop=True)\n",
    "comparison_date_group"
   ]
  },
  {
   "cell_type": "code",
   "execution_count": 26,
   "metadata": {},
   "outputs": [
    {
     "data": {
      "text/plain": [
       "62"
      ]
     },
     "execution_count": 26,
     "metadata": {},
     "output_type": "execute_result"
    }
   ],
   "source": [
    "comparison_date_group['date'].count() #выведем количество ячеек по столбцу date"
   ]
  },
  {
   "cell_type": "code",
   "execution_count": 27,
   "metadata": {},
   "outputs": [
    {
     "data": {
      "text/plain": [
       "62"
      ]
     },
     "execution_count": 27,
     "metadata": {},
     "output_type": "execute_result"
    }
   ],
   "source": [
    "comparison_date_group['group'].count() #выведем количество ячеек по столбцу group"
   ]
  },
  {
   "cell_type": "markdown",
   "metadata": {},
   "source": [
    "Таким образом, мы убедились, что даты и группы совпадают в таблицах посетителей и заказов. \n",
    "\n",
    "\n",
    "Зададим переменную orders_aggregated, содержащую агрегированные данные с датой, группой, числом уникальных заказов, пользователей и выручкой, и переменную visitors_aggregated, содержащую агрегированные данные с датой, группой и числом уникальных пользователей:\n"
   ]
  },
  {
   "cell_type": "code",
   "execution_count": 28,
   "metadata": {},
   "outputs": [],
   "source": [
    "date_group = orders[['date','group']].drop_duplicates()\n",
    "orders_aggregated = date_group.apply(lambda x: orders[np.logical_and(orders['date'] <= x['date'], orders['group'] == x['group'])]. \\\n",
    "                                     agg({'date' : 'max', \n",
    "                                          'group' : 'max', \n",
    "                                          'transaction_id' : pd.Series.nunique, \n",
    "                                          'visitor_id' : pd.Series.nunique, \n",
    "                                          'revenue' : 'sum'}), axis=1).sort_values(by=['date','group'])\n",
    "\n",
    "visitors_aggregated = date_group.apply(lambda x: visitors[np.logical_and(visitors['date'] <= x['date'], visitors['group'] == x['group'])]. \\\n",
    "                                       agg({'date' : 'max', \n",
    "                                            'group' : 'max', \n",
    "                                            'visitors' : 'sum'}), axis=1).sort_values(by=['date','group'])"
   ]
  },
  {
   "cell_type": "markdown",
   "metadata": {},
   "source": [
    "Далее создадим датафрейф с кумулятивными (накапливаемыми) данными: "
   ]
  },
  {
   "cell_type": "code",
   "execution_count": 29,
   "metadata": {},
   "outputs": [
    {
     "data": {
      "text/html": [
       "<div>\n",
       "<style scoped>\n",
       "    .dataframe tbody tr th:only-of-type {\n",
       "        vertical-align: middle;\n",
       "    }\n",
       "\n",
       "    .dataframe tbody tr th {\n",
       "        vertical-align: top;\n",
       "    }\n",
       "\n",
       "    .dataframe thead th {\n",
       "        text-align: right;\n",
       "    }\n",
       "</style>\n",
       "<table border=\"1\" class=\"dataframe\">\n",
       "  <thead>\n",
       "    <tr style=\"text-align: right;\">\n",
       "      <th></th>\n",
       "      <th>date</th>\n",
       "      <th>group</th>\n",
       "      <th>orders</th>\n",
       "      <th>buyers</th>\n",
       "      <th>revenue</th>\n",
       "      <th>visitors</th>\n",
       "    </tr>\n",
       "  </thead>\n",
       "  <tbody>\n",
       "    <tr>\n",
       "      <th>0</th>\n",
       "      <td>2019-08-01</td>\n",
       "      <td>A</td>\n",
       "      <td>24</td>\n",
       "      <td>20</td>\n",
       "      <td>148579</td>\n",
       "      <td>719</td>\n",
       "    </tr>\n",
       "    <tr>\n",
       "      <th>1</th>\n",
       "      <td>2019-08-01</td>\n",
       "      <td>B</td>\n",
       "      <td>21</td>\n",
       "      <td>20</td>\n",
       "      <td>101217</td>\n",
       "      <td>713</td>\n",
       "    </tr>\n",
       "    <tr>\n",
       "      <th>2</th>\n",
       "      <td>2019-08-02</td>\n",
       "      <td>A</td>\n",
       "      <td>44</td>\n",
       "      <td>38</td>\n",
       "      <td>242401</td>\n",
       "      <td>1338</td>\n",
       "    </tr>\n",
       "    <tr>\n",
       "      <th>3</th>\n",
       "      <td>2019-08-02</td>\n",
       "      <td>B</td>\n",
       "      <td>45</td>\n",
       "      <td>43</td>\n",
       "      <td>266748</td>\n",
       "      <td>1294</td>\n",
       "    </tr>\n",
       "    <tr>\n",
       "      <th>4</th>\n",
       "      <td>2019-08-03</td>\n",
       "      <td>A</td>\n",
       "      <td>68</td>\n",
       "      <td>62</td>\n",
       "      <td>354874</td>\n",
       "      <td>1845</td>\n",
       "    </tr>\n",
       "  </tbody>\n",
       "</table>\n",
       "</div>"
      ],
      "text/plain": [
       "        date group  orders  buyers  revenue  visitors\n",
       "0 2019-08-01     A      24      20   148579       719\n",
       "1 2019-08-01     B      21      20   101217       713\n",
       "2 2019-08-02     A      44      38   242401      1338\n",
       "3 2019-08-02     B      45      43   266748      1294\n",
       "4 2019-08-03     A      68      62   354874      1845"
      ]
     },
     "execution_count": 29,
     "metadata": {},
     "output_type": "execute_result"
    }
   ],
   "source": [
    "cumulative_data = orders_aggregated.merge(visitors_aggregated, left_on=['date', 'group'], right_on=['date', 'group'])\n",
    "cumulative_data.columns = ['date', 'group', 'orders', 'buyers', 'revenue', 'visitors']\n",
    "cumulative_data.head()"
   ]
  },
  {
   "cell_type": "markdown",
   "metadata": {},
   "source": [
    "Переходим к построению графика кумулятивной выручки по группам. "
   ]
  },
  {
   "cell_type": "code",
   "execution_count": 30,
   "metadata": {},
   "outputs": [
    {
     "data": {
      "image/png": "[encoded data removed]",
      "text/plain": [
       "<Figure size 1080x360 with 1 Axes>"
      ]
     },
     "metadata": {
      "needs_background": "light"
     },
     "output_type": "display_data"
    }
   ],
   "source": [
    "cumulative_revenue_a = cumulative_data[cumulative_data['group']=='A'][['date','revenue', 'orders']]\n",
    "cumulative_revenue_b = cumulative_data[cumulative_data['group']=='B'][['date','revenue', 'orders']]\n",
    "\n",
    "from pandas.plotting import register_matplotlib_converters\n",
    "register_matplotlib_converters()\n",
    "\n",
    "plt.figure(figsize=(15,5))\n",
    "plt.plot(cumulative_revenue_a['date'], cumulative_revenue_a['revenue'], label='Кумулятивная выручка группы A')\n",
    "plt.plot(cumulative_revenue_b['date'], cumulative_revenue_b['revenue'], label='Кумулятивная выручка группы B')\n",
    "plt.grid()\n",
    "plt.legend();"
   ]
  },
  {
   "cell_type": "markdown",
   "metadata": {},
   "source": [
    "Как видно на графике, с 1-го по 5-е августа выручка по группам А и В находилась приблизительно на одном уровне, и, начиная с 5-го августа выручка по группе В начала существенно расти. Стоит также обратить на показатель выручки от 19-го августа - на графике наблюдается существенный подъем показателя выручки по группе В по сравнению с группой А, что позволяет сделать предположение о том, что посетители из группы В произвели крупные (дорогие) заказы, что существенно повлияло на дальнейшее изменение по графику. \n",
    "\n",
    "Проанализируем заказы, совершенные группой В в период с 17 по 21 августа."
   ]
  },
  {
   "cell_type": "code",
   "execution_count": 31,
   "metadata": {},
   "outputs": [
    {
     "data": {
      "text/html": [
       "<div>\n",
       "<style scoped>\n",
       "    .dataframe tbody tr th:only-of-type {\n",
       "        vertical-align: middle;\n",
       "    }\n",
       "\n",
       "    .dataframe tbody tr th {\n",
       "        vertical-align: top;\n",
       "    }\n",
       "\n",
       "    .dataframe thead th {\n",
       "        text-align: right;\n",
       "    }\n",
       "</style>\n",
       "<table border=\"1\" class=\"dataframe\">\n",
       "  <thead>\n",
       "    <tr style=\"text-align: right;\">\n",
       "      <th></th>\n",
       "      <th>date</th>\n",
       "      <th>revenue</th>\n",
       "      <th>orders</th>\n",
       "    </tr>\n",
       "  </thead>\n",
       "  <tbody>\n",
       "    <tr>\n",
       "      <th>33</th>\n",
       "      <td>2019-08-17</td>\n",
       "      <td>2620790</td>\n",
       "      <td>373</td>\n",
       "    </tr>\n",
       "    <tr>\n",
       "      <th>35</th>\n",
       "      <td>2019-08-18</td>\n",
       "      <td>2686621</td>\n",
       "      <td>382</td>\n",
       "    </tr>\n",
       "    <tr>\n",
       "      <th>37</th>\n",
       "      <td>2019-08-19</td>\n",
       "      <td>4116541</td>\n",
       "      <td>403</td>\n",
       "    </tr>\n",
       "    <tr>\n",
       "      <th>39</th>\n",
       "      <td>2019-08-20</td>\n",
       "      <td>4263815</td>\n",
       "      <td>423</td>\n",
       "    </tr>\n",
       "    <tr>\n",
       "      <th>41</th>\n",
       "      <td>2019-08-21</td>\n",
       "      <td>4426892</td>\n",
       "      <td>437</td>\n",
       "    </tr>\n",
       "  </tbody>\n",
       "</table>\n",
       "</div>"
      ],
      "text/plain": [
       "         date  revenue  orders\n",
       "33 2019-08-17  2620790     373\n",
       "35 2019-08-18  2686621     382\n",
       "37 2019-08-19  4116541     403\n",
       "39 2019-08-20  4263815     423\n",
       "41 2019-08-21  4426892     437"
      ]
     },
     "execution_count": 31,
     "metadata": {},
     "output_type": "execute_result"
    }
   ],
   "source": [
    "cumulative_revenue_b.query(' \"2019-08-17\" <= date <= \"2019-08-21\" ')"
   ]
  },
  {
   "cell_type": "markdown",
   "metadata": {},
   "source": [
    "Всплеска по количеству заказов в период с 17 по 21 августа 2019 г. не наблюдалось - количество заказов в течение этих дней примерно держится на одном уровне (отклонение 17% между 17 и 21 августа 2019 г.). \n",
    "\n",
    "Проверим медеанное значение выручки за один заказ на 19.08.2019 г. "
   ]
  },
  {
   "cell_type": "code",
   "execution_count": 32,
   "metadata": {},
   "outputs": [
    {
     "name": "stdout",
     "output_type": "stream",
     "text": [
      "Медианное значение одного заказа 19 августа = 2630.0\n"
     ]
    },
    {
     "data": {
      "text/html": [
       "<div>\n",
       "<style scoped>\n",
       "    .dataframe tbody tr th:only-of-type {\n",
       "        vertical-align: middle;\n",
       "    }\n",
       "\n",
       "    .dataframe tbody tr th {\n",
       "        vertical-align: top;\n",
       "    }\n",
       "\n",
       "    .dataframe thead th {\n",
       "        text-align: right;\n",
       "    }\n",
       "</style>\n",
       "<table border=\"1\" class=\"dataframe\">\n",
       "  <thead>\n",
       "    <tr style=\"text-align: right;\">\n",
       "      <th></th>\n",
       "      <th>transaction_id</th>\n",
       "      <th>visitor_id</th>\n",
       "      <th>date</th>\n",
       "      <th>revenue</th>\n",
       "      <th>group</th>\n",
       "    </tr>\n",
       "  </thead>\n",
       "  <tbody>\n",
       "    <tr>\n",
       "      <th>425</th>\n",
       "      <td>590470918</td>\n",
       "      <td>1920142716</td>\n",
       "      <td>2019-08-19</td>\n",
       "      <td>1294500</td>\n",
       "      <td>B</td>\n",
       "    </tr>\n",
       "    <tr>\n",
       "      <th>530</th>\n",
       "      <td>3970235543</td>\n",
       "      <td>2912540959</td>\n",
       "      <td>2019-08-19</td>\n",
       "      <td>43990</td>\n",
       "      <td>A</td>\n",
       "    </tr>\n",
       "    <tr>\n",
       "      <th>527</th>\n",
       "      <td>1570513684</td>\n",
       "      <td>2837914161</td>\n",
       "      <td>2019-08-19</td>\n",
       "      <td>33405</td>\n",
       "      <td>B</td>\n",
       "    </tr>\n",
       "    <tr>\n",
       "      <th>421</th>\n",
       "      <td>3765974140</td>\n",
       "      <td>1357170471</td>\n",
       "      <td>2019-08-19</td>\n",
       "      <td>31680</td>\n",
       "      <td>A</td>\n",
       "    </tr>\n",
       "    <tr>\n",
       "      <th>461</th>\n",
       "      <td>2683113224</td>\n",
       "      <td>154576532</td>\n",
       "      <td>2019-08-19</td>\n",
       "      <td>26550</td>\n",
       "      <td>B</td>\n",
       "    </tr>\n",
       "    <tr>\n",
       "      <th>525</th>\n",
       "      <td>3031564664</td>\n",
       "      <td>393266494</td>\n",
       "      <td>2019-08-19</td>\n",
       "      <td>21550</td>\n",
       "      <td>A</td>\n",
       "    </tr>\n",
       "    <tr>\n",
       "      <th>368</th>\n",
       "      <td>3268879337</td>\n",
       "      <td>2536252163</td>\n",
       "      <td>2019-08-19</td>\n",
       "      <td>20026</td>\n",
       "      <td>B</td>\n",
       "    </tr>\n",
       "    <tr>\n",
       "      <th>366</th>\n",
       "      <td>2037051350</td>\n",
       "      <td>1957949546</td>\n",
       "      <td>2019-08-19</td>\n",
       "      <td>16770</td>\n",
       "      <td>A</td>\n",
       "    </tr>\n",
       "  </tbody>\n",
       "</table>\n",
       "</div>"
      ],
      "text/plain": [
       "     transaction_id  visitor_id       date  revenue group\n",
       "425       590470918  1920142716 2019-08-19  1294500     B\n",
       "530      3970235543  2912540959 2019-08-19    43990     A\n",
       "527      1570513684  2837914161 2019-08-19    33405     B\n",
       "421      3765974140  1357170471 2019-08-19    31680     A\n",
       "461      2683113224   154576532 2019-08-19    26550     B\n",
       "525      3031564664   393266494 2019-08-19    21550     A\n",
       "368      3268879337  2536252163 2019-08-19    20026     B\n",
       "366      2037051350  1957949546 2019-08-19    16770     A"
      ]
     },
     "execution_count": 32,
     "metadata": {},
     "output_type": "execute_result"
    }
   ],
   "source": [
    "print('Медианное значение одного заказа 19 августа =',orders.query(' date == \"2019-08-19\" ')['revenue'].median())\n",
    "orders.query(' date == \"2019-08-19\" ').sort_values(by='revenue', ascending=False).head(8)"
   ]
  },
  {
   "cell_type": "markdown",
   "metadata": {},
   "source": [
    "Таким образом, мы видим, что медианное значение выручки за один заказ составляет 2630 у.е. При этом заказ под индексом 425 совершен на сумму 1,295 млн. у. е., в то время как другие заказы, совершенные в этот день не превысили отметки в 44 тыс. у.е. \n",
    "\n",
    "\n",
    "Далее построим график кумулятивного среднего чека по группам путем деления кумулятивной выручки на кумулятивное число заказов. "
   ]
  },
  {
   "cell_type": "code",
   "execution_count": 33,
   "metadata": {},
   "outputs": [
    {
     "data": {
      "image/png": "[encoded data removed]",
      "text/plain": [
       "<Figure size 1080x360 with 1 Axes>"
      ]
     },
     "metadata": {
      "needs_background": "light"
     },
     "output_type": "display_data"
    }
   ],
   "source": [
    "plt.figure(figsize=(15,5))\n",
    "plt.grid()\n",
    "plt.plot(cumulative_revenue_a['date'], cumulative_revenue_a['revenue']/cumulative_revenue_a['orders'], label='средний кумулятивный чек группы A')\n",
    "plt.plot(cumulative_revenue_b['date'], cumulative_revenue_b['revenue']/cumulative_revenue_b['orders'], label='средний кумулятивный чек группы B')\n",
    "plt.legend(); "
   ]
  },
  {
   "cell_type": "markdown",
   "metadata": {},
   "source": [
    "Как видно из графика, средний кумулятивный чек группы В существенно превышает средний кумулятивный чек группы А. 13 августа 2019 г. средний чек группы превысил значение аналогичного показателя группы В, 15 августа показатели сравнялись, однако 19 августа средний кумулятивный чек группы В показал стремительный рост и в предыдущем периоде мы выявили, почему (заказ на сумму 1,295 млн. у. е.). После заказа на 1,295 млн. у.е. от 19 августа средний чек группы B постепенно начинает снижаться, в то время как у группы A, начиная с 18 августа, средний чек наоборот начинает постепенно расти. \n",
    "\n",
    "Далее построим график относительного изменения кумулятивного среднего чека группы B к группе A."
   ]
  },
  {
   "cell_type": "code",
   "execution_count": 34,
   "metadata": {},
   "outputs": [
    {
     "data": {
      "image/png": "[encoded data removed]",
      "text/plain": [
       "<Figure size 1080x360 with 1 Axes>"
      ]
     },
     "metadata": {
      "needs_background": "light"
     },
     "output_type": "display_data"
    }
   ],
   "source": [
    "merged_cumulative_revenue = cumulative_revenue_a.merge(cumulative_revenue_b, left_on='date', right_on='date', how='left', suffixes=['A', 'B'])\n",
    "\n",
    "plt.figure(figsize=(15,5))\n",
    "plt.grid()\n",
    "plt.plot(merged_cumulative_revenue['date'], (merged_cumulative_revenue['revenueB']/merged_cumulative_revenue['ordersB'])/ \\\n",
    "         (merged_cumulative_revenue['revenueA']/merged_cumulative_revenue['ordersA'])-1)\n",
    "plt.title('Относительное изменение кумулятивного среднего чека групп \"B\" к \"А\"')\n",
    "plt.axhline(y=0, color='black', linestyle='--');"
   ]
  },
  {
   "cell_type": "markdown",
   "metadata": {},
   "source": [
    "Как видно на графике, средний чек группы В начал расти с 01.08.2019 г. и 02.08.2019 г. уже превысил средний чек группы А. Начиная с 08.08.2019 г. средний чек группы В начал снижаться и в период с 13.08.2019 г. по 14.08.2019 г. средний чек группы В был ниже, чем у группы А. 15.08.2019 г. показатели по группам сравнялись и начиная с 16.08.2019 до 31.08.2019 г. данный показатель группы В был выше, чем аналогичный показатель группы А. На графике также виден существенный рост показателя 19.08.2019 г., как и на предыдущих графиках.\n",
    "\n",
    "Далее построим график кумулятивного среднего количества заказов (конверсии) на посетителя по группам."
   ]
  },
  {
   "cell_type": "code",
   "execution_count": 35,
   "metadata": {},
   "outputs": [
    {
     "data": {
      "image/png": "[encoded data removed]",
      "text/plain": [
       "<Figure size 1080x360 with 1 Axes>"
      ]
     },
     "metadata": {
      "needs_background": "light"
     },
     "output_type": "display_data"
    }
   ],
   "source": [
    "cumulative_data['conversion'] = cumulative_data['orders']/cumulative_data['visitors']\n",
    "\n",
    "cumulative_data_a = cumulative_data[cumulative_data['group']=='A']\n",
    "cumulative_data_b = cumulative_data[cumulative_data['group']=='B']\n",
    "\n",
    "plt.figure(figsize=(15,5))\n",
    "plt.grid()\n",
    "plt.plot(cumulative_data_a['date'], cumulative_data_a['conversion'], label='кумулятивная конверсия A')\n",
    "plt.plot(cumulative_data_b['date'], cumulative_data_b['conversion'], label='кумулятивная конверсия B')\n",
    "plt.title('Кумулятивная конверсия')\n",
    "plt.legend();"
   ]
  },
  {
   "cell_type": "markdown",
   "metadata": {},
   "source": [
    "Как видно из графика, в начале месяца кумулятивная конверсия по группе А была выше, чем конверсия группы В, 03.08.2019 г. конверсия группы А была максимальной за весь период наблюдения за группами. Затем конверсия начинает падать: 06.08.2019 г. показатель конверсии между группами становится одинаковым и, начиная с 07.08.2019 конверсия по группе В становится выше, чем конверсия группы А и достигла своего максимума к 10.08.2019 г. Начиная с 11.08.2019 г. конверсия группы В начала снижаться, за исключением отрезка времени с 15 по 17 августа когда также отмечался значительный рост конверсии группы В. Таким образом, можно сделать вывод о том, что конверсия группы В в целом значительно выше, чем конверсия группы А (за исключением периода с 01.08.2019 г. по 06.08.2019 г.).\n",
    "\n",
    "Далее построим график относительного изменения кумулятивного среднего количества заказов на посетителя группы B к группе A.\n",
    "\n"
   ]
  },
  {
   "cell_type": "code",
   "execution_count": 36,
   "metadata": {},
   "outputs": [
    {
     "data": {
      "image/png": "[encoded data removed]",
      "text/plain": [
       "<Figure size 1080x360 with 1 Axes>"
      ]
     },
     "metadata": {
      "needs_background": "light"
     },
     "output_type": "display_data"
    }
   ],
   "source": [
    "merged_cumulative_conversions = cumulative_data_a[['date','conversion']].merge(cumulative_data_b[['date','conversion']], \\\n",
    "                                                    left_on='date', right_on='date', how='left', suffixes=['A', 'B'])\n",
    "plt.figure(figsize=(15,5))\n",
    "plt.grid()\n",
    "plt.plot(merged_cumulative_conversions['date'], merged_cumulative_conversions['conversionB']/merged_cumulative_conversions['conversionA']-1, label=\"Относительный прирост конверсии группы B относительно группы A\")\n",
    "\n",
    "plt.title('Относительное изменение кумулятивной конверсии группы B к группе A')\n",
    "\n",
    "plt.axhline(y=0, color='black', linestyle='--') \n",
    "plt.axhline(y=0.1, color='grey', linestyle='--')\n",
    "plt.axhline(y=0.21, color='grey', linestyle='--')\n",
    "plt.axhline(y=0.057, color='grey', linestyle='--');"
   ]
  },
  {
   "cell_type": "markdown",
   "metadata": {},
   "source": [
    "Как видно из графика, с 01.08.2019 г. по 05.08.2019 г. конверсия группы А была на 5-10% больше конверсии группы В (за исключением 02.08.2019 г., когда конверсия группы В была на 5% больше конверсии группы А. Начиная с 06.08.2019 г. и до конца августа конверсия группы В была значительно выше конверсии группы В - максимальное значение разниицы конверсии группы В и А 15.08.2019 г. - 21%, затем показатель постепенно снижается до отметки 10-14%.\n",
    "\n",
    "\n",
    "Далее построим точечный график количества заказов по пользователям."
   ]
  },
  {
   "cell_type": "markdown",
   "metadata": {},
   "source": [
    "\n",
    "<div class=\"alert alert-success\">\n",
    "<h2> Комментарий ревьюера <a class=\"tocSkip\"> </h2>\n",
    "\n",
    "<b>Все отлично!👍:</b> \n",
    "    \n",
    "По графикам все верно, согласна с интерпретацией визуализации.\n",
    "</div>"
   ]
  },
  {
   "cell_type": "code",
   "execution_count": 37,
   "metadata": {},
   "outputs": [
    {
     "data": {
      "image/png": "[encoded data removed]",
      "text/plain": [
       "<Figure size 1080x360 with 1 Axes>"
      ]
     },
     "metadata": {
      "needs_background": "light"
     },
     "output_type": "display_data"
    }
   ],
   "source": [
    "orders_by_users = orders.drop(['group', 'revenue', 'date'], axis=1).groupby('visitor_id', as_index=False). \\\n",
    "                                                                        agg({'transaction_id' : pd.Series.nunique})\n",
    "\n",
    "orders_by_users.columns = ['user_id','orders']\n",
    "\n",
    "orders_by_users.sort_values(by='orders',ascending=False).head(10)\n",
    "\n",
    "x_values = pd.Series(range(0,len(orders_by_users)))\n",
    "\n",
    "plt.figure(figsize=(15,5))\n",
    "plt.grid()\n",
    "plt.title('График количества заказов по пользователям')\n",
    "plt.scatter(x_values, orders_by_users['orders'], alpha=0.5);"
   ]
  },
  {
   "cell_type": "markdown",
   "metadata": {},
   "source": [
    "Таким образом, больше всего пользователей, совершившие 1 заказ. Пользователей, совершивших 2-3 заказа не очень много и в настоящий момент не совсем понятно, стоит ли считать это выбросами или нет. \n",
    "\n",
    "Чтобы выяснить, присутствуют ли аномальные значения в выборке или нет, необходимо посчитать перцентили (95 и 99). \n",
    "\n",
    "Рассчитаем 95-й и 99-й перцентили количества заказов на пользователя и выберем границу для определения аномальных пользователей."
   ]
  },
  {
   "cell_type": "code",
   "execution_count": 38,
   "metadata": {},
   "outputs": [
    {
     "name": "stdout",
     "output_type": "stream",
     "text": [
      "Рассчитаем 95 и 99 перцентили по заказам :  [2. 4.]\n"
     ]
    }
   ],
   "source": [
    "print('Рассчитаем 95 и 99 перцентили по заказам : ', np.percentile(orders_by_users['orders'], [95, 99])) "
   ]
  },
  {
   "cell_type": "markdown",
   "metadata": {},
   "source": [
    "Для большей точности рассчитаем все процентили с 95 по 99."
   ]
  },
  {
   "cell_type": "code",
   "execution_count": 39,
   "metadata": {},
   "outputs": [
    {
     "name": "stdout",
     "output_type": "stream",
     "text": [
      "Перцентили c 95 по 99 (по заказам) :  [2. 2. 2. 3. 4.]\n"
     ]
    }
   ],
   "source": [
    "print('Перцентили c 95 по 99 (по заказам) : ', np.percentile(orders_by_users['orders'], [95,96,97,98, 99])) "
   ]
  },
  {
   "cell_type": "markdown",
   "metadata": {},
   "source": [
    "Как видно из расчета, 98% пользователей совершают не более 2-х заказов, 3 и 4 заказа можно принимать за аномалии (выбивающиеся значения).\n",
    "\n",
    "Построим точечный график стоимостей заказов. Так как ранее мы выводили медианое значение по столбцу выручки, а также убедились в том, что, как правило, суммы заказов держатся на уровне 30-60 тыс. у.е, ограничим диаграму значение выручки от 0 до 250 тыс. у. е. "
   ]
  },
  {
   "cell_type": "code",
   "execution_count": 40,
   "metadata": {},
   "outputs": [
    {
     "data": {
      "image/png": "[encoded data removed]",
      "text/plain": [
       "<Figure size 720x288 with 1 Axes>"
      ]
     },
     "metadata": {
      "needs_background": "light"
     },
     "output_type": "display_data"
    },
    {
     "data": {
      "image/png": "[encoded data removed]",
      "text/plain": [
       "<Figure size 720x288 with 1 Axes>"
      ]
     },
     "metadata": {
      "needs_background": "light"
     },
     "output_type": "display_data"
    }
   ],
   "source": [
    "x_values = pd.Series(range(0, len(orders)))\n",
    "plt.figure(figsize=(10,4))\n",
    "plt.scatter(x_values, orders['revenue'])\n",
    "plt.title('Точечная диаграмма сумм заказов на одного пользователя')\n",
    "plt.axis([0, 1200, 0, 1400000])\n",
    "plt.show()\n",
    "\n",
    "x_values = pd.Series(range(0, len(orders)))\n",
    "plt.figure(figsize=(10,4))\n",
    "plt.scatter(x_values, orders['revenue'])\n",
    "plt.title('Точечная диаграмма сумм заказов на одного пользователя')\n",
    "plt.axis([0, 1200, 0, 250000])\n",
    "plt.show()"
   ]
  },
  {
   "cell_type": "markdown",
   "metadata": {},
   "source": [
    "Как видно из графика, большая часть пользователей делает покупки суммой не больше 20-30 тыс. у.е. Помимо выброса в 1,295 млн. у. е. есть таже выброс в 200 тыс. у.е.\n",
    "\n",
    "Теперь посчитаем 95-й и 99-й перцентили сумм заказов на пользователя и выберем границу для определения аномальных пользователей."
   ]
  },
  {
   "cell_type": "code",
   "execution_count": 41,
   "metadata": {},
   "outputs": [
    {
     "name": "stdout",
     "output_type": "stream",
     "text": [
      "Рассчитаем 95 и 99 перцентили по выручке заказов :  [28000.  58233.2]\n"
     ]
    }
   ],
   "source": [
    "print('Рассчитаем 95 и 99 перцентили по выручке заказов : ', np.percentile(orders['revenue'], [95, 99])) "
   ]
  },
  {
   "cell_type": "markdown",
   "metadata": {},
   "source": [
    "Исходя из полученного результата, 99% заказов меньше суммы 58233.2 у. е., поэтому для целей дальнейшего исследования установим её в качестве границы для аномалий.\n",
    "\n",
    "Далее рассчитаем статистическую значимость различий в конверсии между группами по «сырым» данным."
   ]
  },
  {
   "cell_type": "markdown",
   "metadata": {},
   "source": [
    "<div class=\"alert alert-success\">\n",
    "<h2> Комментарий ревьюера <a class=\"tocSkip\"> </h2>\n",
    "\n",
    "<b>Все отлично!👍</b> \n",
    "    \n",
    "Границы выбросов определены верно:)\n",
    "</div>"
   ]
  },
  {
   "cell_type": "code",
   "execution_count": 42,
   "metadata": {},
   "outputs": [
    {
     "name": "stdout",
     "output_type": "stream",
     "text": [
      "Кол-во покупателей в группе A: 503\n",
      "Кол-во покупок в группе А: 557\n",
      "Кол-во посетителей в группе A: 18736\n",
      "\n",
      "Кол-во покупателей в группе B: 586\n",
      "Кол-во покупок в группе B: 640\n",
      "Кол-во посетителей в группе B: 18916\n",
      "\n",
      "Относительный прирост конверсии группы B по отношению к группе A: 0.138\n",
      "P-value: 0.016792355056752608\n",
      "По неочищенным данным в конверсии групп A и B РАЗНИЦА СТАТИСТИЧЕСКИ ЗНАЧИМА!\n"
     ]
    }
   ],
   "source": [
    "orders_by_users_a = orders[orders['group']=='A'].groupby('visitor_id', as_index=False).agg({'transaction_id':'nunique'})\n",
    "orders_by_users_a.columns = ['visitor_id', 'orders']\n",
    "orders_by_users_b = orders[orders['group']=='B'].groupby('visitor_id', as_index=False).agg({'transaction_id':'nunique'})\n",
    "orders_by_users_b.columns = ['visitor_id', 'orders']\n",
    "print('Кол-во покупателей в группе A: {}'.format(len(orders_by_users_a)))\n",
    "print('Кол-во покупок в группе А: {}'.format(orders_by_users_a['orders'].sum()))\n",
    "print('Кол-во посетителей в группе A: {}\\n'.format(visitors[visitors['group']=='A']['visitors'].sum()))\n",
    "print('Кол-во покупателей в группе B: {}'.format(len(orders_by_users_b)))\n",
    "print('Кол-во покупок в группе B: {}'.format(orders_by_users_b['orders'].sum()))\n",
    "print('Кол-во посетителей в группе B: {}'.format(visitors[visitors['group']=='B']['visitors'].sum()))\n",
    "\n",
    "\n",
    "#составим списки кол-ва заказов sampleA и sampleB со всеми пользователями (в том числе и не купившими) по группам \n",
    "list_orders_1 =[]\n",
    "for i in range(0,(visitors[visitors['group']=='A']['visitors'].sum()-len(orders_by_users_a))):\n",
    "    list_orders_1.append(0)\n",
    "orders_by_non_purchased_users_A = pd.Series(data = list_orders_1, name = 'orders')\n",
    "\n",
    "list_orders_2 =[]\n",
    "for i in range(0,(visitors[visitors['group']=='B']['visitors'].sum()-len(orders_by_users_b))):\n",
    "    list_orders_2.append(0)\n",
    "orders_by_non_purchased_users_B = pd.Series(data = list_orders_2, name = 'orders')\n",
    "\n",
    "sampleA = pd.concat([orders_by_users_a['orders'], orders_by_non_purchased_users_A], axis=0)\n",
    "sampleB = pd.concat([orders_by_users_b['orders'], orders_by_non_purchased_users_B], axis=0)\n",
    "print('\\nОтносительный прирост конверсии группы B по отношению к группе A: {:.3f}'.format(sampleB.mean()/sampleA.mean()-1))\n",
    "alpha = 0.05\n",
    "results = stats.mannwhitneyu(sampleA, sampleB)\n",
    "print('P-value: {}'.format(results.pvalue))\n",
    "if results.pvalue < alpha:\n",
    "    print('По неочищенным данным в конверсии групп A и B РАЗНИЦА СТАТИСТИЧЕСКИ ЗНАЧИМА!')\n",
    "else:\n",
    "    print('По неочищенным данным РАЗЛИЧИЙ в конверсии групп A и B НЕТ!')"
   ]
  },
  {
   "cell_type": "markdown",
   "metadata": {},
   "source": [
    "Таким образом, p-value = 0.0167 меньше 0.05, что означает, что нулевая гипотеза, что статистически значимых различий в конверсии между группами нет, должна быть опровергнута. Т. е. по «сырым» данным различия в конверсии групп A и B есть. Относительный выигрыш группы \"B\" над \"A\" равен 13.8%.\n",
    "\n",
    "Далее рассчитаем статистическую значимость различий в среднем чеке заказа между группами по «сырым» данным."
   ]
  },
  {
   "cell_type": "code",
   "execution_count": 43,
   "metadata": {},
   "outputs": [
    {
     "name": "stdout",
     "output_type": "stream",
     "text": [
      "Относительное изменение среднего чека в группе B по отношению группы A: 0.259\n",
      "P-value: 0.7292909855432458\n",
      "По неочищенным данным РАЗЛИЧИЙ в средних чеках в группах A и B НЕТ!\n"
     ]
    }
   ],
   "source": [
    "print('Относительное изменение среднего чека в группе B по отношению группы A: {:.3f}'.format(\n",
    "orders[orders['group']=='B']['revenue'].mean()/orders[orders['group']=='A']['revenue'].mean()-1))\n",
    "results = stats.mannwhitneyu(orders[orders['group']=='A']['revenue'], orders[orders['group']=='B']['revenue'])\n",
    "print('P-value: {}'.format(results.pvalue))\n",
    "if results.pvalue < alpha:\n",
    "    print('По неочищенным данным РАЗНИЦА в средних чеках в группах A и B СТАТИСТИЧЕСКИ ЗНАЧИМА!')\n",
    "else:\n",
    "    print('По неочищенным данным РАЗЛИЧИЙ в средних чеках в группах A и B НЕТ!')"
   ]
  },
  {
   "cell_type": "markdown",
   "metadata": {},
   "source": [
    "Таким образом, p-value составляет 0,729, что существенно превышает значение 0,05, и означает, что в среднем чеке по группам различий нет и, следовательно, нулевая гипотеза подтверждена. Средние чеки по \"сырым\" данным у групп А и В идентичны. Однако, при этом, средний чек группы B значительно выше среднего чека группы A - на 25,9%.\n",
    "\n",
    "Рассчитаем статистическую значимость различий в среднем количестве заказов на посетителя между группами по «очищенным» данным.\n",
    "\n",
    "Ранее было выявлено, что, как правило, пользователи соврешали 1-2 заказа и то, что было больше 2 заказов и заказы на сумму более 58233,2 у.е. принимались за аномалии.\n",
    "\n",
    "Для дальнейшего исследования, необходимо создать срезы пользователей с числом заказов больше 2 — users_with_many_orders и пользователей, совершивших заказы на сумму более 58233,2 у. е. — users_with_expensive_orders. Результат сохраним в переменной anomalous_users, и при помощи метода shape() определим, какое количество аномальных пользователей встречается во время данного исследования."
   ]
  },
  {
   "cell_type": "code",
   "execution_count": 44,
   "metadata": {},
   "outputs": [
    {
     "name": "stdout",
     "output_type": "stream",
     "text": [
      "1099    148427295\n",
      "18      199603092\n",
      "23      237748145\n",
      "37      249864742\n",
      "68      457167155\n",
      "Name: visitor_id, dtype: int64\n",
      "Кол-во аномальных пользователей:  31\n"
     ]
    }
   ],
   "source": [
    "users_with_many_orders = pd.concat([orders_by_users_a[orders_by_users_a['orders'] > 2]['visitor_id'], orders_by_users_b[orders_by_users_b['orders'] > 2]['visitor_id']], axis = 0)\n",
    "users_with_expensive_orders = orders[orders['revenue'] > 58233.2]['visitor_id']\n",
    "anomalous_users = pd.concat([users_with_many_orders, users_with_expensive_orders], axis = 0).drop_duplicates().sort_values()\n",
    "print(anomalous_users.head(5))\n",
    "print(\"Кол-во аномальных пользователей: \" ,len(anomalous_users))"
   ]
  },
  {
   "cell_type": "markdown",
   "metadata": {},
   "source": [
    "Таким образом, количество аномальных пользователей - 31. \n",
    "\n",
    "Определим, как действия аномальных пользователей повлияли на результаты теста. Перейдем к расчету статистической значимости различий в среднем количестве заказов на посетителя между группами теста по очищенным данным. \n",
    "\n",
    "Прежде всего, подготовим выборки количества заказов по пользователям по группам теста:"
   ]
  },
  {
   "cell_type": "code",
   "execution_count": 45,
   "metadata": {},
   "outputs": [
    {
     "name": "stdout",
     "output_type": "stream",
     "text": [
      "\n",
      "Относительный прирост конверсии группы B по отношению к группе A после очистки данных: 0.174\n",
      "P-value: 0.010074820358290555\n",
      "По очищенным данным в конверсии групп A и B РАЗНИЦА СТАТИСТИЧЕСКИ ЗНАЧИМА!\n"
     ]
    }
   ],
   "source": [
    "sample_a_filtered = pd.concat([\n",
    "    orders_by_users_a[np.logical_not(orders_by_users_a['visitor_id'].isin(anomalous_users))]['orders'],\n",
    "    orders_by_non_purchased_users_A\n",
    "], axis = 0)\n",
    "sample_b_filtered = pd.concat([\n",
    "    orders_by_users_b[np.logical_not(orders_by_users_b['visitor_id'].isin(anomalous_users))]['orders'],\n",
    "    orders_by_non_purchased_users_B\n",
    "], axis = 0)\n",
    "print('\\nОтносительный прирост конверсии группы B по отношению к группе A после очистки данных: {:.3f}'.format(sample_b_filtered.mean()/sample_a_filtered.mean()-1))\n",
    "results = stats.mannwhitneyu(sample_a_filtered, sample_b_filtered)\n",
    "print('P-value: {}'.format(results.pvalue))\n",
    "if results.pvalue < alpha:\n",
    "    print('По очищенным данным в конверсии групп A и B РАЗНИЦА СТАТИСТИЧЕСКИ ЗНАЧИМА!')\n",
    "else:\n",
    "    print('По очищенным данным РАЗЛИЧИЙ в конверсии групп A и B НЕТ!')"
   ]
  },
  {
   "cell_type": "markdown",
   "metadata": {},
   "source": [
    "Таким образом, p-value = 0.01, что является меньше, чем 0.05. Это означает, что нулевая гипотеза отвергается, т.е по «очищенным» данным различия в конверсии групп A и B имеются. При этом, относительный выигрыш группы В над группой А равен 17,4%, в то время как по \"сырым\" данным относительное преимущество группы В над группой А составило 13,8%.\n",
    "\n",
    "Далее рассчитаем статистическую значимость различий в среднем чеке заказа между группами по «очищенным» данным.\n",
    "\n",
    "За нулевую гипотезу примем то, что статистически значимых различий в средних чеках между группами нет, а в качестве альтернативной зададим, что статистически значимые различия есть."
   ]
  },
  {
   "cell_type": "code",
   "execution_count": 46,
   "metadata": {
    "scrolled": true
   },
   "outputs": [
    {
     "name": "stdout",
     "output_type": "stream",
     "text": [
      "Относительное изменение среднего чека в группе B по отношению группы A после очистки данных: -0.020\n",
      "P-value: 0.7977151576527292\n",
      "По очищенным данным РАЗЛИЧИЙ в средних чеках в группах A и B НЕТ!\n"
     ]
    }
   ],
   "source": [
    "print('Относительное изменение среднего чека в группе B по отношению группы A после очистки данных: {:.3f}'.format(\n",
    "orders[np.logical_and(orders['group']=='B', np.logical_not(orders['visitor_id'].isin(anomalous_users)))]['revenue'].mean()\\\n",
    "/orders[np.logical_and(orders['group']=='A', np.logical_not(orders['visitor_id'].isin(anomalous_users)))]['revenue'].mean()-1))\n",
    "       \n",
    "       \n",
    "results = stats.mannwhitneyu(orders[np.logical_and(orders['group']=='A', np.logical_not(orders['visitor_id'].isin(anomalous_users)))]['revenue'],\n",
    "                             orders[np.logical_and(orders['group']=='B', np.logical_not(orders['visitor_id'].isin(anomalous_users)))]['revenue'])\n",
    "print('P-value: {}'.format(results.pvalue))\n",
    "if results.pvalue < alpha:\n",
    "    print('По очищенным данным РАЗНИЦА в средних чеках в группах A и B СТАТИСТИЧЕСКИ ЗНАЧИМА!')\n",
    "else:\n",
    "    print('По очищенным данным РАЗЛИЧИЙ в средних чеках в группах A и B НЕТ!')"
   ]
  },
  {
   "cell_type": "markdown",
   "metadata": {},
   "source": [
    "Таким образом, p-value составляет 0,797, что значительно превышает значение показателя в 0.05. Следовательно, подтверждается нулевая гипотеза о том, что в среднем чеке различий также нет как и в случае анализа \"сырых\" данных, рассматриваемых выше. При этом, средний чек группы В оказался на 2% ниже среднего чека группы А, в то время как анализ \"сырых\" данных показал, что средний чек группы В был на 26% выше, чем средний чек группы А. В моем понимании, на данный показатель очень сильно повлиял заказ на 1,295 млн. у. е.  "
   ]
  },
  {
   "cell_type": "markdown",
   "metadata": {},
   "source": [
    "<div class=\"alert alert-success\">\n",
    "<h2> Комментарий ревьюера <a class=\"tocSkip\"> </h2>\n",
    "\n",
    "<b>Все отлично!👍:</b> \n",
    "    \n",
    "Хорошая работа! Тест для проверки гипотез выбран верно, результаты проинтерпретированы корректно, плюс за подробную интерпретацию результатов тестов.\n",
    "</div>"
   ]
  },
  {
   "cell_type": "markdown",
   "metadata": {},
   "source": [
    "<div class=\"alert alert-warning\">\n",
    "    <h2> Комментарий ревьюера <a class=\"tocSkip\"> </h2>\n",
    "    \n",
    "<b>Некоторые замечания и рекомендации💡:</b> \n",
    "    \n",
    "Несколько рекомендацией по этому шагу анализа (носят рекомендательный характер и являются развивающей обратной связью, при желании и возможности можно имплементировать часть (или все) рекомендации, а можно просто взять на вооружение🙌):\n",
    "\n",
    "* есть особенность в реализации теста Манна-Уитни <code>stats.mannwhitneyu</code>, тест имеет параметр <code>alternative</code>, по-умолчанию, он принимает значение <code>None</code> для совместимости, но в таком случае тест выполняет проверку похожую на одностороннюю, что не совсем корректно для нашего теста. Более корректные результаты можно получить, используя <code>alternative=\"two-sided\"</code>\n",
    "    \n",
    "Подробнее о проверках можно почитать вот в этой [статье](http://www.stat.yale.edu/Courses/1997-98/101/sigtest.htm#:~:text=An%20alternative%20hypothesis%20may%20be,the%20direction%20does%20not%20matter.) \n",
    "        \n",
    "В новой версии библиотеки scipy этот аргумент специфицируется по дефолту. В более старых версиях - его важно специфицировать. \n",
    "   \n",
    "* и еще про проблему выбора теста (одностороннего или двустороннего ты можешь почитать по ссылкам ниже):\n",
    "        \n",
    "`A two-tailed test is appropriate if you want to determine if there is any difference between the groups you are comparing. For instance, if you want to see if Group A scored higher or lower than Group B, then you would want to use a two-tailed test. This is because a two-tailed test uses both the positive and negative tails of the distribution. In other words, it tests for the possibility of positive or negative differences.`\n",
    "\n",
    "`A one-tailed test is appropriate if you only want to determine if there is a difference between groups in a specific direction. So, if you are only interested in determining if Group A scored higher than Group B, and you are completely uninterested in possibility of Group A scoring lower than Group B, then you may want to use a one-tailed test.`\n",
    "    \n",
    "Источник: https://www.statisticssolutions.com/should-you-use-a-one-tailed-test-or-a-two-tailed-test-for-your-data-analysis/#:~:text=This%20is%20because%20a%20two,groups%20in%20a%20specific%20direction.\n",
    "    \n",
    "И еще несколько ссылок по этому вопросу:\n",
    "    \n",
    "https://sphweb.bumc.bu.edu/otlt/mph-modules/bs/bs704_nonparametric/bs704_nonparametric4.html\n",
    "    \n",
    "https://stats.idre.ucla.edu/other/mult-pkg/faq/general/faq-what-are-the-differences-between-one-tailed-and-two-tailed-tests/\n",
    "    \n",
    "https://www.statisticshowto.com/probability-and-statistics/hypothesis-testing/one-tailed-test-or-two/\n",
    "        \n",
    "* чтобы аргументировать применение теста Манна-Уитни (один из аргументов - ненормальность распределения), можно проверить выборки на нормальность распределения, с этой задачей справится тест Шапиро:\n",
    "        \n",
    "реализация на Python\n",
    "        \n",
    "https://www.statology.org/shapiro-wilk-test-python/\n",
    "        \n",
    "https://machinelearningmastery.com/a-gentle-introduction-to-normality-tests-in-python/\n",
    "        \n",
    "https://towardsdatascience.com/methods-for-normality-test-with-application-in-python-bb91b49ed0f5"
   ]
  },
  {
   "cell_type": "markdown",
   "metadata": {},
   "source": [
    "## Общий вывод по результатам исследования"
   ]
  },
  {
   "cell_type": "markdown",
   "metadata": {},
   "source": [
    "Во время данного исследования перед нами стояла задача принять один из трех возможных вариантов решений: \n",
    "\n",
    "1. Остановить тест, зафиксировать победу одной из групп.\n",
    "\n",
    "2. Остановить тест, зафиксировать отсутствие различий между группами.\n",
    "\n",
    "3. Продолжить тест.\n",
    "\n",
    "В результате исследования было выявлено следующее: \n",
    "\n",
    "1) и по \"сырым\", и по \"очищенным данным наблюдаются различия между группами А и В относительно конверсии. Относительное преимущество по данному показателю у группы В составило 17,4% по \"очищенным\" данным и 13,8% по \"сырым\" данным. \n",
    "\n",
    "2) несмотря на то, что средний чек группы В оказался на 2% ниже среднего чека группы А по \"очищенным\" данным и на 26% выше по \"сырым\" данным из-за аномального заказа на сумму 1,295 млн. у. е., различия в средних чеках между группами А и В отсутствуют.\n",
    "\n",
    "В связи с этим можно сделать вывод о том, что тестирование стоит завершить и признать победу за группой В. Группа В намного эффективнее по конверсии, чем группа А, несмотря на то, что после очистки данных показатели среднего сека по группам стали приблизительно одинаковыми. "
   ]
  },
  {
   "cell_type": "markdown",
   "metadata": {},
   "source": [
    "<div style=\"border:solid Chocolate 2px; padding: 40px\">\n",
    "\n",
    "**Общий вывод по проекту**\n",
    "\n",
    "Екатерина, спасибо за твой проект! Ты приложила много усилий, чтобы довести его до конца, все задачи в рамках проекта тебе удалось успешно решить, это видно невооруженным глазом, отличная работа! У меня нет критичных замечаний к твоей работе, только несколько рекомендаций, которые ты сможешь освоить самостоятельно в удобное для тебя время👌\n",
    "    \n",
    "\n",
    "**Отмечу отдельные положительные моменты проекта🙂**:\n",
    "* На разных шагах проекта ты предлагала очень интересные решения и методы для их реализации. Хорошая работа!\n",
    "* Ты активно работала с визуализацией, хорошо, что ты используешь графики в работе над проектами!\n",
    "* Тест для проверки гипотез выбран верно, интерпретация результатов теста также корректна, отдельный плюс за гипотезы в случае каждого теста.\n",
    "* Проект в целом хорошо структурирован и оформлен, добавлены подробные выводы, виден твой аналитический подход к решению поставленной задачи.\n",
    "\n",
    "    \n",
    "Спешу тебе сообщить, что твой проект принят и ты можешь перейти на следующий спринт🐱‍🏍\n",
    "    \n",
    "Желаю тебе крутых и интересных проектов на следующих спринтах🙌😉\n",
    "    \n",
    "![gif](https://media.giphy.com/media/l41Yh1olOKd1Tgbw4/giphy.gif)"
   ]
  },
  {
   "cell_type": "code",
   "execution_count": null,
   "metadata": {},
   "outputs": [],
   "source": []
  }
 ],
 "metadata": {
  "ExecuteTimeLog": [
   {
    "duration": 63,
    "start_time": "2023-06-19T20:25:15.126Z"
   },
   {
    "duration": 61,
    "start_time": "2023-06-19T20:25:25.635Z"
   },
   {
    "duration": 1267,
    "start_time": "2023-06-19T20:31:15.542Z"
   },
   {
    "duration": 248,
    "start_time": "2023-06-19T20:31:23.718Z"
   },
   {
    "duration": 11,
    "start_time": "2023-06-19T20:31:58.927Z"
   },
   {
    "duration": 12,
    "start_time": "2023-06-19T20:32:07.852Z"
   },
   {
    "duration": 14,
    "start_time": "2023-06-19T20:32:46.714Z"
   },
   {
    "duration": 13,
    "start_time": "2023-06-19T20:32:57.517Z"
   },
   {
    "duration": 30,
    "start_time": "2023-06-19T20:33:35.571Z"
   },
   {
    "duration": 9,
    "start_time": "2023-06-19T20:33:49.465Z"
   },
   {
    "duration": 17,
    "start_time": "2023-06-19T20:34:16.292Z"
   },
   {
    "duration": 8,
    "start_time": "2023-06-19T20:34:27.918Z"
   },
   {
    "duration": 5,
    "start_time": "2023-06-19T20:34:56.998Z"
   },
   {
    "duration": 9,
    "start_time": "2023-06-19T20:35:28.255Z"
   },
   {
    "duration": 7,
    "start_time": "2023-06-19T20:35:39.463Z"
   },
   {
    "duration": 5,
    "start_time": "2023-06-19T20:35:59.908Z"
   },
   {
    "duration": 9,
    "start_time": "2023-06-19T20:36:06.888Z"
   },
   {
    "duration": 7,
    "start_time": "2023-06-19T20:36:15.589Z"
   },
   {
    "duration": 11,
    "start_time": "2023-06-19T20:36:26.441Z"
   },
   {
    "duration": 8,
    "start_time": "2023-06-19T20:36:39.109Z"
   },
   {
    "duration": 4,
    "start_time": "2023-06-19T20:37:04.350Z"
   },
   {
    "duration": 7,
    "start_time": "2023-06-19T20:38:01.805Z"
   },
   {
    "duration": 7,
    "start_time": "2023-06-19T20:38:40.851Z"
   },
   {
    "duration": 9,
    "start_time": "2023-06-19T20:38:51.915Z"
   },
   {
    "duration": 14,
    "start_time": "2023-06-19T20:39:05.194Z"
   },
   {
    "duration": 7,
    "start_time": "2023-06-19T20:40:11.256Z"
   },
   {
    "duration": 22,
    "start_time": "2023-06-19T20:40:28.297Z"
   },
   {
    "duration": 9,
    "start_time": "2023-06-19T20:40:37.714Z"
   },
   {
    "duration": 17,
    "start_time": "2023-06-19T20:40:57.444Z"
   },
   {
    "duration": 18,
    "start_time": "2023-06-19T20:41:10.218Z"
   },
   {
    "duration": 4,
    "start_time": "2023-06-19T20:41:22.918Z"
   },
   {
    "duration": 275,
    "start_time": "2023-06-19T20:41:39.525Z"
   },
   {
    "duration": 268,
    "start_time": "2023-06-19T20:41:58.563Z"
   },
   {
    "duration": 12,
    "start_time": "2023-06-19T20:42:23.921Z"
   },
   {
    "duration": 15,
    "start_time": "2023-06-19T20:42:43.848Z"
   },
   {
    "duration": 189,
    "start_time": "2023-06-19T20:43:44.129Z"
   },
   {
    "duration": 172,
    "start_time": "2023-06-19T20:43:53.721Z"
   },
   {
    "duration": 56,
    "start_time": "2023-06-19T20:44:20.162Z"
   },
   {
    "duration": 317,
    "start_time": "2023-06-19T20:44:32.503Z"
   },
   {
    "duration": 65,
    "start_time": "2023-06-19T20:45:22.188Z"
   },
   {
    "duration": 228,
    "start_time": "2023-06-19T20:45:50.687Z"
   },
   {
    "duration": 366,
    "start_time": "2023-06-19T20:46:27.883Z"
   },
   {
    "duration": 18,
    "start_time": "2023-06-19T20:47:06.190Z"
   },
   {
    "duration": 112,
    "start_time": "2023-06-19T20:47:24.165Z"
   },
   {
    "duration": 129,
    "start_time": "2023-06-19T20:47:37.702Z"
   },
   {
    "duration": 132,
    "start_time": "2023-06-19T20:47:50.738Z"
   },
   {
    "duration": 5,
    "start_time": "2023-06-19T20:48:15.345Z"
   },
   {
    "duration": 4,
    "start_time": "2023-06-19T20:48:23.916Z"
   },
   {
    "duration": 188,
    "start_time": "2023-06-19T20:48:59.676Z"
   },
   {
    "duration": 148,
    "start_time": "2023-06-19T20:49:10.913Z"
   },
   {
    "duration": 54,
    "start_time": "2023-06-19T20:49:18.813Z"
   },
   {
    "duration": 179,
    "start_time": "2023-06-19T20:49:29.952Z"
   },
   {
    "duration": 4,
    "start_time": "2023-06-19T20:50:17.053Z"
   },
   {
    "duration": 9,
    "start_time": "2023-06-19T20:50:47.026Z"
   },
   {
    "duration": 7,
    "start_time": "2023-06-19T20:50:54.847Z"
   },
   {
    "duration": 167,
    "start_time": "2023-06-19T20:51:04.992Z"
   },
   {
    "duration": 27,
    "start_time": "2023-06-19T20:51:23.170Z"
   },
   {
    "duration": 136,
    "start_time": "2023-06-19T20:51:49.920Z"
   },
   {
    "duration": 7,
    "start_time": "2023-06-19T20:52:07.976Z"
   },
   {
    "duration": 60,
    "start_time": "2023-06-19T20:52:50.111Z"
   },
   {
    "duration": 63,
    "start_time": "2023-06-19T20:53:14.877Z"
   },
   {
    "duration": 75,
    "start_time": "2023-06-19T20:53:20.786Z"
   },
   {
    "duration": 8,
    "start_time": "2023-06-19T20:54:01.825Z"
   },
   {
    "duration": 54,
    "start_time": "2023-06-19T20:54:21.443Z"
   },
   {
    "duration": 7,
    "start_time": "2023-06-19T20:54:32.749Z"
   },
   {
    "duration": 21,
    "start_time": "2023-06-19T20:54:48.422Z"
   },
   {
    "duration": 108,
    "start_time": "2023-06-19T20:54:59.330Z"
   },
   {
    "duration": 18,
    "start_time": "2023-06-19T20:55:44.385Z"
   },
   {
    "duration": 74,
    "start_time": "2023-06-22T18:14:26.660Z"
   },
   {
    "duration": 1662,
    "start_time": "2023-06-22T18:14:31.604Z"
   },
   {
    "duration": 212,
    "start_time": "2023-06-22T18:14:33.911Z"
   },
   {
    "duration": 18,
    "start_time": "2023-06-22T18:14:36.509Z"
   },
   {
    "duration": 17,
    "start_time": "2023-06-22T18:15:06.031Z"
   },
   {
    "duration": 12,
    "start_time": "2023-06-22T18:15:30.950Z"
   },
   {
    "duration": 15,
    "start_time": "2023-06-22T18:15:54.832Z"
   },
   {
    "duration": 4,
    "start_time": "2023-06-22T18:16:48.413Z"
   },
   {
    "duration": 75,
    "start_time": "2023-06-22T18:16:51.713Z"
   },
   {
    "duration": 9,
    "start_time": "2023-06-22T18:16:56.078Z"
   },
   {
    "duration": 8,
    "start_time": "2023-06-22T18:17:10.160Z"
   },
   {
    "duration": 11,
    "start_time": "2023-06-22T18:17:13.519Z"
   },
   {
    "duration": 11,
    "start_time": "2023-06-22T18:17:25.169Z"
   },
   {
    "duration": 6,
    "start_time": "2023-06-22T18:17:58.570Z"
   },
   {
    "duration": 14,
    "start_time": "2023-06-22T18:20:54.967Z"
   },
   {
    "duration": 6,
    "start_time": "2023-06-22T18:21:43.729Z"
   },
   {
    "duration": 9,
    "start_time": "2023-06-22T18:23:11.268Z"
   },
   {
    "duration": 9,
    "start_time": "2023-06-22T18:23:18.828Z"
   },
   {
    "duration": 13,
    "start_time": "2023-06-22T18:23:29.724Z"
   },
   {
    "duration": 10,
    "start_time": "2023-06-22T18:24:04.976Z"
   },
   {
    "duration": 9,
    "start_time": "2023-06-22T18:24:08.772Z"
   },
   {
    "duration": 7,
    "start_time": "2023-06-22T18:26:37.192Z"
   },
   {
    "duration": 6,
    "start_time": "2023-06-22T18:27:24.578Z"
   },
   {
    "duration": 17,
    "start_time": "2023-06-22T18:28:36.270Z"
   },
   {
    "duration": 13,
    "start_time": "2023-06-22T18:36:07.762Z"
   },
   {
    "duration": 21,
    "start_time": "2023-06-22T18:36:18.710Z"
   },
   {
    "duration": 15,
    "start_time": "2023-06-22T18:38:55.069Z"
   },
   {
    "duration": 11,
    "start_time": "2023-06-22T18:39:03.036Z"
   },
   {
    "duration": 12,
    "start_time": "2023-06-22T18:39:15.104Z"
   },
   {
    "duration": 82,
    "start_time": "2023-06-22T18:42:33.630Z"
   },
   {
    "duration": 6,
    "start_time": "2023-06-22T18:43:56.299Z"
   },
   {
    "duration": 7,
    "start_time": "2023-06-22T18:44:39.753Z"
   },
   {
    "duration": 15,
    "start_time": "2023-06-22T18:45:44.559Z"
   },
   {
    "duration": 13,
    "start_time": "2023-06-22T18:45:58.070Z"
   },
   {
    "duration": 69,
    "start_time": "2023-06-23T17:50:41.110Z"
   },
   {
    "duration": 1457,
    "start_time": "2023-06-23T17:50:46.596Z"
   },
   {
    "duration": 275,
    "start_time": "2023-06-23T17:50:48.055Z"
   },
   {
    "duration": 17,
    "start_time": "2023-06-23T17:50:49.154Z"
   },
   {
    "duration": 15,
    "start_time": "2023-06-23T17:50:49.865Z"
   },
   {
    "duration": 6,
    "start_time": "2023-06-23T17:50:51.695Z"
   },
   {
    "duration": 10,
    "start_time": "2023-06-23T17:50:55.756Z"
   },
   {
    "duration": 6,
    "start_time": "2023-06-23T17:50:58.905Z"
   },
   {
    "duration": 9,
    "start_time": "2023-06-23T17:51:01.372Z"
   },
   {
    "duration": 11,
    "start_time": "2023-06-23T17:51:04.960Z"
   },
   {
    "duration": 7,
    "start_time": "2023-06-23T17:51:05.600Z"
   },
   {
    "duration": 19,
    "start_time": "2023-06-23T17:51:48.860Z"
   },
   {
    "duration": 7,
    "start_time": "2023-06-23T17:51:57.290Z"
   },
   {
    "duration": 25,
    "start_time": "2023-06-23T17:52:02.204Z"
   },
   {
    "duration": 6,
    "start_time": "2023-06-23T17:52:06.792Z"
   },
   {
    "duration": 6,
    "start_time": "2023-06-23T17:52:32.204Z"
   },
   {
    "duration": 11,
    "start_time": "2023-06-23T17:52:32.781Z"
   },
   {
    "duration": 7,
    "start_time": "2023-06-23T17:53:26.969Z"
   },
   {
    "duration": 7,
    "start_time": "2023-06-23T17:53:27.910Z"
   },
   {
    "duration": 78,
    "start_time": "2023-06-23T17:56:19.303Z"
   },
   {
    "duration": 5,
    "start_time": "2023-06-23T17:56:31.791Z"
   },
   {
    "duration": 4,
    "start_time": "2023-06-23T17:56:50.848Z"
   },
   {
    "duration": 23,
    "start_time": "2023-06-23T18:01:33.313Z"
   },
   {
    "duration": 11,
    "start_time": "2023-06-23T18:03:16.802Z"
   },
   {
    "duration": 9,
    "start_time": "2023-06-23T18:05:40.748Z"
   },
   {
    "duration": 10,
    "start_time": "2023-06-23T18:45:30.213Z"
   },
   {
    "duration": 24,
    "start_time": "2023-06-23T18:47:29.814Z"
   },
   {
    "duration": 11,
    "start_time": "2023-06-23T18:47:39.286Z"
   },
   {
    "duration": 18,
    "start_time": "2023-06-23T18:48:36.325Z"
   },
   {
    "duration": 14,
    "start_time": "2023-06-23T18:48:51.683Z"
   },
   {
    "duration": 18,
    "start_time": "2023-06-23T18:49:02.751Z"
   },
   {
    "duration": 19,
    "start_time": "2023-06-23T18:49:13.246Z"
   },
   {
    "duration": 6,
    "start_time": "2023-06-23T18:49:23.957Z"
   },
   {
    "duration": 26,
    "start_time": "2023-06-23T18:49:28.415Z"
   },
   {
    "duration": 14,
    "start_time": "2023-06-23T18:49:36.531Z"
   },
   {
    "duration": 12,
    "start_time": "2023-06-23T18:50:59.311Z"
   },
   {
    "duration": 24,
    "start_time": "2023-06-23T18:51:10.111Z"
   },
   {
    "duration": 11,
    "start_time": "2023-06-23T18:51:25.663Z"
   },
   {
    "duration": 18,
    "start_time": "2023-06-23T18:52:02.458Z"
   },
   {
    "duration": 16,
    "start_time": "2023-06-23T18:53:23.706Z"
   },
   {
    "duration": 13,
    "start_time": "2023-06-23T18:53:55.470Z"
   },
   {
    "duration": 2059,
    "start_time": "2023-06-23T18:56:56.730Z"
   },
   {
    "duration": 20,
    "start_time": "2023-06-23T18:57:31.132Z"
   },
   {
    "duration": 12,
    "start_time": "2023-06-23T18:57:58.700Z"
   },
   {
    "duration": 30,
    "start_time": "2023-06-23T18:59:03.304Z"
   },
   {
    "duration": 12,
    "start_time": "2023-06-23T18:59:13.079Z"
   },
   {
    "duration": 82,
    "start_time": "2023-06-24T10:03:06.548Z"
   },
   {
    "duration": 1915,
    "start_time": "2023-06-24T10:03:14.390Z"
   },
   {
    "duration": 397,
    "start_time": "2023-06-24T10:03:16.307Z"
   },
   {
    "duration": 16,
    "start_time": "2023-06-24T10:03:16.706Z"
   },
   {
    "duration": 19,
    "start_time": "2023-06-24T10:03:16.727Z"
   },
   {
    "duration": 10,
    "start_time": "2023-06-24T10:03:16.747Z"
   },
   {
    "duration": 19,
    "start_time": "2023-06-24T10:03:17.370Z"
   },
   {
    "duration": 7,
    "start_time": "2023-06-24T10:03:18.090Z"
   },
   {
    "duration": 16,
    "start_time": "2023-06-24T10:03:18.560Z"
   },
   {
    "duration": 24,
    "start_time": "2023-06-24T10:03:19.081Z"
   },
   {
    "duration": 9,
    "start_time": "2023-06-24T10:03:19.329Z"
   },
   {
    "duration": 28,
    "start_time": "2023-06-24T10:03:19.829Z"
   },
   {
    "duration": 10,
    "start_time": "2023-06-24T10:03:20.402Z"
   },
   {
    "duration": 16,
    "start_time": "2023-06-24T10:03:20.846Z"
   },
   {
    "duration": 21,
    "start_time": "2023-06-24T10:03:21.830Z"
   },
   {
    "duration": 9,
    "start_time": "2023-06-24T10:03:22.305Z"
   },
   {
    "duration": 12,
    "start_time": "2023-06-24T10:03:22.869Z"
   },
   {
    "duration": 5,
    "start_time": "2023-06-24T10:03:23.890Z"
   },
   {
    "duration": 12,
    "start_time": "2023-06-24T10:03:24.346Z"
   },
   {
    "duration": 24,
    "start_time": "2023-06-24T10:03:25.401Z"
   },
   {
    "duration": 18,
    "start_time": "2023-06-24T10:03:26.505Z"
   },
   {
    "duration": 30,
    "start_time": "2023-06-24T10:03:29.149Z"
   },
   {
    "duration": 23,
    "start_time": "2023-06-24T10:03:30.379Z"
   },
   {
    "duration": 23,
    "start_time": "2023-06-24T10:03:34.604Z"
   },
   {
    "duration": 27,
    "start_time": "2023-06-24T10:05:29.039Z"
   },
   {
    "duration": 32,
    "start_time": "2023-06-24T10:06:25.549Z"
   },
   {
    "duration": 47,
    "start_time": "2023-06-24T13:05:54.204Z"
   },
   {
    "duration": 1801,
    "start_time": "2023-06-24T13:07:04.039Z"
   },
   {
    "duration": 248,
    "start_time": "2023-06-24T13:07:05.842Z"
   },
   {
    "duration": 12,
    "start_time": "2023-06-24T13:07:07.783Z"
   },
   {
    "duration": 12,
    "start_time": "2023-06-24T13:07:10.290Z"
   },
   {
    "duration": 6,
    "start_time": "2023-06-24T13:07:11.646Z"
   },
   {
    "duration": 9,
    "start_time": "2023-06-24T13:07:14.286Z"
   },
   {
    "duration": 6,
    "start_time": "2023-06-24T13:07:16.701Z"
   },
   {
    "duration": 10,
    "start_time": "2023-06-24T13:07:17.789Z"
   },
   {
    "duration": 12,
    "start_time": "2023-06-24T13:07:18.440Z"
   },
   {
    "duration": 6,
    "start_time": "2023-06-24T13:07:21.318Z"
   },
   {
    "duration": 14,
    "start_time": "2023-06-24T13:07:21.903Z"
   },
   {
    "duration": 7,
    "start_time": "2023-06-24T13:07:23.393Z"
   },
   {
    "duration": 9,
    "start_time": "2023-06-24T13:07:25.684Z"
   },
   {
    "duration": 12,
    "start_time": "2023-06-24T13:07:26.791Z"
   },
   {
    "duration": 7,
    "start_time": "2023-06-24T13:07:27.529Z"
   },
   {
    "duration": 5,
    "start_time": "2023-06-24T13:07:28.290Z"
   },
   {
    "duration": 5,
    "start_time": "2023-06-24T13:07:31.800Z"
   },
   {
    "duration": 6,
    "start_time": "2023-06-24T13:07:32.510Z"
   },
   {
    "duration": 9,
    "start_time": "2023-06-24T13:07:34.187Z"
   },
   {
    "duration": 11,
    "start_time": "2023-06-24T13:07:37.538Z"
   },
   {
    "duration": 20,
    "start_time": "2023-06-24T13:07:42.760Z"
   },
   {
    "duration": 15,
    "start_time": "2023-06-24T13:07:43.940Z"
   },
   {
    "duration": 15,
    "start_time": "2023-06-24T13:07:51.329Z"
   },
   {
    "duration": 21,
    "start_time": "2023-06-24T13:07:54.428Z"
   },
   {
    "duration": 21,
    "start_time": "2023-06-24T13:07:55.388Z"
   },
   {
    "duration": 5,
    "start_time": "2023-06-24T13:07:58.034Z"
   },
   {
    "duration": 29,
    "start_time": "2023-06-24T13:11:37.371Z"
   },
   {
    "duration": 74,
    "start_time": "2023-06-24T13:11:58.601Z"
   },
   {
    "duration": 10,
    "start_time": "2023-06-24T13:12:06.805Z"
   },
   {
    "duration": 5,
    "start_time": "2023-06-24T13:12:21.307Z"
   },
   {
    "duration": 4,
    "start_time": "2023-06-24T13:12:27.940Z"
   },
   {
    "duration": 10,
    "start_time": "2023-06-24T13:12:49.652Z"
   },
   {
    "duration": 9,
    "start_time": "2023-06-24T13:12:56.764Z"
   },
   {
    "duration": 5,
    "start_time": "2023-06-24T13:13:27.628Z"
   },
   {
    "duration": 7,
    "start_time": "2023-06-24T13:14:27.349Z"
   },
   {
    "duration": 5,
    "start_time": "2023-06-24T13:14:35.106Z"
   },
   {
    "duration": 74,
    "start_time": "2023-06-24T13:46:53.266Z"
   },
   {
    "duration": 12,
    "start_time": "2023-06-24T13:47:39.609Z"
   },
   {
    "duration": 31,
    "start_time": "2023-06-24T13:47:59.550Z"
   },
   {
    "duration": 180,
    "start_time": "2023-06-24T13:49:07.939Z"
   },
   {
    "duration": 185,
    "start_time": "2023-06-24T13:50:33.258Z"
   },
   {
    "duration": 319,
    "start_time": "2023-06-24T13:51:58.205Z"
   },
   {
    "duration": 1304,
    "start_time": "2023-06-25T11:41:40.655Z"
   },
   {
    "duration": 190,
    "start_time": "2023-06-25T11:41:41.961Z"
   },
   {
    "duration": 12,
    "start_time": "2023-06-25T11:41:42.380Z"
   },
   {
    "duration": 12,
    "start_time": "2023-06-25T11:41:42.861Z"
   },
   {
    "duration": 6,
    "start_time": "2023-06-25T11:41:43.755Z"
   },
   {
    "duration": 8,
    "start_time": "2023-06-25T11:41:44.370Z"
   },
   {
    "duration": 5,
    "start_time": "2023-06-25T11:41:44.991Z"
   },
   {
    "duration": 8,
    "start_time": "2023-06-25T11:41:45.739Z"
   },
   {
    "duration": 11,
    "start_time": "2023-06-25T11:41:46.098Z"
   },
   {
    "duration": 6,
    "start_time": "2023-06-25T11:41:46.497Z"
   },
   {
    "duration": 13,
    "start_time": "2023-06-25T11:41:47.392Z"
   },
   {
    "duration": 8,
    "start_time": "2023-06-25T11:41:48.099Z"
   },
   {
    "duration": 10,
    "start_time": "2023-06-25T11:41:48.445Z"
   },
   {
    "duration": 11,
    "start_time": "2023-06-25T11:41:49.202Z"
   },
   {
    "duration": 6,
    "start_time": "2023-06-25T11:41:49.731Z"
   },
   {
    "duration": 5,
    "start_time": "2023-06-25T11:41:50.151Z"
   },
   {
    "duration": 5,
    "start_time": "2023-06-25T11:41:51.119Z"
   },
   {
    "duration": 4,
    "start_time": "2023-06-25T11:41:51.588Z"
   },
   {
    "duration": 10,
    "start_time": "2023-06-25T11:41:53.334Z"
   },
   {
    "duration": 8,
    "start_time": "2023-06-25T11:41:54.412Z"
   },
   {
    "duration": 14,
    "start_time": "2023-06-25T11:41:56.682Z"
   },
   {
    "duration": 13,
    "start_time": "2023-06-25T11:41:57.610Z"
   },
   {
    "duration": 10,
    "start_time": "2023-06-25T11:42:05.392Z"
   },
   {
    "duration": 13,
    "start_time": "2023-06-25T11:42:06.935Z"
   },
   {
    "duration": 18,
    "start_time": "2023-06-25T11:42:07.961Z"
   },
   {
    "duration": 4,
    "start_time": "2023-06-25T11:42:10.635Z"
   },
   {
    "duration": 4,
    "start_time": "2023-06-25T11:42:11.066Z"
   },
   {
    "duration": 275,
    "start_time": "2023-06-25T11:42:12.469Z"
   },
   {
    "duration": 284,
    "start_time": "2023-06-25T11:43:32.548Z"
   },
   {
    "duration": 283,
    "start_time": "2023-06-25T11:43:55.662Z"
   },
   {
    "duration": 8,
    "start_time": "2023-06-25T11:45:47.462Z"
   },
   {
    "duration": 13,
    "start_time": "2023-06-25T11:46:06.600Z"
   },
   {
    "duration": 356,
    "start_time": "2023-06-25T11:49:31.631Z"
   },
   {
    "duration": 216,
    "start_time": "2023-06-25T11:50:03.593Z"
   },
   {
    "duration": 204,
    "start_time": "2023-06-25T11:50:11.493Z"
   },
   {
    "duration": 208,
    "start_time": "2023-06-25T11:50:19.720Z"
   },
   {
    "duration": 84,
    "start_time": "2023-06-25T12:15:13.414Z"
   },
   {
    "duration": 12,
    "start_time": "2023-06-25T12:15:19.266Z"
   },
   {
    "duration": 16,
    "start_time": "2023-06-25T13:13:10.625Z"
   },
   {
    "duration": 237,
    "start_time": "2023-06-25T13:23:24.341Z"
   },
   {
    "duration": 1704,
    "start_time": "2023-06-25T13:43:59.231Z"
   },
   {
    "duration": 387,
    "start_time": "2023-06-25T13:46:11.922Z"
   },
   {
    "duration": 405,
    "start_time": "2023-06-25T13:46:17.874Z"
   },
   {
    "duration": 11,
    "start_time": "2023-06-25T14:18:35.334Z"
   },
   {
    "duration": 227,
    "start_time": "2023-06-25T14:20:05.888Z"
   },
   {
    "duration": 324,
    "start_time": "2023-06-25T14:42:29.740Z"
   },
   {
    "duration": 19,
    "start_time": "2023-06-25T15:06:14.156Z"
   },
   {
    "duration": 138,
    "start_time": "2023-06-25T15:07:34.143Z"
   },
   {
    "duration": 125,
    "start_time": "2023-06-25T15:08:02.928Z"
   },
   {
    "duration": 246,
    "start_time": "2023-06-25T15:08:15.547Z"
   },
   {
    "duration": 144,
    "start_time": "2023-06-25T15:08:53.936Z"
   },
   {
    "duration": 248,
    "start_time": "2023-06-25T15:11:44.505Z"
   },
   {
    "duration": 241,
    "start_time": "2023-06-25T15:11:48.590Z"
   },
   {
    "duration": 1253,
    "start_time": "2023-06-25T17:08:16.192Z"
   },
   {
    "duration": 245,
    "start_time": "2023-06-25T17:08:17.447Z"
   },
   {
    "duration": 11,
    "start_time": "2023-06-25T17:08:17.694Z"
   },
   {
    "duration": 11,
    "start_time": "2023-06-25T17:08:17.706Z"
   },
   {
    "duration": 5,
    "start_time": "2023-06-25T17:08:18.249Z"
   },
   {
    "duration": 8,
    "start_time": "2023-06-25T17:08:18.862Z"
   },
   {
    "duration": 5,
    "start_time": "2023-06-25T17:08:19.243Z"
   },
   {
    "duration": 8,
    "start_time": "2023-06-25T17:08:19.613Z"
   },
   {
    "duration": 9,
    "start_time": "2023-06-25T17:08:19.776Z"
   },
   {
    "duration": 6,
    "start_time": "2023-06-25T17:08:20.016Z"
   },
   {
    "duration": 12,
    "start_time": "2023-06-25T17:08:20.509Z"
   },
   {
    "duration": 6,
    "start_time": "2023-06-25T17:08:21.039Z"
   },
   {
    "duration": 8,
    "start_time": "2023-06-25T17:08:21.319Z"
   },
   {
    "duration": 10,
    "start_time": "2023-06-25T17:08:21.988Z"
   },
   {
    "duration": 5,
    "start_time": "2023-06-25T17:08:22.312Z"
   },
   {
    "duration": 5,
    "start_time": "2023-06-25T17:08:22.683Z"
   },
   {
    "duration": 3,
    "start_time": "2023-06-25T17:08:23.834Z"
   },
   {
    "duration": 3,
    "start_time": "2023-06-25T17:08:24.137Z"
   },
   {
    "duration": 7,
    "start_time": "2023-06-25T17:08:24.657Z"
   },
   {
    "duration": 7,
    "start_time": "2023-06-25T17:08:25.115Z"
   },
   {
    "duration": 15,
    "start_time": "2023-06-25T17:08:26.139Z"
   },
   {
    "duration": 10,
    "start_time": "2023-06-25T17:08:26.788Z"
   },
   {
    "duration": 10,
    "start_time": "2023-06-25T17:08:28.526Z"
   },
   {
    "duration": 13,
    "start_time": "2023-06-25T17:08:29.622Z"
   },
   {
    "duration": 15,
    "start_time": "2023-06-25T17:08:29.891Z"
   },
   {
    "duration": 4,
    "start_time": "2023-06-25T17:08:30.176Z"
   },
   {
    "duration": 3,
    "start_time": "2023-06-25T17:08:30.608Z"
   },
   {
    "duration": 247,
    "start_time": "2023-06-25T17:08:31.762Z"
   },
   {
    "duration": 11,
    "start_time": "2023-06-25T17:08:33.750Z"
   },
   {
    "duration": 270,
    "start_time": "2023-06-25T17:08:35.293Z"
   },
   {
    "duration": 8,
    "start_time": "2023-06-25T17:08:36.656Z"
   },
   {
    "duration": 12,
    "start_time": "2023-06-25T17:08:37.717Z"
   },
   {
    "duration": 171,
    "start_time": "2023-06-25T17:08:39.157Z"
   },
   {
    "duration": 295,
    "start_time": "2023-06-25T17:08:40.242Z"
   },
   {
    "duration": 190,
    "start_time": "2023-06-25T17:08:41.564Z"
   },
   {
    "duration": 313,
    "start_time": "2023-06-25T17:08:43.086Z"
   },
   {
    "duration": 244,
    "start_time": "2023-06-25T17:08:45.495Z"
   },
   {
    "duration": 95,
    "start_time": "2023-06-25T17:09:27.131Z"
   },
   {
    "duration": 3,
    "start_time": "2023-06-25T17:09:42.477Z"
   },
   {
    "duration": 4,
    "start_time": "2023-06-25T17:10:35.411Z"
   },
   {
    "duration": 5,
    "start_time": "2023-06-25T17:11:51.392Z"
   },
   {
    "duration": 102,
    "start_time": "2023-06-25T17:14:47.206Z"
   },
   {
    "duration": 138,
    "start_time": "2023-06-25T17:15:10.539Z"
   },
   {
    "duration": 180,
    "start_time": "2023-06-25T17:15:40.811Z"
   },
   {
    "duration": 133,
    "start_time": "2023-06-25T17:15:46.379Z"
   },
   {
    "duration": 184,
    "start_time": "2023-06-25T17:21:36.108Z"
   },
   {
    "duration": 252,
    "start_time": "2023-06-25T17:23:51.224Z"
   },
   {
    "duration": 232,
    "start_time": "2023-06-25T17:24:01.364Z"
   },
   {
    "duration": 220,
    "start_time": "2023-06-25T17:24:11.121Z"
   },
   {
    "duration": 4,
    "start_time": "2023-06-25T17:25:12.248Z"
   },
   {
    "duration": 44,
    "start_time": "2023-06-25T17:59:50.619Z"
   },
   {
    "duration": 48,
    "start_time": "2023-06-25T18:00:33.149Z"
   },
   {
    "duration": 46,
    "start_time": "2023-06-25T18:00:39.702Z"
   },
   {
    "duration": 55,
    "start_time": "2023-06-25T18:00:51.502Z"
   },
   {
    "duration": 48,
    "start_time": "2023-06-25T18:00:58.830Z"
   },
   {
    "duration": 12,
    "start_time": "2023-06-25T18:06:54.150Z"
   },
   {
    "duration": 4,
    "start_time": "2023-06-25T18:22:23.707Z"
   },
   {
    "duration": 23,
    "start_time": "2023-06-25T18:24:30.254Z"
   },
   {
    "duration": 5,
    "start_time": "2023-06-25T18:28:29.674Z"
   },
   {
    "duration": 4,
    "start_time": "2023-06-25T18:29:08.222Z"
   },
   {
    "duration": 985,
    "start_time": "2023-06-25T18:32:01.996Z"
   },
   {
    "duration": 976,
    "start_time": "2023-06-25T18:32:12.450Z"
   },
   {
    "duration": 1134,
    "start_time": "2023-06-25T18:32:18.472Z"
   },
   {
    "duration": 1239,
    "start_time": "2023-06-25T18:33:38.051Z"
   },
   {
    "duration": 8,
    "start_time": "2023-06-25T18:35:00.428Z"
   },
   {
    "duration": 16,
    "start_time": "2023-06-25T18:37:20.242Z"
   },
   {
    "duration": 8,
    "start_time": "2023-06-25T18:37:38.098Z"
   },
   {
    "duration": 929,
    "start_time": "2023-06-25T18:43:22.535Z"
   },
   {
    "duration": 16,
    "start_time": "2023-06-25T18:43:40.808Z"
   },
   {
    "duration": 16,
    "start_time": "2023-06-25T18:44:14.401Z"
   },
   {
    "duration": 44,
    "start_time": "2023-06-25T18:47:54.140Z"
   },
   {
    "duration": 17,
    "start_time": "2023-06-25T18:56:09.614Z"
   },
   {
    "duration": 1156,
    "start_time": "2023-06-26T06:13:23.603Z"
   },
   {
    "duration": 201,
    "start_time": "2023-06-26T06:13:24.761Z"
   },
   {
    "duration": 11,
    "start_time": "2023-06-26T06:13:24.963Z"
   },
   {
    "duration": 22,
    "start_time": "2023-06-26T06:13:24.975Z"
   },
   {
    "duration": 36,
    "start_time": "2023-06-26T06:13:25.000Z"
   },
   {
    "duration": 44,
    "start_time": "2023-06-26T06:13:25.037Z"
   },
   {
    "duration": 27,
    "start_time": "2023-06-26T06:13:25.082Z"
   },
   {
    "duration": 26,
    "start_time": "2023-06-26T06:13:25.110Z"
   },
   {
    "duration": 15,
    "start_time": "2023-06-26T06:13:25.137Z"
   },
   {
    "duration": 41,
    "start_time": "2023-06-26T06:13:25.153Z"
   },
   {
    "duration": 23,
    "start_time": "2023-06-26T06:13:25.196Z"
   },
   {
    "duration": 12,
    "start_time": "2023-06-26T06:13:25.220Z"
   },
   {
    "duration": 11,
    "start_time": "2023-06-26T06:13:25.234Z"
   },
   {
    "duration": 10,
    "start_time": "2023-06-26T06:13:25.248Z"
   },
   {
    "duration": 10,
    "start_time": "2023-06-26T06:13:25.260Z"
   },
   {
    "duration": 28,
    "start_time": "2023-06-26T06:13:25.271Z"
   },
   {
    "duration": 20,
    "start_time": "2023-06-26T06:13:25.300Z"
   },
   {
    "duration": 8,
    "start_time": "2023-06-26T06:13:25.321Z"
   },
   {
    "duration": 12,
    "start_time": "2023-06-26T06:13:25.331Z"
   },
   {
    "duration": 6,
    "start_time": "2023-06-26T06:13:25.344Z"
   },
   {
    "duration": 23,
    "start_time": "2023-06-26T06:13:25.352Z"
   },
   {
    "duration": 9,
    "start_time": "2023-06-26T06:13:25.376Z"
   },
   {
    "duration": 8,
    "start_time": "2023-06-26T06:13:25.387Z"
   },
   {
    "duration": 12,
    "start_time": "2023-06-26T06:13:25.396Z"
   },
   {
    "duration": 27,
    "start_time": "2023-06-26T06:13:25.411Z"
   },
   {
    "duration": 5,
    "start_time": "2023-06-26T06:13:25.440Z"
   },
   {
    "duration": 13,
    "start_time": "2023-06-26T06:13:25.447Z"
   },
   {
    "duration": 285,
    "start_time": "2023-06-26T06:13:25.462Z"
   },
   {
    "duration": 12,
    "start_time": "2023-06-26T06:13:25.748Z"
   },
   {
    "duration": 279,
    "start_time": "2023-06-26T06:13:25.761Z"
   },
   {
    "duration": 9,
    "start_time": "2023-06-26T06:13:26.041Z"
   },
   {
    "duration": 31,
    "start_time": "2023-06-26T06:13:26.052Z"
   },
   {
    "duration": 206,
    "start_time": "2023-06-26T06:13:26.084Z"
   },
   {
    "duration": 292,
    "start_time": "2023-06-26T06:13:26.292Z"
   },
   {
    "duration": 210,
    "start_time": "2023-06-26T06:13:26.585Z"
   },
   {
    "duration": 290,
    "start_time": "2023-06-26T06:13:26.797Z"
   },
   {
    "duration": 245,
    "start_time": "2023-06-26T06:13:27.088Z"
   },
   {
    "duration": 4,
    "start_time": "2023-06-26T06:13:27.334Z"
   },
   {
    "duration": 21,
    "start_time": "2023-06-26T06:13:27.339Z"
   },
   {
    "duration": 242,
    "start_time": "2023-06-26T06:13:27.361Z"
   },
   {
    "duration": 4,
    "start_time": "2023-06-26T06:13:27.606Z"
   },
   {
    "duration": 140,
    "start_time": "2023-06-26T06:13:27.612Z"
   },
   {
    "duration": 11,
    "start_time": "2023-06-26T06:13:27.754Z"
   },
   {
    "duration": 14,
    "start_time": "2023-06-26T06:13:27.767Z"
   },
   {
    "duration": 66,
    "start_time": "2023-06-26T06:13:27.782Z"
   },
   {
    "duration": 12,
    "start_time": "2023-06-26T06:13:27.850Z"
   }
  ],
  "kernelspec": {
   "display_name": "Python 3 (ipykernel)",
   "language": "python",
   "name": "python3"
  },
  "language_info": {
   "codemirror_mode": {
    "name": "ipython",
    "version": 3
   },
   "file_extension": ".py",
   "mimetype": "text/x-python",
   "name": "python",
   "nbconvert_exporter": "python",
   "pygments_lexer": "ipython3",
   "version": "3.9.5"
  },
  "toc": {
   "base_numbering": 1,
   "nav_menu": {},
   "number_sections": true,
   "sideBar": true,
   "skip_h1_title": true,
   "title_cell": "Table of Contents",
   "title_sidebar": "Contents",
   "toc_cell": false,
   "toc_position": {},
   "toc_section_display": true,
   "toc_window_display": false
  }
 },
 "nbformat": 4,
 "nbformat_minor": 2
}
