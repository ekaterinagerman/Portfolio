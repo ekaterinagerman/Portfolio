{
 "cells": [
  {
   "cell_type": "markdown",
   "metadata": {},
   "source": [
    "# Проект по SQL \n",
    "\n",
    "## Описание исследования\n",
    "\n",
    "Коронавирус застал мир врасплох, изменив привычный порядок вещей. В свободное время жители городов больше не выходят на улицу, не посещают кафе и торговые центры. Зато стало больше времени для книг. Это заметили стартаперы — и бросились создавать приложения для тех, кто любит читать. Наша компания решила быть на волне и купила крупный сервис для чтения книг по подписке.\n",
    "\n",
    "В нашем распоряжении имеются таблицы, содержащие ключевую информацию о книгах, авторах, издательствах, пользовательских оценках и обзорах на книги.\n",
    "\n",
    "Таблица \"books\" содержит данные о книгах:\n",
    "\n",
    "- book_id — идентификатор книги;\n",
    "\n",
    "- author_id — идентификатор автора;\n",
    "\n",
    "- title — название книги;\n",
    "\n",
    "- num_pages — количество страниц;\n",
    "\n",
    "- publication_date — дата публикации книги;\n",
    "\n",
    "- publisher_id — идентификатор издателя.\n",
    "\n",
    "Таблица authors содержит данные об авторах:\n",
    "\n",
    "- author_id — идентификатор автора;\n",
    "\n",
    "- author — имя автора.\n",
    "\n",
    "Таблица publishers содержит данные об издательствах:\n",
    "\n",
    "- publisher_id — идентификатор издательства;\n",
    "- publisher — название издательства;\n",
    "\n",
    "Таблица ratings содержит данные о пользовательских оценках книг:\n",
    "\n",
    "- rating_id — идентификатор оценки;\n",
    "\n",
    "- book_id — идентификатор книги;\n",
    "\n",
    "- username — имя пользователя, оставившего оценку;\n",
    "\n",
    "- rating — оценка книги.\n",
    "\n",
    "Таблица reviews содержит данные о пользовательских обзорах на книги:\n",
    "\n",
    "- review_id — идентификатор обзора;\n",
    "\n",
    "- book_id — идентификатор книги;\n",
    "\n",
    "- username — имя пользователя, написавшего обзор;\n",
    "\n",
    "- text — текст обзора.\n",
    "\n",
    "Цель исследования - проведение анализа имеющейся базы данных и формулирование ценностного приложения для нового продукта.\n",
    "\n",
    "Во время проведения исследования необходимо выполнить следующие задачи:\n",
    "\n",
    "1) Определить количество книг, вышедших после 01.01.2020 г.;\n",
    "\n",
    "2) Определить количество обзоров и среднюю оценку для каждой из книг, содержащейся в базе данных;\n",
    "\n",
    "3) Определить издательство, которое выпустило наибольшее число книг толще 50 страниц, и исключить из анализа брошюры;\n",
    "\n",
    "4) Определить автора с самой высокой средней оценкой книг — оценка от 50 и более;\n",
    "\n",
    "5) Определить среднее количество обзоров от пользователей, которые поставили больше 48 оценок.\n",
    "\n",
    "## Подключение к базе данных\n",
    "Для получения доступа к данным необходимо осуществить подключение к базе данных."
   ]
  },
  {
   "cell_type": "code",
   "execution_count": 2,
   "metadata": {},
   "outputs": [],
   "source": [
    "# импортируем библиотеки\n",
    "import pandas as pd\n",
    "from sqlalchemy import text, create_engine\n",
    "# устанавливаем параметры\n",
    "db_config = {'user': 'praktikum_student', # имя пользователя\n",
    "'pwd': 'Sdf4$2;d-d30pp', # пароль\n",
    "'host': 'rc1b-wcoijxj3yxfsf3fs.mdb.yandexcloud.net',\n",
    "'port': 6432, # порт подключения\n",
    "'db': 'data-analyst-final-project-db'} # название базы данных\n",
    "connection_string = 'postgresql://{user}:{pwd}@{host}:{port}/{db}'.format(**db_config)\n",
    "# сохраняем коннектор\n",
    "engine = create_engine(connection_string, connect_args={'sslmode':'require'})"
   ]
  },
  {
   "cell_type": "markdown",
   "metadata": {},
   "source": [
    "Т.к. работа с базой данных осуществляется не из ее консоли, а через удаленное подключение, необходимо создать переменную engine и сохранить в ней код для предотвращения закрытия удаленного подключения через определенный период бездействия."
   ]
  },
  {
   "cell_type": "code",
   "execution_count": 3,
   "metadata": {},
   "outputs": [],
   "source": [
    "engine = create_engine(connection_string, connect_args={'sslmode':'require'})\n",
    "con=engine.connect()"
   ]
  },
  {
   "cell_type": "markdown",
   "metadata": {},
   "source": [
    "## Исследование имеющихся в распоряжении таблиц\n",
    "\n",
    "Далее изучим информацию, содержащуюся в каждой из имеющихся таблиц: \n",
    "\n",
    "1) Таблица books: \n",
    "\n",
    "С помощью info() посмотрим ключевую информацию о таблице. "
   ]
  },
  {
   "cell_type": "code",
   "execution_count": 4,
   "metadata": {},
   "outputs": [
    {
     "name": "stdout",
     "output_type": "stream",
     "text": [
      "<class 'pandas.core.frame.DataFrame'>\n",
      "RangeIndex: 1000 entries, 0 to 999\n",
      "Data columns (total 6 columns):\n",
      " #   Column            Non-Null Count  Dtype \n",
      "---  ------            --------------  ----- \n",
      " 0   book_id           1000 non-null   int64 \n",
      " 1   author_id         1000 non-null   int64 \n",
      " 2   title             1000 non-null   object\n",
      " 3   num_pages         1000 non-null   int64 \n",
      " 4   publication_date  1000 non-null   object\n",
      " 5   publisher_id      1000 non-null   int64 \n",
      "dtypes: int64(4), object(2)\n",
      "memory usage: 47.0+ KB\n"
     ]
    }
   ],
   "source": [
    "query = '''\n",
    "            SELECT * \n",
    "            FROM books\n",
    "        '''\n",
    "books = pd.io.sql.read_sql(query, con = engine)\n",
    "books.info()"
   ]
  },
  {
   "cell_type": "code",
   "execution_count": 5,
   "metadata": {},
   "outputs": [
    {
     "data": {
      "text/html": [
       "<div>\n",
       "<style scoped>\n",
       "    .dataframe tbody tr th:only-of-type {\n",
       "        vertical-align: middle;\n",
       "    }\n",
       "\n",
       "    .dataframe tbody tr th {\n",
       "        vertical-align: top;\n",
       "    }\n",
       "\n",
       "    .dataframe thead th {\n",
       "        text-align: right;\n",
       "    }\n",
       "</style>\n",
       "<table border=\"1\" class=\"dataframe\">\n",
       "  <thead>\n",
       "    <tr style=\"text-align: right;\">\n",
       "      <th></th>\n",
       "      <th>book_id</th>\n",
       "      <th>author_id</th>\n",
       "      <th>title</th>\n",
       "      <th>num_pages</th>\n",
       "      <th>publication_date</th>\n",
       "      <th>publisher_id</th>\n",
       "    </tr>\n",
       "  </thead>\n",
       "  <tbody>\n",
       "    <tr>\n",
       "      <th>0</th>\n",
       "      <td>1</td>\n",
       "      <td>546</td>\n",
       "      <td>'Salem's Lot</td>\n",
       "      <td>594</td>\n",
       "      <td>2005-11-01</td>\n",
       "      <td>93</td>\n",
       "    </tr>\n",
       "    <tr>\n",
       "      <th>1</th>\n",
       "      <td>2</td>\n",
       "      <td>465</td>\n",
       "      <td>1 000 Places to See Before You Die</td>\n",
       "      <td>992</td>\n",
       "      <td>2003-05-22</td>\n",
       "      <td>336</td>\n",
       "    </tr>\n",
       "    <tr>\n",
       "      <th>2</th>\n",
       "      <td>3</td>\n",
       "      <td>407</td>\n",
       "      <td>13 Little Blue Envelopes (Little Blue Envelope...</td>\n",
       "      <td>322</td>\n",
       "      <td>2010-12-21</td>\n",
       "      <td>135</td>\n",
       "    </tr>\n",
       "    <tr>\n",
       "      <th>3</th>\n",
       "      <td>4</td>\n",
       "      <td>82</td>\n",
       "      <td>1491: New Revelations of the Americas Before C...</td>\n",
       "      <td>541</td>\n",
       "      <td>2006-10-10</td>\n",
       "      <td>309</td>\n",
       "    </tr>\n",
       "    <tr>\n",
       "      <th>4</th>\n",
       "      <td>5</td>\n",
       "      <td>125</td>\n",
       "      <td>1776</td>\n",
       "      <td>386</td>\n",
       "      <td>2006-07-04</td>\n",
       "      <td>268</td>\n",
       "    </tr>\n",
       "  </tbody>\n",
       "</table>\n",
       "</div>"
      ],
      "text/plain": [
       "   book_id  author_id                                              title  \\\n",
       "0        1        546                                       'Salem's Lot   \n",
       "1        2        465                 1 000 Places to See Before You Die   \n",
       "2        3        407  13 Little Blue Envelopes (Little Blue Envelope...   \n",
       "3        4         82  1491: New Revelations of the Americas Before C...   \n",
       "4        5        125                                               1776   \n",
       "\n",
       "   num_pages publication_date  publisher_id  \n",
       "0        594       2005-11-01            93  \n",
       "1        992       2003-05-22           336  \n",
       "2        322       2010-12-21           135  \n",
       "3        541       2006-10-10           309  \n",
       "4        386       2006-07-04           268  "
      ]
     },
     "execution_count": 5,
     "metadata": {},
     "output_type": "execute_result"
    }
   ],
   "source": [
    "books.head(5)"
   ]
  },
  {
   "cell_type": "markdown",
   "metadata": {},
   "source": [
    "Таким образом, мы видим, что таблица состоит из 6 столбцов и 1000 строк. \n",
    "\n",
    "Далее определим количество уникальных авторов, издателей, минимальное и максимальное количество страниц, самую раннюю и позднюю даты публикации, проверим дубликаты. "
   ]
  },
  {
   "cell_type": "code",
   "execution_count": 6,
   "metadata": {},
   "outputs": [
    {
     "name": "stdout",
     "output_type": "stream",
     "text": [
      "Количество уникальных авторов:  636\n"
     ]
    }
   ],
   "source": [
    "#определим количество уникальных авторов\n",
    "print('Количество уникальных авторов: ', books['author_id'].nunique())"
   ]
  },
  {
   "cell_type": "code",
   "execution_count": 7,
   "metadata": {},
   "outputs": [
    {
     "name": "stdout",
     "output_type": "stream",
     "text": [
      "Количество уникальных издателей:  340\n"
     ]
    }
   ],
   "source": [
    "#определим количество уникальных издателей\n",
    "print('Количество уникальных издателей: ', books['publisher_id'].nunique())"
   ]
  },
  {
   "cell_type": "code",
   "execution_count": 8,
   "metadata": {},
   "outputs": [
    {
     "name": "stdout",
     "output_type": "stream",
     "text": [
      "Количество уникальных книг:  1000\n"
     ]
    }
   ],
   "source": [
    "#определим количество уникальных книг\n",
    "print('Количество уникальных книг: ', books['book_id'].nunique())"
   ]
  },
  {
   "cell_type": "code",
   "execution_count": 9,
   "metadata": {},
   "outputs": [
    {
     "name": "stdout",
     "output_type": "stream",
     "text": [
      "Количество уникальных книг:  999\n"
     ]
    }
   ],
   "source": [
    "#определим количество уникальных книг\n",
    "print('Количество уникальных книг: ', books['title'].nunique())"
   ]
  },
  {
   "cell_type": "code",
   "execution_count": 10,
   "metadata": {},
   "outputs": [
    {
     "name": "stdout",
     "output_type": "stream",
     "text": [
      "Минимальное количество страниц:  14 , максимальное количество страниц:  2690\n"
     ]
    }
   ],
   "source": [
    "#определим минимальное и максимальное количество страниц\n",
    "print('Минимальное количество страниц: ', books['num_pages'].min(), ', максимальное количество страниц: ', books['num_pages'].max())"
   ]
  },
  {
   "cell_type": "code",
   "execution_count": 11,
   "metadata": {},
   "outputs": [
    {
     "name": "stdout",
     "output_type": "stream",
     "text": [
      "Самая ранняя дата публикации:  1952-12-01 , самая поздняя дата публикации:  2020-03-31\n"
     ]
    }
   ],
   "source": [
    "#определим самую раннюю и самую позднюю даты публикации печатного издания\n",
    "print('Самая ранняя дата публикации: ', books['publication_date'].min(), ', самая поздняя дата публикации: ', books['publication_date'].max())"
   ]
  },
  {
   "cell_type": "code",
   "execution_count": 12,
   "metadata": {},
   "outputs": [
    {
     "data": {
      "text/plain": [
       "0"
      ]
     },
     "execution_count": 12,
     "metadata": {},
     "output_type": "execute_result"
    }
   ],
   "source": [
    "books.duplicated().sum()"
   ]
  },
  {
   "cell_type": "markdown",
   "metadata": {},
   "source": [
    "Таким образом, мы определили количество уникальных авторов и издателей, максимальное и минимальное количество страниц, самую раннюю и самую позднюю даты публикации, убедились в отсутствии дубликатов в таблице books. \n",
    "\n",
    "2) Таблица authors:"
   ]
  },
  {
   "cell_type": "code",
   "execution_count": 13,
   "metadata": {
    "scrolled": true
   },
   "outputs": [
    {
     "name": "stdout",
     "output_type": "stream",
     "text": [
      "<class 'pandas.core.frame.DataFrame'>\n",
      "RangeIndex: 636 entries, 0 to 635\n",
      "Data columns (total 2 columns):\n",
      " #   Column     Non-Null Count  Dtype \n",
      "---  ------     --------------  ----- \n",
      " 0   author_id  636 non-null    int64 \n",
      " 1   author     636 non-null    object\n",
      "dtypes: int64(1), object(1)\n",
      "memory usage: 10.1+ KB\n"
     ]
    }
   ],
   "source": [
    "query = '''SELECT *\n",
    "           FROM authors\n",
    "           '''\n",
    "\n",
    "authors = pd.io.sql.read_sql(query, con = engine)\n",
    "authors.info()"
   ]
  },
  {
   "cell_type": "code",
   "execution_count": 14,
   "metadata": {},
   "outputs": [
    {
     "data": {
      "text/html": [
       "<div>\n",
       "<style scoped>\n",
       "    .dataframe tbody tr th:only-of-type {\n",
       "        vertical-align: middle;\n",
       "    }\n",
       "\n",
       "    .dataframe tbody tr th {\n",
       "        vertical-align: top;\n",
       "    }\n",
       "\n",
       "    .dataframe thead th {\n",
       "        text-align: right;\n",
       "    }\n",
       "</style>\n",
       "<table border=\"1\" class=\"dataframe\">\n",
       "  <thead>\n",
       "    <tr style=\"text-align: right;\">\n",
       "      <th></th>\n",
       "      <th>author_id</th>\n",
       "      <th>author</th>\n",
       "    </tr>\n",
       "  </thead>\n",
       "  <tbody>\n",
       "    <tr>\n",
       "      <th>0</th>\n",
       "      <td>1</td>\n",
       "      <td>A.S. Byatt</td>\n",
       "    </tr>\n",
       "    <tr>\n",
       "      <th>1</th>\n",
       "      <td>2</td>\n",
       "      <td>Aesop/Laura Harris/Laura Gibbs</td>\n",
       "    </tr>\n",
       "    <tr>\n",
       "      <th>2</th>\n",
       "      <td>3</td>\n",
       "      <td>Agatha Christie</td>\n",
       "    </tr>\n",
       "    <tr>\n",
       "      <th>3</th>\n",
       "      <td>4</td>\n",
       "      <td>Alan Brennert</td>\n",
       "    </tr>\n",
       "    <tr>\n",
       "      <th>4</th>\n",
       "      <td>5</td>\n",
       "      <td>Alan Moore/David   Lloyd</td>\n",
       "    </tr>\n",
       "  </tbody>\n",
       "</table>\n",
       "</div>"
      ],
      "text/plain": [
       "   author_id                          author\n",
       "0          1                      A.S. Byatt\n",
       "1          2  Aesop/Laura Harris/Laura Gibbs\n",
       "2          3                 Agatha Christie\n",
       "3          4                   Alan Brennert\n",
       "4          5        Alan Moore/David   Lloyd"
      ]
     },
     "execution_count": 14,
     "metadata": {},
     "output_type": "execute_result"
    }
   ],
   "source": [
    "authors.head(5)"
   ]
  },
  {
   "cell_type": "code",
   "execution_count": 15,
   "metadata": {},
   "outputs": [
    {
     "name": "stdout",
     "output_type": "stream",
     "text": [
      "Количество уникальных авторов:  636\n"
     ]
    }
   ],
   "source": [
    "print('Количество уникальных авторов: ', authors['author_id'].nunique())"
   ]
  },
  {
   "cell_type": "code",
   "execution_count": 16,
   "metadata": {},
   "outputs": [
    {
     "name": "stdout",
     "output_type": "stream",
     "text": [
      "Количество уникальных авторов:  636\n"
     ]
    }
   ],
   "source": [
    "print('Количество уникальных авторов: ', authors['author'].nunique())"
   ]
  },
  {
   "cell_type": "code",
   "execution_count": 17,
   "metadata": {},
   "outputs": [
    {
     "data": {
      "text/plain": [
       "0"
      ]
     },
     "execution_count": 17,
     "metadata": {},
     "output_type": "execute_result"
    }
   ],
   "source": [
    "authors.duplicated().sum()"
   ]
  },
  {
   "cell_type": "markdown",
   "metadata": {},
   "source": [
    "Таблица authors состоит из 2 столбцов и содержит 636 строк. При знакомстве с таблицей books мы также увидели, что количество уникальных авторов в таблицах совпадает, дубликаты в таблице authors отсутствуют.  \n",
    "\n",
    "3) Таблица publishers: \n",
    "\n"
   ]
  },
  {
   "cell_type": "code",
   "execution_count": 18,
   "metadata": {},
   "outputs": [
    {
     "name": "stdout",
     "output_type": "stream",
     "text": [
      "<class 'pandas.core.frame.DataFrame'>\n",
      "RangeIndex: 340 entries, 0 to 339\n",
      "Data columns (total 2 columns):\n",
      " #   Column        Non-Null Count  Dtype \n",
      "---  ------        --------------  ----- \n",
      " 0   publisher_id  340 non-null    int64 \n",
      " 1   publisher     340 non-null    object\n",
      "dtypes: int64(1), object(1)\n",
      "memory usage: 5.4+ KB\n"
     ]
    }
   ],
   "source": [
    "query = '''SELECT *\n",
    "           FROM publishers\n",
    "           '''\n",
    "\n",
    "publishers = pd.io.sql.read_sql(query, con = engine)\n",
    "publishers.info()"
   ]
  },
  {
   "cell_type": "code",
   "execution_count": 19,
   "metadata": {},
   "outputs": [
    {
     "data": {
      "text/html": [
       "<div>\n",
       "<style scoped>\n",
       "    .dataframe tbody tr th:only-of-type {\n",
       "        vertical-align: middle;\n",
       "    }\n",
       "\n",
       "    .dataframe tbody tr th {\n",
       "        vertical-align: top;\n",
       "    }\n",
       "\n",
       "    .dataframe thead th {\n",
       "        text-align: right;\n",
       "    }\n",
       "</style>\n",
       "<table border=\"1\" class=\"dataframe\">\n",
       "  <thead>\n",
       "    <tr style=\"text-align: right;\">\n",
       "      <th></th>\n",
       "      <th>publisher_id</th>\n",
       "      <th>publisher</th>\n",
       "    </tr>\n",
       "  </thead>\n",
       "  <tbody>\n",
       "    <tr>\n",
       "      <th>0</th>\n",
       "      <td>1</td>\n",
       "      <td>Ace</td>\n",
       "    </tr>\n",
       "    <tr>\n",
       "      <th>1</th>\n",
       "      <td>2</td>\n",
       "      <td>Ace Book</td>\n",
       "    </tr>\n",
       "    <tr>\n",
       "      <th>2</th>\n",
       "      <td>3</td>\n",
       "      <td>Ace Books</td>\n",
       "    </tr>\n",
       "    <tr>\n",
       "      <th>3</th>\n",
       "      <td>4</td>\n",
       "      <td>Ace Hardcover</td>\n",
       "    </tr>\n",
       "    <tr>\n",
       "      <th>4</th>\n",
       "      <td>5</td>\n",
       "      <td>Addison Wesley Publishing Company</td>\n",
       "    </tr>\n",
       "  </tbody>\n",
       "</table>\n",
       "</div>"
      ],
      "text/plain": [
       "   publisher_id                          publisher\n",
       "0             1                                Ace\n",
       "1             2                           Ace Book\n",
       "2             3                          Ace Books\n",
       "3             4                      Ace Hardcover\n",
       "4             5  Addison Wesley Publishing Company"
      ]
     },
     "execution_count": 19,
     "metadata": {},
     "output_type": "execute_result"
    }
   ],
   "source": [
    "publishers.head(5)"
   ]
  },
  {
   "cell_type": "code",
   "execution_count": 20,
   "metadata": {},
   "outputs": [
    {
     "name": "stdout",
     "output_type": "stream",
     "text": [
      "Количество уникальных издателей:  340\n"
     ]
    }
   ],
   "source": [
    "print('Количество уникальных издателей: ', publishers['publisher_id'].nunique())"
   ]
  },
  {
   "cell_type": "code",
   "execution_count": 21,
   "metadata": {},
   "outputs": [
    {
     "name": "stdout",
     "output_type": "stream",
     "text": [
      "Количество уникальных издателей:  340\n"
     ]
    }
   ],
   "source": [
    "print('Количество уникальных издателей: ', publishers['publisher'].nunique())"
   ]
  },
  {
   "cell_type": "code",
   "execution_count": 22,
   "metadata": {},
   "outputs": [
    {
     "data": {
      "text/plain": [
       "0"
      ]
     },
     "execution_count": 22,
     "metadata": {},
     "output_type": "execute_result"
    }
   ],
   "source": [
    "publishers.duplicated().sum()"
   ]
  },
  {
   "cell_type": "markdown",
   "metadata": {},
   "source": [
    "Таблица authors также как и таблица authors состоит из двух столбцов. Количество уникальных издателей в таблице - 340, как и в таблице books. \n",
    "\n",
    "4) Таблица ratings: "
   ]
  },
  {
   "cell_type": "code",
   "execution_count": 23,
   "metadata": {},
   "outputs": [
    {
     "name": "stdout",
     "output_type": "stream",
     "text": [
      "<class 'pandas.core.frame.DataFrame'>\n",
      "RangeIndex: 6456 entries, 0 to 6455\n",
      "Data columns (total 4 columns):\n",
      " #   Column     Non-Null Count  Dtype \n",
      "---  ------     --------------  ----- \n",
      " 0   rating_id  6456 non-null   int64 \n",
      " 1   book_id    6456 non-null   int64 \n",
      " 2   username   6456 non-null   object\n",
      " 3   rating     6456 non-null   int64 \n",
      "dtypes: int64(3), object(1)\n",
      "memory usage: 201.9+ KB\n"
     ]
    }
   ],
   "source": [
    "query = '''SELECT *\n",
    "           FROM ratings\n",
    "           '''\n",
    "\n",
    "ratings = pd.io.sql.read_sql(query, con = engine)\n",
    "ratings.info()"
   ]
  },
  {
   "cell_type": "code",
   "execution_count": 24,
   "metadata": {},
   "outputs": [
    {
     "data": {
      "text/html": [
       "<div>\n",
       "<style scoped>\n",
       "    .dataframe tbody tr th:only-of-type {\n",
       "        vertical-align: middle;\n",
       "    }\n",
       "\n",
       "    .dataframe tbody tr th {\n",
       "        vertical-align: top;\n",
       "    }\n",
       "\n",
       "    .dataframe thead th {\n",
       "        text-align: right;\n",
       "    }\n",
       "</style>\n",
       "<table border=\"1\" class=\"dataframe\">\n",
       "  <thead>\n",
       "    <tr style=\"text-align: right;\">\n",
       "      <th></th>\n",
       "      <th>rating_id</th>\n",
       "      <th>book_id</th>\n",
       "      <th>username</th>\n",
       "      <th>rating</th>\n",
       "    </tr>\n",
       "  </thead>\n",
       "  <tbody>\n",
       "    <tr>\n",
       "      <th>0</th>\n",
       "      <td>1</td>\n",
       "      <td>1</td>\n",
       "      <td>ryanfranco</td>\n",
       "      <td>4</td>\n",
       "    </tr>\n",
       "    <tr>\n",
       "      <th>1</th>\n",
       "      <td>2</td>\n",
       "      <td>1</td>\n",
       "      <td>grantpatricia</td>\n",
       "      <td>2</td>\n",
       "    </tr>\n",
       "    <tr>\n",
       "      <th>2</th>\n",
       "      <td>3</td>\n",
       "      <td>1</td>\n",
       "      <td>brandtandrea</td>\n",
       "      <td>5</td>\n",
       "    </tr>\n",
       "    <tr>\n",
       "      <th>3</th>\n",
       "      <td>4</td>\n",
       "      <td>2</td>\n",
       "      <td>lorichen</td>\n",
       "      <td>3</td>\n",
       "    </tr>\n",
       "    <tr>\n",
       "      <th>4</th>\n",
       "      <td>5</td>\n",
       "      <td>2</td>\n",
       "      <td>mariokeller</td>\n",
       "      <td>2</td>\n",
       "    </tr>\n",
       "  </tbody>\n",
       "</table>\n",
       "</div>"
      ],
      "text/plain": [
       "   rating_id  book_id       username  rating\n",
       "0          1        1     ryanfranco       4\n",
       "1          2        1  grantpatricia       2\n",
       "2          3        1   brandtandrea       5\n",
       "3          4        2       lorichen       3\n",
       "4          5        2    mariokeller       2"
      ]
     },
     "execution_count": 24,
     "metadata": {},
     "output_type": "execute_result"
    }
   ],
   "source": [
    "ratings.head(5)"
   ]
  },
  {
   "cell_type": "code",
   "execution_count": 25,
   "metadata": {},
   "outputs": [
    {
     "name": "stdout",
     "output_type": "stream",
     "text": [
      "Количество оценок:  6456\n"
     ]
    }
   ],
   "source": [
    "print('Количество оценок: ', ratings['rating_id'].nunique())"
   ]
  },
  {
   "cell_type": "code",
   "execution_count": 26,
   "metadata": {},
   "outputs": [
    {
     "name": "stdout",
     "output_type": "stream",
     "text": [
      "Количество книг:  1000\n"
     ]
    }
   ],
   "source": [
    "print('Количество книг: ', ratings['book_id'].nunique())"
   ]
  },
  {
   "cell_type": "code",
   "execution_count": 27,
   "metadata": {},
   "outputs": [
    {
     "name": "stdout",
     "output_type": "stream",
     "text": [
      "Количество пользователей, оставивших оценки:  160\n"
     ]
    }
   ],
   "source": [
    "print('Количество пользователей, оставивших оценки: ', ratings['username'].nunique())"
   ]
  },
  {
   "cell_type": "code",
   "execution_count": 28,
   "metadata": {},
   "outputs": [
    {
     "name": "stdout",
     "output_type": "stream",
     "text": [
      "Минимальный рейтинг:  1 , максимальный рейтинг:  5\n"
     ]
    }
   ],
   "source": [
    "print('Минимальный рейтинг: ', ratings['rating'].min(), ', максимальный рейтинг: ', ratings['rating'].max())"
   ]
  },
  {
   "cell_type": "code",
   "execution_count": 29,
   "metadata": {},
   "outputs": [
    {
     "data": {
      "text/plain": [
       "0"
      ]
     },
     "execution_count": 29,
     "metadata": {},
     "output_type": "execute_result"
    }
   ],
   "source": [
    "ratings.duplicated().sum()"
   ]
  },
  {
   "cell_type": "markdown",
   "metadata": {},
   "source": [
    "Таблица ratings содержит 4 колонки и 6456 строк. Количество книг такое же, как и в таблице books. В таблице содержится пятибальная шкала оценивания. \n",
    "\n",
    "5) Таблица reviews: \n",
    "\n"
   ]
  },
  {
   "cell_type": "code",
   "execution_count": 30,
   "metadata": {},
   "outputs": [
    {
     "name": "stdout",
     "output_type": "stream",
     "text": [
      "<class 'pandas.core.frame.DataFrame'>\n",
      "RangeIndex: 2793 entries, 0 to 2792\n",
      "Data columns (total 4 columns):\n",
      " #   Column     Non-Null Count  Dtype \n",
      "---  ------     --------------  ----- \n",
      " 0   review_id  2793 non-null   int64 \n",
      " 1   book_id    2793 non-null   int64 \n",
      " 2   username   2793 non-null   object\n",
      " 3   text       2793 non-null   object\n",
      "dtypes: int64(2), object(2)\n",
      "memory usage: 87.4+ KB\n"
     ]
    }
   ],
   "source": [
    "query = '''SELECT *\n",
    "           FROM reviews\n",
    "           '''\n",
    "\n",
    "reviews = pd.io.sql.read_sql(query, con = engine)\n",
    "reviews.info()"
   ]
  },
  {
   "cell_type": "code",
   "execution_count": 31,
   "metadata": {},
   "outputs": [
    {
     "data": {
      "text/html": [
       "<div>\n",
       "<style scoped>\n",
       "    .dataframe tbody tr th:only-of-type {\n",
       "        vertical-align: middle;\n",
       "    }\n",
       "\n",
       "    .dataframe tbody tr th {\n",
       "        vertical-align: top;\n",
       "    }\n",
       "\n",
       "    .dataframe thead th {\n",
       "        text-align: right;\n",
       "    }\n",
       "</style>\n",
       "<table border=\"1\" class=\"dataframe\">\n",
       "  <thead>\n",
       "    <tr style=\"text-align: right;\">\n",
       "      <th></th>\n",
       "      <th>review_id</th>\n",
       "      <th>book_id</th>\n",
       "      <th>username</th>\n",
       "      <th>text</th>\n",
       "    </tr>\n",
       "  </thead>\n",
       "  <tbody>\n",
       "    <tr>\n",
       "      <th>0</th>\n",
       "      <td>1</td>\n",
       "      <td>1</td>\n",
       "      <td>brandtandrea</td>\n",
       "      <td>Mention society tell send professor analysis. ...</td>\n",
       "    </tr>\n",
       "    <tr>\n",
       "      <th>1</th>\n",
       "      <td>2</td>\n",
       "      <td>1</td>\n",
       "      <td>ryanfranco</td>\n",
       "      <td>Foot glass pretty audience hit themselves. Amo...</td>\n",
       "    </tr>\n",
       "    <tr>\n",
       "      <th>2</th>\n",
       "      <td>3</td>\n",
       "      <td>2</td>\n",
       "      <td>lorichen</td>\n",
       "      <td>Listen treat keep worry. Miss husband tax but ...</td>\n",
       "    </tr>\n",
       "    <tr>\n",
       "      <th>3</th>\n",
       "      <td>4</td>\n",
       "      <td>3</td>\n",
       "      <td>johnsonamanda</td>\n",
       "      <td>Finally month interesting blue could nature cu...</td>\n",
       "    </tr>\n",
       "    <tr>\n",
       "      <th>4</th>\n",
       "      <td>5</td>\n",
       "      <td>3</td>\n",
       "      <td>scotttamara</td>\n",
       "      <td>Nation purpose heavy give wait song will. List...</td>\n",
       "    </tr>\n",
       "  </tbody>\n",
       "</table>\n",
       "</div>"
      ],
      "text/plain": [
       "   review_id  book_id       username  \\\n",
       "0          1        1   brandtandrea   \n",
       "1          2        1     ryanfranco   \n",
       "2          3        2       lorichen   \n",
       "3          4        3  johnsonamanda   \n",
       "4          5        3    scotttamara   \n",
       "\n",
       "                                                text  \n",
       "0  Mention society tell send professor analysis. ...  \n",
       "1  Foot glass pretty audience hit themselves. Amo...  \n",
       "2  Listen treat keep worry. Miss husband tax but ...  \n",
       "3  Finally month interesting blue could nature cu...  \n",
       "4  Nation purpose heavy give wait song will. List...  "
      ]
     },
     "execution_count": 31,
     "metadata": {},
     "output_type": "execute_result"
    }
   ],
   "source": [
    "reviews.head(5)"
   ]
  },
  {
   "cell_type": "code",
   "execution_count": 32,
   "metadata": {},
   "outputs": [
    {
     "name": "stdout",
     "output_type": "stream",
     "text": [
      "Количество обзоров:  2793\n"
     ]
    }
   ],
   "source": [
    "print('Количество обзоров: ', reviews['review_id'].nunique())"
   ]
  },
  {
   "cell_type": "code",
   "execution_count": 33,
   "metadata": {},
   "outputs": [
    {
     "name": "stdout",
     "output_type": "stream",
     "text": [
      "Количество книг:  994\n"
     ]
    }
   ],
   "source": [
    "print('Количество книг: ', reviews['book_id'].nunique()) "
   ]
  },
  {
   "cell_type": "code",
   "execution_count": 34,
   "metadata": {},
   "outputs": [
    {
     "name": "stdout",
     "output_type": "stream",
     "text": [
      "Количество пользователей, написавших обзор:  160\n"
     ]
    }
   ],
   "source": [
    "print('Количество пользователей, написавших обзор: ', reviews['username'].nunique())"
   ]
  },
  {
   "cell_type": "code",
   "execution_count": 35,
   "metadata": {},
   "outputs": [
    {
     "name": "stdout",
     "output_type": "stream",
     "text": [
      "Количество обзоров:  2793\n"
     ]
    }
   ],
   "source": [
    "print('Количество обзоров: ', reviews['text'].nunique())"
   ]
  },
  {
   "cell_type": "code",
   "execution_count": 36,
   "metadata": {},
   "outputs": [
    {
     "data": {
      "text/plain": [
       "0"
      ]
     },
     "execution_count": 36,
     "metadata": {},
     "output_type": "execute_result"
    }
   ],
   "source": [
    "reviews.duplicated().sum()"
   ]
  },
  {
   "cell_type": "markdown",
   "metadata": {},
   "source": [
    "Таблица reviews содержит 4 колонки и 2793 строки. Количество пользователей такое же, как и в таблице ratings, однако количество книг меньше - 994.\n",
    "\n",
    "Таким образом, мы изучили ключевую информацию о таблицах и теперь можем приступить к анализу."
   ]
  },
  {
   "cell_type": "markdown",
   "metadata": {},
   "source": [
    "## Анализ базы данных\n",
    "Далее проведем исследовательский анализ базы данных и найдем ответы на поставленные вопросы.\n",
    "\n",
    "Сначала определим, какое количество книг вышло после 01.01.2020 г."
   ]
  },
  {
   "cell_type": "code",
   "execution_count": 37,
   "metadata": {},
   "outputs": [
    {
     "data": {
      "text/html": [
       "<div>\n",
       "<style scoped>\n",
       "    .dataframe tbody tr th:only-of-type {\n",
       "        vertical-align: middle;\n",
       "    }\n",
       "\n",
       "    .dataframe tbody tr th {\n",
       "        vertical-align: top;\n",
       "    }\n",
       "\n",
       "    .dataframe thead th {\n",
       "        text-align: right;\n",
       "    }\n",
       "</style>\n",
       "<table border=\"1\" class=\"dataframe\">\n",
       "  <thead>\n",
       "    <tr style=\"text-align: right;\">\n",
       "      <th></th>\n",
       "      <th>count_of_books</th>\n",
       "    </tr>\n",
       "  </thead>\n",
       "  <tbody>\n",
       "    <tr>\n",
       "      <th>0</th>\n",
       "      <td>819</td>\n",
       "    </tr>\n",
       "  </tbody>\n",
       "</table>\n",
       "</div>"
      ],
      "text/plain": [
       "   count_of_books\n",
       "0             819"
      ]
     },
     "execution_count": 37,
     "metadata": {},
     "output_type": "execute_result"
    }
   ],
   "source": [
    "query = '''\n",
    "            SELECT COUNT(book_id) count_of_books\n",
    "            FROM books \n",
    "            WHERE publication_date > '01-01-2000'\n",
    "        '''\n",
    "pd.io.sql.read_sql(query, con = engine)"
   ]
  },
  {
   "cell_type": "markdown",
   "metadata": {},
   "source": [
    "Таким образом, после 01.01.2020 г. было выпущено 819 книг.\n",
    "\n",
    "Далее для каждой книги посчитаем количество обзоров и среднюю оценку."
   ]
  },
  {
   "cell_type": "code",
   "execution_count": 45,
   "metadata": {},
   "outputs": [
    {
     "data": {
      "text/html": [
       "<div>\n",
       "<style scoped>\n",
       "    .dataframe tbody tr th:only-of-type {\n",
       "        vertical-align: middle;\n",
       "    }\n",
       "\n",
       "    .dataframe tbody tr th {\n",
       "        vertical-align: top;\n",
       "    }\n",
       "\n",
       "    .dataframe thead th {\n",
       "        text-align: right;\n",
       "    }\n",
       "</style>\n",
       "<table border=\"1\" class=\"dataframe\">\n",
       "  <thead>\n",
       "    <tr style=\"text-align: right;\">\n",
       "      <th></th>\n",
       "      <th>title</th>\n",
       "      <th>id</th>\n",
       "      <th>avg_rating</th>\n",
       "      <th>reviews_count</th>\n",
       "    </tr>\n",
       "  </thead>\n",
       "  <tbody>\n",
       "    <tr>\n",
       "      <th>0</th>\n",
       "      <td>Twilight (Twilight  #1)</td>\n",
       "      <td>948</td>\n",
       "      <td>3.662500</td>\n",
       "      <td>7</td>\n",
       "    </tr>\n",
       "    <tr>\n",
       "      <th>1</th>\n",
       "      <td>Water for Elephants</td>\n",
       "      <td>963</td>\n",
       "      <td>3.977273</td>\n",
       "      <td>6</td>\n",
       "    </tr>\n",
       "    <tr>\n",
       "      <th>2</th>\n",
       "      <td>The Glass Castle</td>\n",
       "      <td>734</td>\n",
       "      <td>4.206897</td>\n",
       "      <td>6</td>\n",
       "    </tr>\n",
       "    <tr>\n",
       "      <th>3</th>\n",
       "      <td>Harry Potter and the Prisoner of Azkaban (Harr...</td>\n",
       "      <td>302</td>\n",
       "      <td>4.414634</td>\n",
       "      <td>6</td>\n",
       "    </tr>\n",
       "    <tr>\n",
       "      <th>4</th>\n",
       "      <td>The Curious Incident of the Dog in the Night-Time</td>\n",
       "      <td>695</td>\n",
       "      <td>4.081081</td>\n",
       "      <td>6</td>\n",
       "    </tr>\n",
       "    <tr>\n",
       "      <th>...</th>\n",
       "      <td>...</td>\n",
       "      <td>...</td>\n",
       "      <td>...</td>\n",
       "      <td>...</td>\n",
       "    </tr>\n",
       "    <tr>\n",
       "      <th>995</th>\n",
       "      <td>Anne Rice's The Vampire Lestat: A Graphic Novel</td>\n",
       "      <td>83</td>\n",
       "      <td>3.666667</td>\n",
       "      <td>0</td>\n",
       "    </tr>\n",
       "    <tr>\n",
       "      <th>996</th>\n",
       "      <td>The Natural Way to Draw</td>\n",
       "      <td>808</td>\n",
       "      <td>3.000000</td>\n",
       "      <td>0</td>\n",
       "    </tr>\n",
       "    <tr>\n",
       "      <th>997</th>\n",
       "      <td>The Cat in the Hat and Other Dr. Seuss Favorites</td>\n",
       "      <td>672</td>\n",
       "      <td>5.000000</td>\n",
       "      <td>0</td>\n",
       "    </tr>\n",
       "    <tr>\n",
       "      <th>998</th>\n",
       "      <td>Essential Tales and Poems</td>\n",
       "      <td>221</td>\n",
       "      <td>4.000000</td>\n",
       "      <td>0</td>\n",
       "    </tr>\n",
       "    <tr>\n",
       "      <th>999</th>\n",
       "      <td>Disney's Beauty and the Beast (A Little Golden...</td>\n",
       "      <td>191</td>\n",
       "      <td>4.000000</td>\n",
       "      <td>0</td>\n",
       "    </tr>\n",
       "  </tbody>\n",
       "</table>\n",
       "<p>1000 rows × 4 columns</p>\n",
       "</div>"
      ],
      "text/plain": [
       "                                                 title   id  avg_rating  \\\n",
       "0                              Twilight (Twilight  #1)  948    3.662500   \n",
       "1                                  Water for Elephants  963    3.977273   \n",
       "2                                     The Glass Castle  734    4.206897   \n",
       "3    Harry Potter and the Prisoner of Azkaban (Harr...  302    4.414634   \n",
       "4    The Curious Incident of the Dog in the Night-Time  695    4.081081   \n",
       "..                                                 ...  ...         ...   \n",
       "995    Anne Rice's The Vampire Lestat: A Graphic Novel   83    3.666667   \n",
       "996                            The Natural Way to Draw  808    3.000000   \n",
       "997   The Cat in the Hat and Other Dr. Seuss Favorites  672    5.000000   \n",
       "998                          Essential Tales and Poems  221    4.000000   \n",
       "999  Disney's Beauty and the Beast (A Little Golden...  191    4.000000   \n",
       "\n",
       "     reviews_count  \n",
       "0                7  \n",
       "1                6  \n",
       "2                6  \n",
       "3                6  \n",
       "4                6  \n",
       "..             ...  \n",
       "995              0  \n",
       "996              0  \n",
       "997              0  \n",
       "998              0  \n",
       "999              0  \n",
       "\n",
       "[1000 rows x 4 columns]"
      ]
     },
     "execution_count": 45,
     "metadata": {},
     "output_type": "execute_result"
    }
   ],
   "source": [
    "query = '''\n",
    "            SELECT b.title AS title, b.book_id AS id, AVG(ratings.rating) AS avg_rating, COUNT(DISTINCT reviews.text) AS reviews_count\n",
    "            FROM books b\n",
    "            LEFT JOIN ratings ON b.book_id = ratings.book_id\n",
    "            LEFT JOIN reviews ON b.book_id = reviews.book_id \n",
    "            GROUP BY\n",
    "                 b.title,\n",
    "                 b.book_id\n",
    "            ORDER BY\n",
    "                 reviews_count DESC\n",
    "        '''\n",
    "pd.io.sql.read_sql(query, con = engine)"
   ]
  },
  {
   "cell_type": "markdown",
   "metadata": {},
   "source": [
    "\n",
    "Далее определим издательство, которое выпустило наибольшее число книг толще 50 страниц.\n",
    "\n"
   ]
  },
  {
   "cell_type": "code",
   "execution_count": 39,
   "metadata": {},
   "outputs": [
    {
     "data": {
      "text/html": [
       "<div>\n",
       "<style scoped>\n",
       "    .dataframe tbody tr th:only-of-type {\n",
       "        vertical-align: middle;\n",
       "    }\n",
       "\n",
       "    .dataframe tbody tr th {\n",
       "        vertical-align: top;\n",
       "    }\n",
       "\n",
       "    .dataframe thead th {\n",
       "        text-align: right;\n",
       "    }\n",
       "</style>\n",
       "<table border=\"1\" class=\"dataframe\">\n",
       "  <thead>\n",
       "    <tr style=\"text-align: right;\">\n",
       "      <th></th>\n",
       "      <th>publisher_id</th>\n",
       "      <th>publisher</th>\n",
       "      <th>count_books</th>\n",
       "    </tr>\n",
       "  </thead>\n",
       "  <tbody>\n",
       "    <tr>\n",
       "      <th>0</th>\n",
       "      <td>212</td>\n",
       "      <td>Penguin Books</td>\n",
       "      <td>42</td>\n",
       "    </tr>\n",
       "  </tbody>\n",
       "</table>\n",
       "</div>"
      ],
      "text/plain": [
       "   publisher_id      publisher  count_books\n",
       "0           212  Penguin Books           42"
      ]
     },
     "execution_count": 39,
     "metadata": {},
     "output_type": "execute_result"
    }
   ],
   "source": [
    "query = '''\n",
    "            SELECT b.publisher_id, p.publisher, COUNT(*) count_books\n",
    "            FROM books b\n",
    "            LEFT JOIN publishers p ON b.publisher_id = p.publisher_id\n",
    "            WHERE num_pages > 50\n",
    "            GROUP BY b.publisher_id, p.publisher\n",
    "            ORDER BY COUNT(*) DESC\n",
    "            LIMIT 1\n",
    "        '''\n",
    "pd.io.sql.read_sql(query, con = engine)"
   ]
  },
  {
   "cell_type": "markdown",
   "metadata": {},
   "source": [
    "Таким образом, издательством, выпустившим большее количество книг толще 50 страниц, является Penguin Books (42 выпущенные книги).\n",
    "\n",
    "Далее определим автора с самой высокой средней оценкой книг — учтем только книги с 50 и более оценками."
   ]
  },
  {
   "cell_type": "code",
   "execution_count": 40,
   "metadata": {},
   "outputs": [
    {
     "data": {
      "text/html": [
       "<div>\n",
       "<style scoped>\n",
       "    .dataframe tbody tr th:only-of-type {\n",
       "        vertical-align: middle;\n",
       "    }\n",
       "\n",
       "    .dataframe tbody tr th {\n",
       "        vertical-align: top;\n",
       "    }\n",
       "\n",
       "    .dataframe thead th {\n",
       "        text-align: right;\n",
       "    }\n",
       "</style>\n",
       "<table border=\"1\" class=\"dataframe\">\n",
       "  <thead>\n",
       "    <tr style=\"text-align: right;\">\n",
       "      <th></th>\n",
       "      <th>author</th>\n",
       "      <th>avg</th>\n",
       "    </tr>\n",
       "  </thead>\n",
       "  <tbody>\n",
       "    <tr>\n",
       "      <th>0</th>\n",
       "      <td>J.K. Rowling/Mary GrandPré</td>\n",
       "      <td>4.283844</td>\n",
       "    </tr>\n",
       "    <tr>\n",
       "      <th>1</th>\n",
       "      <td>Markus Zusak/Cao Xuân Việt Khương</td>\n",
       "      <td>4.264151</td>\n",
       "    </tr>\n",
       "    <tr>\n",
       "      <th>2</th>\n",
       "      <td>J.R.R. Tolkien</td>\n",
       "      <td>4.258446</td>\n",
       "    </tr>\n",
       "    <tr>\n",
       "      <th>3</th>\n",
       "      <td>Louisa May Alcott</td>\n",
       "      <td>4.192308</td>\n",
       "    </tr>\n",
       "    <tr>\n",
       "      <th>4</th>\n",
       "      <td>Rick Riordan</td>\n",
       "      <td>4.080645</td>\n",
       "    </tr>\n",
       "    <tr>\n",
       "      <th>5</th>\n",
       "      <td>William Golding</td>\n",
       "      <td>3.901408</td>\n",
       "    </tr>\n",
       "    <tr>\n",
       "      <th>6</th>\n",
       "      <td>J.D. Salinger</td>\n",
       "      <td>3.825581</td>\n",
       "    </tr>\n",
       "    <tr>\n",
       "      <th>7</th>\n",
       "      <td>Paulo Coelho/Alan R. Clarke/Özdemir İnce</td>\n",
       "      <td>3.789474</td>\n",
       "    </tr>\n",
       "    <tr>\n",
       "      <th>8</th>\n",
       "      <td>William Shakespeare/Paul Werstine/Barbara A. M...</td>\n",
       "      <td>3.787879</td>\n",
       "    </tr>\n",
       "    <tr>\n",
       "      <th>9</th>\n",
       "      <td>Dan Brown</td>\n",
       "      <td>3.754540</td>\n",
       "    </tr>\n",
       "    <tr>\n",
       "      <th>10</th>\n",
       "      <td>Lois Lowry</td>\n",
       "      <td>3.750000</td>\n",
       "    </tr>\n",
       "    <tr>\n",
       "      <th>11</th>\n",
       "      <td>George Orwell/Boris Grabnar/Peter Škerl</td>\n",
       "      <td>3.729730</td>\n",
       "    </tr>\n",
       "    <tr>\n",
       "      <th>12</th>\n",
       "      <td>Stephenie Meyer</td>\n",
       "      <td>3.662500</td>\n",
       "    </tr>\n",
       "    <tr>\n",
       "      <th>13</th>\n",
       "      <td>John Steinbeck</td>\n",
       "      <td>3.622951</td>\n",
       "    </tr>\n",
       "  </tbody>\n",
       "</table>\n",
       "</div>"
      ],
      "text/plain": [
       "                                               author       avg\n",
       "0                          J.K. Rowling/Mary GrandPré  4.283844\n",
       "1                   Markus Zusak/Cao Xuân Việt Khương  4.264151\n",
       "2                                      J.R.R. Tolkien  4.258446\n",
       "3                                   Louisa May Alcott  4.192308\n",
       "4                                        Rick Riordan  4.080645\n",
       "5                                     William Golding  3.901408\n",
       "6                                       J.D. Salinger  3.825581\n",
       "7            Paulo Coelho/Alan R. Clarke/Özdemir İnce  3.789474\n",
       "8   William Shakespeare/Paul Werstine/Barbara A. M...  3.787879\n",
       "9                                           Dan Brown  3.754540\n",
       "10                                         Lois Lowry  3.750000\n",
       "11            George Orwell/Boris Grabnar/Peter Škerl  3.729730\n",
       "12                                    Stephenie Meyer  3.662500\n",
       "13                                     John Steinbeck  3.622951"
      ]
     },
     "execution_count": 40,
     "metadata": {},
     "output_type": "execute_result"
    }
   ],
   "source": [
    "query = '''\n",
    "            SELECT a.author, AVG(ratings)\n",
    "            FROM (\n",
    "            SELECT book_id, AVG(rating) ratings\n",
    "            FROM ratings\n",
    "            GROUP BY book_id\n",
    "            HAVING COUNT(*) > 50\n",
    "            ) rat\n",
    "            JOIN (SELECT book_id, author_id FROM books) b ON rat.book_id=b.book_id\n",
    "            JOIN (SELECT author_id, author FROM authors) a ON b.author_id=a.author_id\n",
    "            GROUP BY a.author\n",
    "            ORDER BY avg(ratings) DESC\n",
    "\n",
    "            \n",
    "        '''\n",
    "pd.io.sql.read_sql(query, con = engine)"
   ]
  },
  {
   "cell_type": "markdown",
   "metadata": {},
   "source": [
    "Таким образом, было выявлено 14 авторов с самой высокой средней оценкой книг:\n",
    "\n",
    "- авторы со средней оценкой от 4: J.K. Rowling/Mary GrandPré, Markus Zusak/Cao Xuân Việt Khương, J.R.R. Tolkien, Louisa May Alcott, Rick Riordan.\n",
    "\n",
    "- самая низкая средняя оценка у Stephenie Meyer и John Steinbeck.\n",
    "\n",
    "Далее посчитаем среднее количество обзоров от пользователей, которые поставили больше 48 оценок."
   ]
  },
  {
   "cell_type": "code",
   "execution_count": 41,
   "metadata": {},
   "outputs": [
    {
     "data": {
      "text/html": [
       "<div>\n",
       "<style scoped>\n",
       "    .dataframe tbody tr th:only-of-type {\n",
       "        vertical-align: middle;\n",
       "    }\n",
       "\n",
       "    .dataframe tbody tr th {\n",
       "        vertical-align: top;\n",
       "    }\n",
       "\n",
       "    .dataframe thead th {\n",
       "        text-align: right;\n",
       "    }\n",
       "</style>\n",
       "<table border=\"1\" class=\"dataframe\">\n",
       "  <thead>\n",
       "    <tr style=\"text-align: right;\">\n",
       "      <th></th>\n",
       "      <th>avg</th>\n",
       "    </tr>\n",
       "  </thead>\n",
       "  <tbody>\n",
       "    <tr>\n",
       "      <th>0</th>\n",
       "      <td>24.0</td>\n",
       "    </tr>\n",
       "  </tbody>\n",
       "</table>\n",
       "</div>"
      ],
      "text/plain": [
       "    avg\n",
       "0  24.0"
      ]
     },
     "execution_count": 41,
     "metadata": {},
     "output_type": "execute_result"
    }
   ],
   "source": [
    "query = '''\n",
    "            SELECT AVG(count_reviews)\n",
    "            FROM (\n",
    "            SELECT username, COUNT(*) count_reviews\n",
    "            FROM reviews\n",
    "            WHERE username IN\n",
    "            (\n",
    "            SELECT username--, COUNT(*)\n",
    "            FROM ratings\n",
    "            GROUP BY username\n",
    "            HAVING COUNT(*) > 48\n",
    "            )\n",
    "            GROUP BY username) rev\n",
    "        \n",
    "\n",
    "        '''\n",
    "pd.io.sql.read_sql(query, con = engine)"
   ]
  },
  {
   "cell_type": "markdown",
   "metadata": {},
   "source": [
    "Таким образом, среднее количество обзоров от пользователей, которые поставили более 50 оценок - 24."
   ]
  },
  {
   "cell_type": "markdown",
   "metadata": {},
   "source": [
    "## Вывод\n",
    "\n",
    "Таким образом, в ходе анализа было выявлено следующее: \n",
    "\n",
    "1) определено, что после 01.01.2020 г. вышло 819 книг;\n",
    "\n",
    "2) были посчитаны количество обзоров и средняя оценка для каждой из книг. Шкала оценивания книг - от 1 до 5. Наибольшее количество обзоров у книг Twilight, The Road, The Book Thief, The Glass Castle, Water for Elephants, наименьшее количество обзоров - у Naked Empire (Sword of Truth #8), Moo Baa La La La!, Merrick (The Vampire Chronicles #7), Babyville,\tLysistrata;\n",
    "\n",
    "3) определено, что издательством, выпустившим наибольшее количество книг с 50 и более страницами, является Penguin Books (количество выпущенных книг - 42);\n",
    "\n",
    "4) определен автор с самой высокой средней оценкой книг - J.K. Rowling/Mary GrandPré;\n",
    "\n",
    "5) определено среднее количество обзоров от пользователей, которые поставили больше 48 оценок - 24. \n",
    "\n",
    "Таким образом можно порекомендовать владельцам бизнеса следующее: \n",
    "\n",
    "1) расширить список книг в приложении от авторов с наивысшим рейтингами;\n",
    "\n",
    "2) больше сосредоточиться на сотрудничестве с издательством Penguin Books;\n",
    "\n",
    "3) рассмотреть возможность поощрения пользователей за оставление обзоров на книги (например, предоставление премиум доступа на определенный период или систему скидок на следующие покупки)."
   ]
  }
 ],
 "metadata": {
  "ExecuteTimeLog": [
   {
    "duration": 11939,
    "start_time": "2023-09-16T12:07:00.802Z"
   },
   {
    "duration": 187,
    "start_time": "2023-09-16T12:07:26.633Z"
   },
   {
    "duration": 159,
    "start_time": "2023-09-16T12:11:06.552Z"
   },
   {
    "duration": 91,
    "start_time": "2023-09-16T12:12:00.475Z"
   },
   {
    "duration": 138,
    "start_time": "2023-09-16T12:12:16.230Z"
   },
   {
    "duration": 85,
    "start_time": "2023-09-16T12:12:20.152Z"
   },
   {
    "duration": 75,
    "start_time": "2023-09-16T12:12:26.407Z"
   },
   {
    "duration": 9,
    "start_time": "2023-09-16T12:12:31.168Z"
   },
   {
    "duration": 220,
    "start_time": "2023-09-16T12:14:49.823Z"
   },
   {
    "duration": 218,
    "start_time": "2023-09-16T12:14:55.932Z"
   },
   {
    "duration": 150,
    "start_time": "2023-09-16T12:14:57.227Z"
   },
   {
    "duration": 9,
    "start_time": "2023-09-16T12:14:58.355Z"
   },
   {
    "duration": 4,
    "start_time": "2023-09-16T12:16:03.711Z"
   },
   {
    "duration": 10,
    "start_time": "2023-09-16T12:16:47.817Z"
   },
   {
    "duration": 231,
    "start_time": "2023-09-16T12:20:08.378Z"
   },
   {
    "duration": 190,
    "start_time": "2023-09-16T12:20:09.714Z"
   },
   {
    "duration": 140,
    "start_time": "2023-09-16T12:20:10.887Z"
   },
   {
    "duration": 209,
    "start_time": "2023-09-16T12:20:23.869Z"
   },
   {
    "duration": 171,
    "start_time": "2023-09-16T12:20:30.686Z"
   },
   {
    "duration": 152,
    "start_time": "2023-09-16T12:20:31.718Z"
   },
   {
    "duration": 5,
    "start_time": "2023-09-16T12:20:39.094Z"
   },
   {
    "duration": 180,
    "start_time": "2023-09-16T12:20:41.136Z"
   },
   {
    "duration": 169,
    "start_time": "2023-09-16T12:20:42.531Z"
   },
   {
    "duration": 10,
    "start_time": "2023-09-16T12:20:46.831Z"
   },
   {
    "duration": 76,
    "start_time": "2023-09-16T12:20:53.724Z"
   },
   {
    "duration": 5,
    "start_time": "2023-09-16T12:21:13.120Z"
   },
   {
    "duration": 175,
    "start_time": "2023-09-16T12:21:14.879Z"
   },
   {
    "duration": 160,
    "start_time": "2023-09-16T12:21:16.041Z"
   },
   {
    "duration": 9,
    "start_time": "2023-09-16T12:21:16.847Z"
   },
   {
    "duration": 4,
    "start_time": "2023-09-16T12:22:09.332Z"
   },
   {
    "duration": 3,
    "start_time": "2023-09-16T12:22:28.226Z"
   },
   {
    "duration": 174,
    "start_time": "2023-09-16T12:22:29.831Z"
   },
   {
    "duration": 147,
    "start_time": "2023-09-16T12:22:33.409Z"
   },
   {
    "duration": 254,
    "start_time": "2023-09-16T12:23:06.059Z"
   },
   {
    "duration": 189,
    "start_time": "2023-09-16T12:23:14.551Z"
   },
   {
    "duration": 172,
    "start_time": "2023-09-16T12:23:18.571Z"
   },
   {
    "duration": 13,
    "start_time": "2023-09-16T12:23:55.873Z"
   },
   {
    "duration": 5,
    "start_time": "2023-09-16T12:24:25.842Z"
   },
   {
    "duration": 174,
    "start_time": "2023-09-16T12:24:31.908Z"
   },
   {
    "duration": 180,
    "start_time": "2023-09-16T12:24:49.458Z"
   },
   {
    "duration": 6,
    "start_time": "2023-09-16T12:27:40.890Z"
   },
   {
    "duration": 4,
    "start_time": "2023-09-16T12:47:39.731Z"
   },
   {
    "duration": 4,
    "start_time": "2023-09-16T12:47:42.402Z"
   },
   {
    "duration": 4,
    "start_time": "2023-09-16T12:52:06.914Z"
   },
   {
    "duration": 4,
    "start_time": "2023-09-16T12:52:14.434Z"
   },
   {
    "duration": 5,
    "start_time": "2023-09-16T12:54:06.223Z"
   },
   {
    "duration": 86,
    "start_time": "2023-09-16T12:58:29.396Z"
   },
   {
    "duration": 8,
    "start_time": "2023-09-16T13:00:57.799Z"
   },
   {
    "duration": 5,
    "start_time": "2023-09-16T13:01:43.411Z"
   },
   {
    "duration": 9,
    "start_time": "2023-09-16T13:02:02.711Z"
   },
   {
    "duration": 4,
    "start_time": "2023-09-16T13:02:08.066Z"
   },
   {
    "duration": 1603,
    "start_time": "2023-09-16T13:03:46.767Z"
   },
   {
    "duration": 6,
    "start_time": "2023-09-16T13:03:54.493Z"
   },
   {
    "duration": 6,
    "start_time": "2023-09-16T13:04:04.802Z"
   },
   {
    "duration": 7,
    "start_time": "2023-09-16T13:04:27.109Z"
   },
   {
    "duration": 75,
    "start_time": "2023-09-16T13:05:24.397Z"
   },
   {
    "duration": 91,
    "start_time": "2023-09-16T13:06:45.801Z"
   },
   {
    "duration": 5,
    "start_time": "2023-09-16T13:07:22.916Z"
   },
   {
    "duration": 5,
    "start_time": "2023-09-16T13:07:33.001Z"
   },
   {
    "duration": 5,
    "start_time": "2023-09-16T13:08:10.509Z"
   },
   {
    "duration": 6,
    "start_time": "2023-09-16T13:08:25.987Z"
   },
   {
    "duration": 9,
    "start_time": "2023-09-16T13:10:15.900Z"
   },
   {
    "duration": 140,
    "start_time": "2023-09-16T13:11:13.623Z"
   },
   {
    "duration": 6,
    "start_time": "2023-09-16T13:11:37.774Z"
   },
   {
    "duration": 5,
    "start_time": "2023-09-16T13:12:38.175Z"
   },
   {
    "duration": 4,
    "start_time": "2023-09-16T13:13:16.614Z"
   },
   {
    "duration": 6,
    "start_time": "2023-09-16T13:13:28.692Z"
   },
   {
    "duration": 7,
    "start_time": "2023-09-16T13:15:11.337Z"
   },
   {
    "duration": 5,
    "start_time": "2023-09-16T13:15:16.545Z"
   },
   {
    "duration": 4,
    "start_time": "2023-09-16T13:15:39.819Z"
   },
   {
    "duration": 6,
    "start_time": "2023-09-16T13:15:56.870Z"
   },
   {
    "duration": 4,
    "start_time": "2023-09-16T13:16:20.205Z"
   },
   {
    "duration": 5,
    "start_time": "2023-09-16T13:18:10.214Z"
   },
   {
    "duration": 5,
    "start_time": "2023-09-16T13:18:17.789Z"
   },
   {
    "duration": 5,
    "start_time": "2023-09-16T13:19:10.988Z"
   },
   {
    "duration": 5,
    "start_time": "2023-09-16T13:19:36.885Z"
   },
   {
    "duration": 5,
    "start_time": "2023-09-16T13:20:21.681Z"
   },
   {
    "duration": 7,
    "start_time": "2023-09-16T13:21:11.283Z"
   },
   {
    "duration": 126,
    "start_time": "2023-09-16T13:24:34.811Z"
   },
   {
    "duration": 6,
    "start_time": "2023-09-16T13:24:56.925Z"
   },
   {
    "duration": 6,
    "start_time": "2023-09-16T13:26:15.491Z"
   },
   {
    "duration": 7,
    "start_time": "2023-09-16T13:26:59.061Z"
   },
   {
    "duration": 6,
    "start_time": "2023-09-16T13:27:34.282Z"
   },
   {
    "duration": 5,
    "start_time": "2023-09-16T13:27:44.392Z"
   },
   {
    "duration": 6,
    "start_time": "2023-09-16T13:27:50.919Z"
   },
   {
    "duration": 4,
    "start_time": "2023-09-16T13:28:46.830Z"
   },
   {
    "duration": 5,
    "start_time": "2023-09-16T13:28:57.339Z"
   },
   {
    "duration": 5,
    "start_time": "2023-09-16T13:29:07.827Z"
   },
   {
    "duration": 4,
    "start_time": "2023-09-16T13:29:20.733Z"
   },
   {
    "duration": 5,
    "start_time": "2023-09-16T13:29:40.869Z"
   },
   {
    "duration": 5,
    "start_time": "2023-09-16T13:29:52.443Z"
   },
   {
    "duration": 8,
    "start_time": "2023-09-16T13:30:22.341Z"
   },
   {
    "duration": 11,
    "start_time": "2023-09-16T13:34:58.968Z"
   },
   {
    "duration": 9,
    "start_time": "2023-09-16T13:35:17.478Z"
   },
   {
    "duration": 15,
    "start_time": "2023-09-16T13:35:28.249Z"
   },
   {
    "duration": 9,
    "start_time": "2023-09-16T13:35:38.941Z"
   },
   {
    "duration": 8,
    "start_time": "2023-09-16T13:35:55.025Z"
   },
   {
    "duration": 13,
    "start_time": "2023-09-16T13:36:09.241Z"
   },
   {
    "duration": 8,
    "start_time": "2023-09-16T13:36:30.963Z"
   },
   {
    "duration": 74,
    "start_time": "2023-09-16T13:37:30.322Z"
   },
   {
    "duration": 10647,
    "start_time": "2023-09-17T07:43:23.697Z"
   },
   {
    "duration": 189,
    "start_time": "2023-09-17T07:43:34.346Z"
   },
   {
    "duration": 219,
    "start_time": "2023-09-17T07:43:34.538Z"
   },
   {
    "duration": 17,
    "start_time": "2023-09-17T07:43:34.876Z"
   },
   {
    "duration": 5,
    "start_time": "2023-09-17T07:43:36.008Z"
   },
   {
    "duration": 5,
    "start_time": "2023-09-17T07:43:36.312Z"
   },
   {
    "duration": 4,
    "start_time": "2023-09-17T07:43:36.596Z"
   },
   {
    "duration": 5,
    "start_time": "2023-09-17T07:43:36.898Z"
   },
   {
    "duration": 5,
    "start_time": "2023-09-17T07:43:37.640Z"
   },
   {
    "duration": 6,
    "start_time": "2023-09-17T07:43:38.082Z"
   },
   {
    "duration": 7,
    "start_time": "2023-09-17T07:43:38.435Z"
   },
   {
    "duration": 86,
    "start_time": "2023-09-17T07:43:38.888Z"
   },
   {
    "duration": 9,
    "start_time": "2023-09-17T07:43:39.083Z"
   },
   {
    "duration": 4,
    "start_time": "2023-09-17T07:43:39.294Z"
   },
   {
    "duration": 5,
    "start_time": "2023-09-17T07:43:39.542Z"
   },
   {
    "duration": 8,
    "start_time": "2023-09-17T07:43:39.814Z"
   },
   {
    "duration": 76,
    "start_time": "2023-09-17T07:43:40.280Z"
   },
   {
    "duration": 10,
    "start_time": "2023-09-17T07:43:40.605Z"
   },
   {
    "duration": 4,
    "start_time": "2023-09-17T07:43:41.280Z"
   },
   {
    "duration": 7,
    "start_time": "2023-09-17T07:43:41.799Z"
   },
   {
    "duration": 6,
    "start_time": "2023-09-17T07:43:42.236Z"
   },
   {
    "duration": 131,
    "start_time": "2023-09-17T07:43:42.828Z"
   },
   {
    "duration": 8,
    "start_time": "2023-09-17T07:43:43.182Z"
   },
   {
    "duration": 5,
    "start_time": "2023-09-17T07:43:43.643Z"
   },
   {
    "duration": 4,
    "start_time": "2023-09-17T07:43:43.988Z"
   },
   {
    "duration": 6,
    "start_time": "2023-09-17T07:43:44.291Z"
   },
   {
    "duration": 8,
    "start_time": "2023-09-17T07:43:44.687Z"
   },
   {
    "duration": 8,
    "start_time": "2023-09-17T07:43:44.978Z"
   },
   {
    "duration": 131,
    "start_time": "2023-09-17T07:43:46.075Z"
   },
   {
    "duration": 8,
    "start_time": "2023-09-17T07:43:47.231Z"
   },
   {
    "duration": 5,
    "start_time": "2023-09-17T07:43:47.580Z"
   },
   {
    "duration": 9,
    "start_time": "2023-09-17T07:43:47.912Z"
   },
   {
    "duration": 8,
    "start_time": "2023-09-17T07:43:48.206Z"
   },
   {
    "duration": 5,
    "start_time": "2023-09-17T07:43:48.481Z"
   },
   {
    "duration": 9,
    "start_time": "2023-09-17T07:43:48.796Z"
   },
   {
    "duration": 79,
    "start_time": "2023-09-17T07:43:51.234Z"
   },
   {
    "duration": 105,
    "start_time": "2023-09-17T07:44:10.392Z"
   },
   {
    "duration": 74,
    "start_time": "2023-09-17T07:47:17.183Z"
   },
   {
    "duration": 89,
    "start_time": "2023-09-17T07:49:26.871Z"
   },
   {
    "duration": 125,
    "start_time": "2023-09-17T07:49:46.297Z"
   },
   {
    "duration": 78,
    "start_time": "2023-09-17T07:57:26.883Z"
   },
   {
    "duration": 75,
    "start_time": "2023-09-17T07:58:13.777Z"
   },
   {
    "duration": 355,
    "start_time": "2023-09-17T08:05:02.087Z"
   },
   {
    "duration": 5,
    "start_time": "2023-09-17T08:05:48.034Z"
   },
   {
    "duration": 242,
    "start_time": "2023-09-17T08:05:48.996Z"
   },
   {
    "duration": 182,
    "start_time": "2023-09-17T08:05:49.916Z"
   },
   {
    "duration": 13,
    "start_time": "2023-09-17T08:05:50.304Z"
   },
   {
    "duration": 5,
    "start_time": "2023-09-17T08:05:51.068Z"
   },
   {
    "duration": 5,
    "start_time": "2023-09-17T08:05:51.415Z"
   },
   {
    "duration": 5,
    "start_time": "2023-09-17T08:05:51.743Z"
   },
   {
    "duration": 6,
    "start_time": "2023-09-17T08:05:52.127Z"
   },
   {
    "duration": 5,
    "start_time": "2023-09-17T08:05:52.461Z"
   },
   {
    "duration": 4,
    "start_time": "2023-09-17T08:05:52.803Z"
   },
   {
    "duration": 81,
    "start_time": "2023-09-17T08:05:53.151Z"
   },
   {
    "duration": 86,
    "start_time": "2023-09-17T08:05:53.944Z"
   },
   {
    "duration": 7,
    "start_time": "2023-09-17T08:05:54.412Z"
   },
   {
    "duration": 4,
    "start_time": "2023-09-17T08:05:54.981Z"
   },
   {
    "duration": 5,
    "start_time": "2023-09-17T08:05:55.353Z"
   },
   {
    "duration": 6,
    "start_time": "2023-09-17T08:05:55.591Z"
   },
   {
    "duration": 76,
    "start_time": "2023-09-17T08:05:56.323Z"
   },
   {
    "duration": 109,
    "start_time": "2023-09-17T08:05:56.584Z"
   },
   {
    "duration": 4,
    "start_time": "2023-09-17T08:05:56.846Z"
   },
   {
    "duration": 5,
    "start_time": "2023-09-17T08:05:57.077Z"
   },
   {
    "duration": 7,
    "start_time": "2023-09-17T08:05:57.288Z"
   },
   {
    "duration": 130,
    "start_time": "2023-09-17T08:05:57.969Z"
   },
   {
    "duration": 8,
    "start_time": "2023-09-17T08:05:58.565Z"
   },
   {
    "duration": 5,
    "start_time": "2023-09-17T08:05:59.025Z"
   },
   {
    "duration": 5,
    "start_time": "2023-09-17T08:05:59.398Z"
   },
   {
    "duration": 7,
    "start_time": "2023-09-17T08:05:59.715Z"
   },
   {
    "duration": 5,
    "start_time": "2023-09-17T08:06:00.048Z"
   },
   {
    "duration": 8,
    "start_time": "2023-09-17T08:06:00.384Z"
   },
   {
    "duration": 127,
    "start_time": "2023-09-17T08:06:01.037Z"
   },
   {
    "duration": 9,
    "start_time": "2023-09-17T08:06:01.490Z"
   },
   {
    "duration": 8,
    "start_time": "2023-09-17T08:06:02.012Z"
   },
   {
    "duration": 6,
    "start_time": "2023-09-17T08:06:02.467Z"
   },
   {
    "duration": 6,
    "start_time": "2023-09-17T08:06:02.877Z"
   },
   {
    "duration": 7,
    "start_time": "2023-09-17T08:06:03.391Z"
   },
   {
    "duration": 11,
    "start_time": "2023-09-17T08:06:03.840Z"
   },
   {
    "duration": 72,
    "start_time": "2023-09-17T08:06:05.045Z"
   },
   {
    "duration": 236,
    "start_time": "2023-09-17T08:06:06.053Z"
   },
   {
    "duration": 92,
    "start_time": "2023-09-17T08:06:24.248Z"
   },
   {
    "duration": 244,
    "start_time": "2023-09-17T08:06:44.392Z"
   },
   {
    "duration": 155,
    "start_time": "2023-09-17T08:06:48.623Z"
   },
   {
    "duration": 110,
    "start_time": "2023-09-17T08:06:55.200Z"
   },
   {
    "duration": 96,
    "start_time": "2023-09-17T08:09:12.951Z"
   },
   {
    "duration": 123,
    "start_time": "2023-09-17T08:13:13.643Z"
   },
   {
    "duration": 133,
    "start_time": "2023-09-17T08:15:27.930Z"
   },
   {
    "duration": 16800,
    "start_time": "2023-09-17T17:05:52.022Z"
   },
   {
    "duration": 189,
    "start_time": "2023-09-17T17:06:08.825Z"
   },
   {
    "duration": 180,
    "start_time": "2023-09-17T17:06:09.017Z"
   },
   {
    "duration": 19,
    "start_time": "2023-09-17T17:06:09.199Z"
   },
   {
    "duration": 24,
    "start_time": "2023-09-17T17:06:09.222Z"
   },
   {
    "duration": 35,
    "start_time": "2023-09-17T17:06:09.247Z"
   },
   {
    "duration": 8,
    "start_time": "2023-09-17T17:06:09.284Z"
   },
   {
    "duration": 16,
    "start_time": "2023-09-17T17:06:09.294Z"
   },
   {
    "duration": 13,
    "start_time": "2023-09-17T17:06:09.312Z"
   },
   {
    "duration": 8,
    "start_time": "2023-09-17T17:06:09.327Z"
   },
   {
    "duration": 28,
    "start_time": "2023-09-17T17:06:09.337Z"
   },
   {
    "duration": 94,
    "start_time": "2023-09-17T17:06:09.367Z"
   },
   {
    "duration": 9,
    "start_time": "2023-09-17T17:06:09.463Z"
   },
   {
    "duration": 6,
    "start_time": "2023-09-17T17:06:09.477Z"
   },
   {
    "duration": 18,
    "start_time": "2023-09-17T17:06:09.485Z"
   },
   {
    "duration": 20,
    "start_time": "2023-09-17T17:06:09.505Z"
   },
   {
    "duration": 97,
    "start_time": "2023-09-17T17:06:09.528Z"
   },
   {
    "duration": 7,
    "start_time": "2023-09-17T17:06:09.627Z"
   },
   {
    "duration": 31,
    "start_time": "2023-09-17T17:06:09.636Z"
   },
   {
    "duration": 20,
    "start_time": "2023-09-17T17:06:09.668Z"
   },
   {
    "duration": 24,
    "start_time": "2023-09-17T17:06:09.690Z"
   },
   {
    "duration": 121,
    "start_time": "2023-09-17T17:06:09.716Z"
   },
   {
    "duration": 8,
    "start_time": "2023-09-17T17:06:09.839Z"
   },
   {
    "duration": 38,
    "start_time": "2023-09-17T17:06:09.849Z"
   },
   {
    "duration": 31,
    "start_time": "2023-09-17T17:06:09.889Z"
   },
   {
    "duration": 11,
    "start_time": "2023-09-17T17:06:09.922Z"
   },
   {
    "duration": 27,
    "start_time": "2023-09-17T17:06:09.935Z"
   },
   {
    "duration": 16,
    "start_time": "2023-09-17T17:06:09.964Z"
   },
   {
    "duration": 105,
    "start_time": "2023-09-17T17:06:09.981Z"
   },
   {
    "duration": 9,
    "start_time": "2023-09-17T17:06:10.088Z"
   },
   {
    "duration": 144,
    "start_time": "2023-09-17T17:06:10.098Z"
   },
   {
    "duration": 28,
    "start_time": "2023-09-17T17:06:10.243Z"
   },
   {
    "duration": 88,
    "start_time": "2023-09-17T17:06:10.272Z"
   },
   {
    "duration": 156,
    "start_time": "2023-09-17T17:06:10.362Z"
   },
   {
    "duration": 37,
    "start_time": "2023-09-17T17:06:10.521Z"
   },
   {
    "duration": 100,
    "start_time": "2023-09-17T17:06:10.560Z"
   },
   {
    "duration": 98,
    "start_time": "2023-09-17T17:06:10.662Z"
   },
   {
    "duration": 77,
    "start_time": "2023-09-17T17:06:10.761Z"
   },
   {
    "duration": 82,
    "start_time": "2023-09-17T17:06:10.840Z"
   },
   {
    "duration": 73,
    "start_time": "2023-09-17T17:06:10.924Z"
   },
   {
    "duration": 59,
    "start_time": "2023-09-17T19:30:34.969Z"
   },
   {
    "duration": 11520,
    "start_time": "2023-09-17T19:30:43.307Z"
   },
   {
    "duration": 207,
    "start_time": "2023-09-17T19:30:54.829Z"
   },
   {
    "duration": 208,
    "start_time": "2023-09-17T19:30:55.038Z"
   },
   {
    "duration": 19,
    "start_time": "2023-09-17T19:30:55.248Z"
   },
   {
    "duration": 7,
    "start_time": "2023-09-17T19:30:55.270Z"
   },
   {
    "duration": 4,
    "start_time": "2023-09-17T19:30:55.279Z"
   },
   {
    "duration": 7,
    "start_time": "2023-09-17T19:30:55.285Z"
   },
   {
    "duration": 4,
    "start_time": "2023-09-17T19:30:55.294Z"
   },
   {
    "duration": 8,
    "start_time": "2023-09-17T19:30:55.299Z"
   },
   {
    "duration": 7,
    "start_time": "2023-09-17T19:30:55.309Z"
   },
   {
    "duration": 19,
    "start_time": "2023-09-17T19:30:55.317Z"
   },
   {
    "duration": 103,
    "start_time": "2023-09-17T19:30:55.338Z"
   },
   {
    "duration": 9,
    "start_time": "2023-09-17T19:30:55.443Z"
   },
   {
    "duration": 10,
    "start_time": "2023-09-17T19:30:55.459Z"
   },
   {
    "duration": 9,
    "start_time": "2023-09-17T19:30:55.472Z"
   },
   {
    "duration": 10,
    "start_time": "2023-09-17T19:30:55.482Z"
   },
   {
    "duration": 102,
    "start_time": "2023-09-17T19:30:55.494Z"
   },
   {
    "duration": 6,
    "start_time": "2023-09-17T19:30:55.597Z"
   },
   {
    "duration": 15,
    "start_time": "2023-09-17T19:30:55.604Z"
   },
   {
    "duration": 13,
    "start_time": "2023-09-17T19:30:55.620Z"
   },
   {
    "duration": 26,
    "start_time": "2023-09-17T19:30:55.634Z"
   },
   {
    "duration": 127,
    "start_time": "2023-09-17T19:30:55.662Z"
   },
   {
    "duration": 7,
    "start_time": "2023-09-17T19:30:55.791Z"
   },
   {
    "duration": 43,
    "start_time": "2023-09-17T19:30:55.799Z"
   },
   {
    "duration": 21,
    "start_time": "2023-09-17T19:30:55.843Z"
   },
   {
    "duration": 7,
    "start_time": "2023-09-17T19:30:55.865Z"
   },
   {
    "duration": 11,
    "start_time": "2023-09-17T19:30:55.874Z"
   },
   {
    "duration": 8,
    "start_time": "2023-09-17T19:30:55.888Z"
   },
   {
    "duration": 111,
    "start_time": "2023-09-17T19:30:55.897Z"
   },
   {
    "duration": 8,
    "start_time": "2023-09-17T19:30:56.010Z"
   },
   {
    "duration": 28,
    "start_time": "2023-09-17T19:30:56.020Z"
   },
   {
    "duration": 16,
    "start_time": "2023-09-17T19:30:56.063Z"
   },
   {
    "duration": 7,
    "start_time": "2023-09-17T19:30:56.084Z"
   },
   {
    "duration": 18,
    "start_time": "2023-09-17T19:30:56.093Z"
   },
   {
    "duration": 6,
    "start_time": "2023-09-17T19:30:56.524Z"
   },
   {
    "duration": 93,
    "start_time": "2023-09-17T19:30:58.885Z"
   },
   {
    "duration": 247,
    "start_time": "2023-09-17T19:31:01.374Z"
   },
   {
    "duration": 88,
    "start_time": "2023-09-17T19:31:12.500Z"
   },
   {
    "duration": 88,
    "start_time": "2023-09-17T19:31:13.233Z"
   },
   {
    "duration": 74,
    "start_time": "2023-09-17T19:31:14.671Z"
   },
   {
    "duration": 130,
    "start_time": "2023-09-17T19:31:34.875Z"
   },
   {
    "duration": 119,
    "start_time": "2023-09-17T19:31:59.397Z"
   },
   {
    "duration": 151,
    "start_time": "2023-09-17T19:32:05.343Z"
   },
   {
    "duration": 132,
    "start_time": "2023-09-17T19:33:32.329Z"
   }
  ],
  "kernelspec": {
   "display_name": "Python 3 (ipykernel)",
   "language": "python",
   "name": "python3"
  },
  "language_info": {
   "codemirror_mode": {
    "name": "ipython",
    "version": 3
   },
   "file_extension": ".py",
   "mimetype": "text/x-python",
   "name": "python",
   "nbconvert_exporter": "python",
   "pygments_lexer": "ipython3",
   "version": "3.9.5"
  },
  "toc": {
   "base_numbering": 1,
   "nav_menu": {},
   "number_sections": true,
   "sideBar": true,
   "skip_h1_title": true,
   "title_cell": "Table of Contents",
   "title_sidebar": "Contents",
   "toc_cell": false,
   "toc_position": {},
   "toc_section_display": true,
   "toc_window_display": true
  }
 },
 "nbformat": 4,
 "nbformat_minor": 2
}
